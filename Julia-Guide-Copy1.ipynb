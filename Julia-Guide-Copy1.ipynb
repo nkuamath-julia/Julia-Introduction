{
 "cells": [
  {
   "cell_type": "markdown",
   "metadata": {},
   "source": [
    "# <p>&nbsp;</p><br><center> ΟΔΗΓΟΣ <br> ΧΡΗΣΗΣ ΤΗΣ ΓΛΩΣΣΑΣ <br> JULIA </center> <br><br><p>&nbsp;</p>\n",
    "\n",
    "## <center>Αναστασία-Ευτέρπη Ψήτου</center> <p>&nbsp;</p><br><p>&nbsp;</p>\n",
    "\n",
    "### <center>Στα πλαίσια του μαθήματος <br><br> Λογισμός Πινάκων και Εφαρμογές <p>&nbsp;</p><br><br><br> Διδάσκουσα: Μαριλένα Μητρούλη <p>&nbsp;</p><br> Εαρινό Εξάμηνο 2021</center> <p>&nbsp;</p><p>&nbsp;</p><p>&nbsp;</p><p>&nbsp;</p><p>&nbsp;</p><br>"
   ]
  },
  {
   "cell_type": "markdown",
   "metadata": {},
   "source": [
    "# [Julia](https://julialang.org/)\n",
    "\n",
    "\n",
    "\n",
    "### Εισαγωγή\n",
    "\n",
    "Η Julia είναι μια high-level, high-performance, δυναμική γλώσσα προγραμματισμού.\n",
    "\n",
    "Πρωτοεμφανίστηκε ως ιδέα το 2009 και ξεκινήσε να αναπτύσσεται το 2012 από τους ερευνητές του MIT's CSAIL (Computer Science and Artificial Intelligence Lab) ως demo (Julia 0.X), ενώ τον Αύγουστο του 2018 απέκτησε stable release (Julia 1.X), με την πιο πρόσφατη έκδοση του να είναι η Julia 1.5.3.(9/11/2020)\n",
    "\n",
    "H Julia ως general-purpose γλώσσα προγραμματισμού, που μπορεί να χρησιμοποιηθεί και για τη δημιουργία εφαρμογών, χρίζεται καταλλήλη για την υπολογιστική επιστημή και την αριθμητική ανάλυση.\n",
    "\n",
    "Επιπρόσθετα χαρακτηριστικά:\n",
    "\n",
    "   - Technical\n",
    "   - Optionally typed\n",
    "   - Reproducible\n",
    "   - Composable\n",
    "   - Open source\n",
    "\n",
    "Αξίζει να σημειωθεί ότι, η Julia 1.X αποδίδει συγκρίσιμες ταχύτητες με τη C++, με την υψηλή αποδοτικότητα και ευκολία χρήσης της Python και R, καθώς επίσης αναγνωρίζει βιβλιοθήκες από άλλες γλώσσες προγραμματισμού, όπως της Python, R, C, C++, Fortran και Java. Επιπλέον, χρησιμοποιεί εντατική αξιολόγηση, είναι garbage-collected και περιέχει αποτελεσματικές βιβλιοθηκές για υπολογισμούς floating-point, γραμμικής άλγεβρας, γεννήτριας τυχαίων αριθμών και αντιστοιχείας κανονικών εκφράσεων(regular expression matching). \n",
    "\n",
    "[Οδηγός Εγκατάστασης](https://eclass.uoa.gr/modules/document/file.php/MATH682/Julia/Julia_installation.pdf)\n",
    "\n",
    "Σύνδεσμοι Εγκατάστασης:\n",
    "\n",
    "1. [Julia standalone](https://julialang.org/downloads/)\n",
    "2. [Julia pro](https://juliacomputing.com/products/juliapro/)\n",
    "\n",
    "Μερικά Editors και IDEs:\n",
    "\n",
    "- [Juno](https://junolab.org/)\n",
    "- [VS Code](https://code.visualstudio.com/)\n",
    "- [Jupyter](https://jupyter.org/)\n",
    "- [NotePad++](https://notepad-plus-plus.org/)"
   ]
  },
  {
   "cell_type": "markdown",
   "metadata": {},
   "source": [
    "## Βασικές γνώσεις Julia"
   ]
  },
  {
   "cell_type": "markdown",
   "metadata": {},
   "source": [
    "### Script\n",
    "\n",
    "Τα προγράμματα στην Julia αποθηκεύονται στη μορφή: __όνομα_προγράμματος.jl__"
   ]
  },
  {
   "cell_type": "markdown",
   "metadata": {},
   "source": [
    "### Αριθμοί και Αριθμητικοί τελεστές\n",
    "\n",
    "- Πρόσθεση = `+`"
   ]
  },
  {
   "cell_type": "code",
   "execution_count": 1,
   "metadata": {
    "scrolled": true
   },
   "outputs": [
    {
     "data": {
      "text/plain": [
       "7"
      ]
     },
     "execution_count": 1,
     "metadata": {},
     "output_type": "execute_result"
    }
   ],
   "source": [
    "2 + 5 "
   ]
  },
  {
   "cell_type": "markdown",
   "metadata": {},
   "source": [
    "- Αφαίρεση = `-`"
   ]
  },
  {
   "cell_type": "code",
   "execution_count": 2,
   "metadata": {},
   "outputs": [
    {
     "data": {
      "text/plain": [
       "-3"
      ]
     },
     "execution_count": 2,
     "metadata": {},
     "output_type": "execute_result"
    }
   ],
   "source": [
    "2 - 5"
   ]
  },
  {
   "cell_type": "markdown",
   "metadata": {},
   "source": [
    "- Πολλαπλασιασμός = `*`"
   ]
  },
  {
   "cell_type": "code",
   "execution_count": 3,
   "metadata": {},
   "outputs": [
    {
     "data": {
      "text/plain": [
       "10"
      ]
     },
     "execution_count": 3,
     "metadata": {},
     "output_type": "execute_result"
    }
   ],
   "source": [
    "2 * 5"
   ]
  },
  {
   "cell_type": "markdown",
   "metadata": {},
   "source": [
    "- Διαίρεση = `/`"
   ]
  },
  {
   "cell_type": "code",
   "execution_count": 4,
   "metadata": {},
   "outputs": [
    {
     "data": {
      "text/plain": [
       "0.4"
      ]
     },
     "execution_count": 4,
     "metadata": {},
     "output_type": "execute_result"
    }
   ],
   "source": [
    "2 / 5"
   ]
  },
  {
   "cell_type": "markdown",
   "metadata": {},
   "source": [
    "- Ύψωση σε κάποια δύναμη = `^`"
   ]
  },
  {
   "cell_type": "code",
   "execution_count": 5,
   "metadata": {},
   "outputs": [
    {
     "data": {
      "text/plain": [
       "32"
      ]
     },
     "execution_count": 5,
     "metadata": {},
     "output_type": "execute_result"
    }
   ],
   "source": [
    "2 ^ 5"
   ]
  },
  {
   "cell_type": "markdown",
   "metadata": {},
   "source": [
    "- Floor division = `\\div TAB` (διαίρεση δύο αριθμών και στρογγυλοποίηση του αποτελέσματος προς στον μικρότερο ακέραιο.)"
   ]
  },
  {
   "cell_type": "code",
   "execution_count": 6,
   "metadata": {},
   "outputs": [
    {
     "data": {
      "text/plain": [
       "10"
      ]
     },
     "execution_count": 6,
     "metadata": {},
     "output_type": "execute_result"
    }
   ],
   "source": [
    "54 ÷ 5"
   ]
  },
  {
   "cell_type": "markdown",
   "metadata": {},
   "source": [
    "- Modulus = `%` "
   ]
  },
  {
   "cell_type": "code",
   "execution_count": 7,
   "metadata": {},
   "outputs": [
    {
     "data": {
      "text/plain": [
       "4"
      ]
     },
     "execution_count": 7,
     "metadata": {},
     "output_type": "execute_result"
    }
   ],
   "source": [
    "54 % 5"
   ]
  },
  {
   "cell_type": "markdown",
   "metadata": {},
   "source": [
    "#### Ιδιαίτεροι Αριθμοί\n",
    "\n",
    "- Για να ξεχωρίσουμε ψηφία πολύ μεγάλων αριθμών χρησιμοποιούμε την \" _ \" (κάτω παύλα), δηλαδή για τον αριθμό 123.456, τον συμβολίζουμε ως `123_456` και όχι 123.456 ή 123,456.\n",
    "\n",
    "- Ο αριθμός π ≃ 3.14 στην Julia καλείται ως: `\\pi TAB` _(γράφουμε \\pi και πατάμε TAB button)_\n",
    "\n",
    "- Ο αριθμος ε > 0 στην Julia καλείται ως: `\\varepsilon TAB` _(γράφουμε \\varepsilon και πατάμε TAB button)_"
   ]
  },
  {
   "cell_type": "markdown",
   "metadata": {},
   "source": [
    "### Συμβολοσειρές\n",
    "\n",
    "- Είναι της μορφής: `\"Hello world!!\"` ή `\"\"\"Hello world!!\"\"\"`"
   ]
  },
  {
   "cell_type": "code",
   "execution_count": 8,
   "metadata": {
    "scrolled": true
   },
   "outputs": [
    {
     "data": {
      "text/plain": [
       "\"Hello world!!\""
      ]
     },
     "execution_count": 8,
     "metadata": {},
     "output_type": "execute_result"
    }
   ],
   "source": [
    "\"Hello world!!\""
   ]
  },
  {
   "cell_type": "code",
   "execution_count": 9,
   "metadata": {},
   "outputs": [
    {
     "data": {
      "text/plain": [
       "\"Hello wordl!!\""
      ]
     },
     "execution_count": 9,
     "metadata": {},
     "output_type": "execute_result"
    }
   ],
   "source": [
    "\"\"\"Hello wordl!!\"\"\""
   ]
  },
  {
   "cell_type": "markdown",
   "metadata": {},
   "source": [
    "- Αποτελούνται απο χαρακτήρες του Unicode."
   ]
  },
  {
   "cell_type": "code",
   "execution_count": 10,
   "metadata": {},
   "outputs": [
    {
     "data": {
      "text/plain": [
       "'H': ASCII/Unicode U+0048 (category Lu: Letter, uppercase)"
      ]
     },
     "execution_count": 10,
     "metadata": {},
     "output_type": "execute_result"
    }
   ],
   "source": [
    "x = \"Hello world!!\"\n",
    "x[1]"
   ]
  },
  {
   "cell_type": "markdown",
   "metadata": {},
   "source": [
    "- Μπορούν να αναγνωρίσουν τους αριθμητικούς τελεστές * και ^, όπου * στις συμβολοσειρές ερμηνεύεται ως ένωση συμβολοσειρών και  ^ ως επανάληψη συμβολοσειράς."
   ]
  },
  {
   "cell_type": "code",
   "execution_count": 13,
   "metadata": {},
   "outputs": [
    {
     "data": {
      "text/plain": [
       "\"HelloWorld\""
      ]
     },
     "execution_count": 13,
     "metadata": {},
     "output_type": "execute_result"
    }
   ],
   "source": [
    "\"Hello\" * \"World\""
   ]
  },
  {
   "cell_type": "code",
   "execution_count": 14,
   "metadata": {
    "scrolled": true
   },
   "outputs": [
    {
     "data": {
      "text/plain": [
       "\"SpamSpamSpamSpamSpam\""
      ]
     },
     "execution_count": 14,
     "metadata": {},
     "output_type": "execute_result"
    }
   ],
   "source": [
    "\"Spam\"^5"
   ]
  },
  {
   "cell_type": "markdown",
   "metadata": {},
   "source": [
    "- Μπορούμε να επιλέξουμε συγκεκρίμενα τμήματα συμβολοσειρών.\n",
    "    - x[n] = o n-οστος χαρακτήρας της συμβολοσειράς του x.\n",
    "    - x[n:m] = από τον n εως και τον m χαρακτήρα του x."
   ]
  },
  {
   "cell_type": "code",
   "execution_count": 15,
   "metadata": {},
   "outputs": [
    {
     "data": {
      "text/plain": [
       "\"Hello\""
      ]
     },
     "execution_count": 15,
     "metadata": {},
     "output_type": "execute_result"
    }
   ],
   "source": [
    "#x[1:5] = από τον 1o εως και τον 5o χαρακτήρα του x.\n",
    "x = \"Hello world!!\"\n",
    "x[1:5]"
   ]
  },
  {
   "cell_type": "markdown",
   "metadata": {},
   "source": [
    "- Είναι αμετάβλητες, δηλαδή δεν μπορούμε να τις τροποιήσουμε."
   ]
  },
  {
   "cell_type": "code",
   "execution_count": 16,
   "metadata": {
    "scrolled": true
   },
   "outputs": [
    {
     "ename": "LoadError",
     "evalue": "\u001b[91mMethodError: no method matching setindex!(::String, ::Char, ::Int64)\u001b[39m",
     "output_type": "error",
     "traceback": [
      "\u001b[91mMethodError: no method matching setindex!(::String, ::Char, ::Int64)\u001b[39m",
      "",
      "Stacktrace:",
      " [1] top-level scope at In[16]:3",
      " [2] include_string(::Function, ::Module, ::String, ::String) at .\\loading.jl:1091"
     ]
    }
   ],
   "source": [
    "#\"Hello world\" σε \"Hallo world\" (δεν πραγματοποιείται)\n",
    "x = \"Hello world!!\"\n",
    "x[2] = 'a'"
   ]
  },
  {
   "cell_type": "code",
   "execution_count": 17,
   "metadata": {},
   "outputs": [
    {
     "data": {
      "text/plain": [
       "\"Hallo world!!\""
      ]
     },
     "execution_count": 17,
     "metadata": {},
     "output_type": "execute_result"
    }
   ],
   "source": [
    "#To καλύτερο που μπορούμε να κάνουμε είναι να φτιάξουμε μια καινούρια συμβολοσειρά μέσω της x.\n",
    "x = \"Hello world!!\"\n",
    "y = x[1] * \"a\" * x[3:end]"
   ]
  },
  {
   "cell_type": "markdown",
   "metadata": {},
   "source": [
    "Υπάρχουν και emojis, όπως 🍎 `\\:apple: TAB` και 😄 `\\:smile: TAB`\n"
   ]
  },
  {
   "cell_type": "markdown",
   "metadata": {},
   "source": [
    "## Boolean"
   ]
  },
  {
   "cell_type": "markdown",
   "metadata": {},
   "source": [
    "### Εκφράσεις\n",
    "\n",
    "- Ισότητα = `==`\n",
    "\n",
    "- Διαφορά = `!=` ή `\\ne TAB`\n",
    "\n",
    "- Συγκρίσεις = `<`, `>`, `<=` ή `\\le TAB`, `>=` ή `\\ge TAB`  "
   ]
  },
  {
   "cell_type": "code",
   "execution_count": 18,
   "metadata": {},
   "outputs": [
    {
     "data": {
      "text/plain": [
       "true"
      ]
     },
     "execution_count": 18,
     "metadata": {},
     "output_type": "execute_result"
    }
   ],
   "source": [
    "5 ≠ 2 "
   ]
  },
  {
   "cell_type": "code",
   "execution_count": 19,
   "metadata": {
    "scrolled": true
   },
   "outputs": [
    {
     "data": {
      "text/plain": [
       "false"
      ]
     },
     "execution_count": 19,
     "metadata": {},
     "output_type": "execute_result"
    }
   ],
   "source": [
    "\"apple\" ≥ \"newton\""
   ]
  },
  {
   "cell_type": "markdown",
   "metadata": {},
   "source": [
    "### Λογικοί Τελεστές\n",
    "\n",
    "- και = `&&`\n",
    "\n",
    "- ή = `||`\n",
    "\n",
    "- άρνηση = `!`"
   ]
  },
  {
   "cell_type": "code",
   "execution_count": 20,
   "metadata": {},
   "outputs": [
    {
     "data": {
      "text/plain": [
       "true"
      ]
     },
     "execution_count": 20,
     "metadata": {},
     "output_type": "execute_result"
    }
   ],
   "source": [
    "!(5 == 3) && (5 > 2) "
   ]
  },
  {
   "cell_type": "markdown",
   "metadata": {},
   "source": [
    "### Επιπρόσθετοι Τελεστές\n",
    "\n",
    "- x ∈ y = `x \\in TAB y` = επιστρέφει true αν o x χαρακτήρας ανήκει στην συμβολοσειρά y.\n",
    "\n",
    "- x ∉ y = `x \\notin TAB y` = επιστρέφει true αν x χαρακτήρας δεν ανήκει στην συμβολοσειρά y.\n",
    "\n",
    "- x ≡ y = `x \\equiv TAB y` ή  `x === y` = επιστρέφει true αν δύο μεταβλητές x και y αναφέρονται στο ίδιο αντικείμενο."
   ]
  },
  {
   "cell_type": "code",
   "execution_count": 21,
   "metadata": {},
   "outputs": [
    {
     "data": {
      "text/plain": [
       "true"
      ]
     },
     "execution_count": 21,
     "metadata": {},
     "output_type": "execute_result"
    }
   ],
   "source": [
    "'o' ∈ \"world\""
   ]
  },
  {
   "cell_type": "markdown",
   "metadata": {},
   "source": [
    "\n",
    "Μπορούμε επίσης να ελέγξουμε το τύπο κάποιου στοιχείου μέσω της συνάρτησης typeof(στοιχείο).\n",
    "\n",
    "Δηλαδή, `typeof(x)` = επιστρέφει το τύπο του x."
   ]
  },
  {
   "cell_type": "code",
   "execution_count": 22,
   "metadata": {},
   "outputs": [
    {
     "data": {
      "text/plain": [
       "Int64"
      ]
     },
     "execution_count": 22,
     "metadata": {},
     "output_type": "execute_result"
    }
   ],
   "source": [
    "#Integer, Ακέραιος αριθμός\n",
    "typeof(2)"
   ]
  },
  {
   "cell_type": "code",
   "execution_count": 23,
   "metadata": {},
   "outputs": [
    {
     "data": {
      "text/plain": [
       "Float64"
      ]
     },
     "execution_count": 23,
     "metadata": {},
     "output_type": "execute_result"
    }
   ],
   "source": [
    "#Floating-point number, Αριθμός κινητής υποδιαστολής\n",
    "typeof(2.5)"
   ]
  },
  {
   "cell_type": "code",
   "execution_count": 24,
   "metadata": {},
   "outputs": [
    {
     "data": {
      "text/plain": [
       "String"
      ]
     },
     "execution_count": 24,
     "metadata": {},
     "output_type": "execute_result"
    }
   ],
   "source": [
    "#\"κείμενο\" = συμβολοσειρά\n",
    "typeof(\"Hello world!!\")"
   ]
  },
  {
   "cell_type": "code",
   "execution_count": 25,
   "metadata": {},
   "outputs": [
    {
     "data": {
      "text/plain": [
       "String"
      ]
     },
     "execution_count": 25,
     "metadata": {},
     "output_type": "execute_result"
    }
   ],
   "source": [
    "#\"κείμενο\" = συμβολοσειρά\n",
    "typeof(\"2.5\")"
   ]
  },
  {
   "cell_type": "code",
   "execution_count": 26,
   "metadata": {},
   "outputs": [
    {
     "data": {
      "text/plain": [
       "Bool"
      ]
     },
     "execution_count": 26,
     "metadata": {},
     "output_type": "execute_result"
    }
   ],
   "source": [
    "#Boolean τύπος\n",
    "typeof(true)"
   ]
  },
  {
   "cell_type": "code",
   "execution_count": 27,
   "metadata": {},
   "outputs": [
    {
     "data": {
      "text/plain": [
       "Array{Any,1}"
      ]
     },
     "execution_count": 27,
     "metadata": {},
     "output_type": "execute_result"
    }
   ],
   "source": [
    "#Array\n",
    "typeof([25, 32, \"42\", [10, 21]])"
   ]
  },
  {
   "cell_type": "markdown",
   "metadata": {},
   "source": [
    "- `x :: Type` = ελέγχει αν το x είναι συγκεκριμένου τύπου. _Χρησιμοποιείται πολύ στις συναρτήσεις και στα structs._"
   ]
  },
  {
   "cell_type": "code",
   "execution_count": 28,
   "metadata": {
    "scrolled": true
   },
   "outputs": [
    {
     "ename": "LoadError",
     "evalue": "\u001b[91mTypeError: in typeassert, expected Float64, got a value of type Int64\u001b[39m",
     "output_type": "error",
     "traceback": [
      "\u001b[91mTypeError: in typeassert, expected Float64, got a value of type Int64\u001b[39m",
      "",
      "Stacktrace:",
      " [1] top-level scope at In[28]:2",
      " [2] include_string(::Function, ::Module, ::String, ::String) at .\\loading.jl:1091"
     ]
    }
   ],
   "source": [
    "#Έλεγχος του τ΄υπου\n",
    "(2 + 3) :: Float64"
   ]
  },
  {
   "cell_type": "code",
   "execution_count": 29,
   "metadata": {},
   "outputs": [
    {
     "data": {
      "text/plain": [
       "5.2"
      ]
     },
     "execution_count": 29,
     "metadata": {},
     "output_type": "execute_result"
    }
   ],
   "source": [
    "(2.0 + 3.2) :: Float64"
   ]
  },
  {
   "cell_type": "markdown",
   "metadata": {},
   "source": [
    "### Μεταβλητές\n",
    "\n",
    "- μεταβλητή = έκφραση"
   ]
  },
  {
   "cell_type": "code",
   "execution_count": 32,
   "metadata": {},
   "outputs": [
    {
     "data": {
      "text/plain": [
       "\"Kwstas\""
      ]
     },
     "execution_count": 32,
     "metadata": {},
     "output_type": "execute_result"
    }
   ],
   "source": [
    "name1_andras = \"Kwstas\""
   ]
  },
  {
   "cell_type": "markdown",
   "metadata": {},
   "source": [
    "- Τα ονόματα μεταβλητών μπορούν να αποτελούνται από σχεδόν όλους τους Unicode χαρακτήρες (κεφαλαία και μικρά γράμματα) και από την \" _ \" (κάτω παύλα), δεν πρέπει να ξεκινούν με κάποιον αριθμό, μπορούν ωστόσο να τον περιέχουν. Προσοχή τα ονόματα των μεταβλητών δεν πρέπει να είναι λέξεις \"κλειδιά\", δηλαδή true, false, struct, return, etc. λέξεις με κάποια χαρακτηριστική ιδιότητα. _Συνήθως τις ξεχωρίζουμε καθώς αποκτούν χρώμα στον editor_."
   ]
  },
  {
   "cell_type": "code",
   "execution_count": 30,
   "metadata": {},
   "outputs": [
    {
     "ename": "LoadError",
     "evalue": "\u001b[91msyntax: \"123\" is not a valid function argument name around In[30]:1\u001b[39m",
     "output_type": "error",
     "traceback": [
      "\u001b[91msyntax: \"123\" is not a valid function argument name around In[30]:1\u001b[39m",
      "",
      "Stacktrace:",
      " [1] top-level scope at In[30]:1",
      " [2] include_string(::Function, ::Module, ::String, ::String) at .\\loading.jl:1091"
     ]
    }
   ],
   "source": [
    "123name = \"Kwstas\""
   ]
  },
  {
   "cell_type": "code",
   "execution_count": 31,
   "metadata": {
    "scrolled": false
   },
   "outputs": [
    {
     "ename": "LoadError",
     "evalue": "\u001b[91msyntax: unexpected \"=\"\u001b[39m",
     "output_type": "error",
     "traceback": [
      "\u001b[91msyntax: unexpected \"=\"\u001b[39m",
      "",
      "Stacktrace:",
      " [1] top-level scope at In[31]:1",
      " [2] include_string(::Function, ::Module, ::String, ::String) at .\\loading.jl:1091"
     ]
    }
   ],
   "source": [
    "struct = 25"
   ]
  },
  {
   "cell_type": "markdown",
   "metadata": {},
   "source": [
    "- Μπορούν να αποκτήσουν και τις εξής μορφές: \n",
    "    - x₁ = `x\\_1 TAB` \n",
    "    \n",
    "    - y² = `y\\^2 TAB` "
   ]
  },
  {
   "cell_type": "markdown",
   "metadata": {},
   "source": [
    "- Αλλαγή έκφραση μεταβλητής:"
   ]
  },
  {
   "cell_type": "code",
   "execution_count": 33,
   "metadata": {},
   "outputs": [
    {
     "name": "stdout",
     "output_type": "stream",
     "text": [
      "x = 4\n",
      "y = 1\n",
      "x = yes\n"
     ]
    },
    {
     "ename": "LoadError",
     "evalue": "\u001b[91mUndefVarError: z not defined\u001b[39m",
     "output_type": "error",
     "traceback": [
      "\u001b[91mUndefVarError: z not defined\u001b[39m",
      "",
      "Stacktrace:",
      " [1] top-level scope at In[33]:13",
      " [2] include_string(::Function, ::Module, ::String, ::String) at .\\loading.jl:1091"
     ]
    }
   ],
   "source": [
    "#Απλά παραδείγματα.\n",
    "x = 3\n",
    "y = 5\n",
    "x += 1 #x = x + 1\n",
    "y -= x #y = y - x\n",
    "println(\"x = \", x)\n",
    "println(\"y = \", y)\n",
    "\n",
    "x = \"yes\"\n",
    "println(\"x = \", x)\n",
    "\n",
    "#undefined, σημαίνει ότι δεν έχει οριστεί η μεταβλητή.\n",
    "println(z)"
   ]
  },
  {
   "cell_type": "markdown",
   "metadata": {},
   "source": [
    "### Έλεγχος συνθηκών\n",
    "\n",
    "Πραγματοποιείται με την εντολή `if`."
   ]
  },
  {
   "cell_type": "markdown",
   "metadata": {},
   "source": [
    "- Απλή δομή `if-end`"
   ]
  },
  {
   "cell_type": "code",
   "execution_count": 34,
   "metadata": {},
   "outputs": [
    {
     "name": "stdout",
     "output_type": "stream",
     "text": [
      "Το 2 είναι θετικός αριθμός."
     ]
    }
   ],
   "source": [
    "#=\n",
    "if condition is true\n",
    "    then do this\n",
    "end\n",
    "=#\n",
    "\n",
    "x = 2\n",
    "if x > 0\n",
    "    print(\"Το $x είναι θετικός αριθμός.\")\n",
    "end"
   ]
  },
  {
   "cell_type": "markdown",
   "metadata": {},
   "source": [
    "- Σύνθετες δομές.\n",
    "\n",
    "1. `if-else-end`"
   ]
  },
  {
   "cell_type": "code",
   "execution_count": 35,
   "metadata": {},
   "outputs": [
    {
     "name": "stdout",
     "output_type": "stream",
     "text": [
      "Το 2 είναι μικρότερο του 5."
     ]
    }
   ],
   "source": [
    "#=\n",
    "if condition is true\n",
    "    then do this\n",
    "else \n",
    "    do this\n",
    "end\n",
    "=#\n",
    "x = 2\n",
    "y = 5\n",
    "\n",
    "if x < y\n",
    "    print(\"Το $x είναι μικρότερο του $y.\")\n",
    "else\n",
    "    print(\"Το $x είναι μεγαλύτερο ίσος του $y.\")\n",
    "end"
   ]
  },
  {
   "cell_type": "markdown",
   "metadata": {},
   "source": [
    "2. `if-elseif-else-end`"
   ]
  },
  {
   "cell_type": "code",
   "execution_count": 36,
   "metadata": {},
   "outputs": [
    {
     "name": "stdout",
     "output_type": "stream",
     "text": [
      "Τα x και y είναι ίσα."
     ]
    }
   ],
   "source": [
    "#=\n",
    "if condition1 is true\n",
    "    then do this\n",
    "elseif condition2 is true\n",
    "    then do this\n",
    "else \n",
    "    do this\n",
    "end\n",
    "=#\n",
    "\n",
    "x = 5\n",
    "y = 5\n",
    "if x < y\n",
    "    print(\"Το $x είναι μικρότερο του $y.\")\n",
    "elseif x > y\n",
    "    print(\"Το $x είναι μεγαλύτερος του $y.\")\n",
    "else \n",
    "    print(\"Τα x και y είναι ίσα.\")\n",
    "end"
   ]
  },
  {
   "cell_type": "markdown",
   "metadata": {},
   "source": [
    "3. `if-elseif-elseif-end`"
   ]
  },
  {
   "cell_type": "code",
   "execution_count": 37,
   "metadata": {
    "scrolled": true
   },
   "outputs": [
    {
     "name": "stdout",
     "output_type": "stream",
     "text": [
      "Τα x και y είναι ίσα."
     ]
    }
   ],
   "source": [
    "#=\n",
    "if condition1 is true\n",
    "     then do this\n",
    " elseif condition2 is true\n",
    "     then do this\n",
    " elseif condion3 is true \n",
    "     then do this\n",
    "end\n",
    "=#\n",
    "\n",
    "x = 5\n",
    "y = 5\n",
    "if x < y\n",
    "    print(\"Το $x είναι μικρότερο του $y.\")\n",
    "elseif x > y\n",
    "    print(\"Το $x είναι μεγαλύτερο του $y.\")\n",
    "elseif x == y \n",
    "    print(\"Τα x και y είναι ίσα.\")\n",
    "end"
   ]
  },
  {
   "cell_type": "markdown",
   "metadata": {},
   "source": [
    "4. Nested (Ένθετα)"
   ]
  },
  {
   "cell_type": "code",
   "execution_count": 38,
   "metadata": {},
   "outputs": [
    {
     "name": "stdout",
     "output_type": "stream",
     "text": [
      "Το 5 είναι μεγαλύτερο του 2."
     ]
    }
   ],
   "source": [
    "#=\n",
    "if condition1 is true\n",
    "    then do this\n",
    "else\n",
    "     if condition2 is true\n",
    "         then do this\n",
    "     else  \n",
    "         then do this\n",
    "     end\n",
    "end\n",
    "=#\n",
    "\n",
    "x = 5\n",
    "y = 2\n",
    "if x == y\n",
    "    print(\"Τα x και y είναι ίσα.\")\n",
    "else\n",
    "    if x > y\n",
    "        print(\"Το $x είναι μεγαλύτερο του $y.\")\n",
    "    else\n",
    "        print(\"Το $x είναι μικρότερο του $y.\")\n",
    "    end\n",
    "end"
   ]
  },
  {
   "cell_type": "code",
   "execution_count": 39,
   "metadata": {},
   "outputs": [
    {
     "name": "stdout",
     "output_type": "stream",
     "text": [
      "true\n",
      "true\n",
      "true\n"
     ]
    }
   ],
   "source": [
    "#Τα παρακάτω παραδείγματα είναι ίδια, έχουν απλώς διαφορετικό τρόπο γραφής.\n",
    "\n",
    "x = 5\n",
    "\n",
    "if x > 0\n",
    "    if x < 8\n",
    "        println(true)\n",
    "    end\n",
    "end\n",
    "\n",
    "\n",
    "if x > 0 && x < 8\n",
    "   println(0 < x < 8)\n",
    "end\n",
    "\n",
    "\n",
    "if 0 < x < 8\n",
    "    println(\"true\")\n",
    "end "
   ]
  },
  {
   "cell_type": "markdown",
   "metadata": {},
   "source": [
    "- Μπορούμε αντί για if-else-end να γράψουμε `a ? b : c`."
   ]
  },
  {
   "cell_type": "code",
   "execution_count": null,
   "metadata": {},
   "outputs": [],
   "source": [
    "#=\n",
    "Δηλαδή το a ? b : c σημαίνει:\n",
    "\n",
    "if a\n",
    "    return b\n",
    "else\n",
    "    return c\n",
    "end\n",
    "=#\n",
    "\n",
    "x = 5\n",
    "y = 3\n",
    "m = (x>y) ? x : y\n",
    "# Η εντολή επιστρέφει το μεγαλύτερο από τα x και y."
   ]
  },
  {
   "cell_type": "markdown",
   "metadata": {},
   "source": [
    "### Δομές επανάληψης"
   ]
  },
  {
   "cell_type": "markdown",
   "metadata": {},
   "source": [
    "<b>1.</b>  `while`"
   ]
  },
  {
   "cell_type": "code",
   "execution_count": 40,
   "metadata": {},
   "outputs": [
    {
     "name": "stdout",
     "output_type": "stream",
     "text": [
      "3\n",
      "2\n",
      "1\n"
     ]
    }
   ],
   "source": [
    "#=\n",
    "while λογική συνθήκη\n",
    "     <εντολές>\n",
    "end\n",
    "=#\n",
    "\n",
    "#Παράδειγμα αντίστροφης μέτρησης.\n",
    "x = 3\n",
    "while x > 0\n",
    "    println(x)\n",
    "    x -= 1\n",
    "end"
   ]
  },
  {
   "cell_type": "markdown",
   "metadata": {},
   "source": [
    "<b>2.</b>  `for`"
   ]
  },
  {
   "cell_type": "code",
   "execution_count": 41,
   "metadata": {},
   "outputs": [
    {
     "name": "stdout",
     "output_type": "stream",
     "text": [
      "1 2 3 4 5 \n",
      "1 2 3 4 5 \n",
      "1 2 3 4 5 \n",
      "\n",
      "1 4 7 10 "
     ]
    }
   ],
   "source": [
    "#=\n",
    "for τιμές μετρητή επανάληψης\n",
    "      <εντολές>\n",
    "end\n",
    "=#\n",
    "\n",
    "#for μεταβλητή in αρχική τιμή : τελική τιμή\n",
    "for i in 1:5\n",
    "    print(i,\" \")\n",
    "end\n",
    "\n",
    "#Μπορούμε αντί για in να χρησιμοποιήσουμε = ή ∈.\n",
    "print('\\n')\n",
    "for i = 1:5\n",
    "    print(\"$i \")\n",
    "end\n",
    "print('\\n')\n",
    "for i ∈ 1:5\n",
    "    print(\"$i \")\n",
    "end\n",
    "println('\\n')\n",
    "\n",
    "\n",
    "#for μεταβλητή in αρχική τιμή : ΄βήμα : τελική τιμή\n",
    "for i in 1:3:10\n",
    "    print(i,\" \")\n",
    "end"
   ]
  },
  {
   "cell_type": "markdown",
   "metadata": {},
   "source": [
    "- `break` = τερματίζει τις δομές επανάληψης."
   ]
  },
  {
   "cell_type": "code",
   "execution_count": 42,
   "metadata": {},
   "outputs": [
    {
     "name": "stdout",
     "output_type": "stream",
     "text": [
      "5\n",
      "4\n",
      "3\n"
     ]
    }
   ],
   "source": [
    "#Παράδειγμα αντίστροφης μέτρησης.\n",
    "x = 5\n",
    "while x > 0\n",
    "    println(x)\n",
    "    x -= 1\n",
    "    if x == 2\n",
    "        break\n",
    "    end\n",
    "end"
   ]
  },
  {
   "cell_type": "markdown",
   "metadata": {},
   "source": [
    "- `continue` = παραλείπει εντολές και συνεχίζει στην επόμενη τιμή της επανάληψης."
   ]
  },
  {
   "cell_type": "code",
   "execution_count": 43,
   "metadata": {
    "scrolled": true
   },
   "outputs": [
    {
     "name": "stdout",
     "output_type": "stream",
     "text": [
      "1 3 5 7 9 "
     ]
    }
   ],
   "source": [
    "#Εκτυπώνει μόνο τους περιττούς αριθμούς \n",
    "for i in 1:10\n",
    "    if i % 2 == 0\n",
    "        continue\n",
    "    end\n",
    "    print(i,\" \")\n",
    "end"
   ]
  },
  {
   "cell_type": "markdown",
   "metadata": {},
   "source": [
    "- `@time` = εκτυπώνει τον χρόνο που χρειάστηκε μια συνάρτηση για να εκτελεστεί, το πλήθος των allocations και το memory allocation. \n",
    "\n",
    "_Συνίσταται να χρησιμοποιείται το @times από το πακέτο BenchmarkTools, για να μην υπολογιστεί ο χρόνος του compilation της συνάρτησης._ "
   ]
  },
  {
   "cell_type": "markdown",
   "metadata": {},
   "source": [
    "### Πίνακες"
   ]
  },
  {
   "cell_type": "markdown",
   "metadata": {},
   "source": [
    "- Διάνυσμα:\n",
    "    - `a = [2, 3, 4]` ή `a = [2; 3; 4]`\n",
    "- Πίνακας γραμμή:\n",
    "    - `a = [2 3 4]`\n",
    "- Πίνακας στήλη:\n",
    "    - `a = reshape([2 3 4], 3, 1)`, όπου 3 είναι το πλήθος των γραμμών και 1 το πλήθος των στηλών.\n",
    "- Πίνακας n x m:\n",
    "    - `A = [2 3 4; 5 6 7]`\n",
    "- Ανάστροφος πίνακας, δημιουργείται μέσω του `'`, δηλαδή `A'`."
   ]
  },
  {
   "cell_type": "markdown",
   "metadata": {},
   "source": [
    "####  Δημιουργία κενών πινάκων\n",
    "\n",
    "- `Α = []`"
   ]
  },
  {
   "cell_type": "markdown",
   "metadata": {},
   "source": [
    "#### Χαρακτηριστικά / Λειτουργίες\n",
    "\n",
    "- Είναι μεταβλητοί, δηλαδή μπορούμε να τους τροποποιήσουμε.\n",
    "\n",
    "    - Για διανύσματα:\n",
    "        - `όνομα_πίνακα[x]` =  εντοπισμός στοιχείου που βρίσκεται στην θέση x του πίνακα, όπου x ακέραιος μεγαλύτερος του 1.\n",
    "    \n",
    "        - `όνομα_πίνακα[x] = y` = τροποποίηση του στοιχείου που βρίσκεται στην θέση x του πίνακα με το στοιχείο y."
   ]
  },
  {
   "cell_type": "markdown",
   "metadata": {},
   "source": [
    "- Μπορούμε να επιλέξουμε συγκεκρίμενα τμήματα πινάκων.\n",
    "    - Για διανύσματα:\n",
    "        - `όνομα_πίνακα[n:m]` = από τον n εώς και τον m δείκτη του διανύσματος.\n",
    "    \n",
    "        - `όνομα_πίνακα[:]` = ολόκληρο το διάνυσμα. _(Ή απλώς γράφουμε το `όνομα_πίνακα`)_\n",
    "    \n",
    "        - `όνομα_πίνακα[n:end]` = από το n στοιχείο μέχρι το τελευταίο του διανύσματος.\n",
    "    \n",
    "        - `όνομα_πίνακα[n:z:m]` = από τον n εώς και τον m δείκτη του διανύσματος με βήμα z."
   ]
  },
  {
   "cell_type": "code",
   "execution_count": 44,
   "metadata": {},
   "outputs": [
    {
     "name": "stdout",
     "output_type": "stream",
     "text": [
      "1. Any[\"5\", \"deka\", 40, [20, 25]]\n",
      "2. Any[0, 0, 0, [20, 25]]\n"
     ]
    }
   ],
   "source": [
    "#Array\n",
    "a = [\"5\", \"deka\", 15, [20, 25]]\n",
    "\n",
    "#Η αρίθμηση δεικτών ξεκινάει από το 1.\n",
    "#Τροποποίηση του 3ου στοιχείου του διανύσματος.\n",
    "a[3] = 40 \n",
    "println(\"1. \", a)\n",
    "\n",
    "#Μπορούμε να τροποποιήσουμε και περισσότερα στοιχεία ταυτόχρονα ενός διανύσματος.\n",
    "a[1:3] = [0, 0, 0]\n",
    "println(\"2. \", a)"
   ]
  },
  {
   "cell_type": "code",
   "execution_count": 45,
   "metadata": {
    "scrolled": true
   },
   "outputs": [
    {
     "name": "stdout",
     "output_type": "stream",
     "text": [
      "a[:] = [1, 3, 5, 4, 2, 6, 7, 8, 9, 10]\n",
      "a[2:4] = [3, 5, 4]\n",
      "a[3:end] = [5, 4, 2, 6, 7, 8, 9, 10]\n",
      "a[end:-2:3] = [10, 8, 6, 4]\n"
     ]
    }
   ],
   "source": [
    "#=\n",
    "a[:] = ολόκληρο το διάνυσμα.\n",
    "a[2:4] = από το 2ο εως το 4ο στοιχείο του διανύσματος.\n",
    "a[3:end] = από το 3ο στοιχείο μέχρι το τελευταίο του διανύσματος.\n",
    "a[end:-2:3] = από το τελευταίο στοιχείο εώς και το 3ο στοιχείο του διανύσματος με βήμα -2.\n",
    "=#\n",
    "\n",
    "a = [1, 3, 5, 4, 2, 6, 7, 8, 9, 10]\n",
    "\n",
    "println(\"a[:] = \", a[:])\n",
    "println(\"a[2:4] = \", a[2:4])\n",
    "println(\"a[3:end] = \",a[3:end])\n",
    "println(\"a[end:-2:3] = \",a[end:-2:3])"
   ]
  },
  {
   "cell_type": "markdown",
   "metadata": {},
   "source": [
    "- Τροποποίηση:\n",
    "    - Για δυσδιάστατους πίνακες:\n",
    "        - `όνομα_πίνακα[i, j]` =  εντοπισμός στοιχείου που βρίσκεται στην θέση (i, j) του πίνακα, όπου i, j ακέραιοι μεγαλύτεροι του 1.\n",
    "    \n",
    "        - `όνομα_πίνακα[i, j] = y` = τροποποίηση του στοιχείου που βρίσκεται στην θέση (i, j) του πίνακα με το στοιχείο y."
   ]
  },
  {
   "cell_type": "markdown",
   "metadata": {},
   "source": [
    "\n",
    "- Επιλογή συγκεκριμένων τμημάτων:\n",
    "    - Για δυσδιάστατους πίνακες:\n",
    "        - `όνομα_πίνακα[n:m, k:l]` = από τον n εώς και τον m δείκτη για γραμμές και από τον k εως και τον l δείκτη για στήλες του πίνακα.\n",
    "    \n",
    "        - `όνομα_πίνακα[:,:]` = ολόκληρος ο πίνακας. _(Ή απλώς γράφουμε το `όνομα_πίνακα`)_\n",
    "        \n",
    "        - `όνομα_πίνακα[:]` = ολόκληρος ο πίνακας. _(Σε μορφή διανύσματος, είναι αντίγραφο του πίνακα)_\n",
    "    \n",
    "        - `όνομα_πίνακα[n:end, k:end]` = από τη n μέχρι την τελευταία γραμμή και από την k μέχρι την τελευταία στήλη του πίνακα.\n",
    "    \n",
    "        - `όνομα_πίνακα[n:z:m, k:w:l]` = από την n εώς και την m γραμμή του πίνακα με βήμα z, και αντίστοιχα τα k,w,l για τη στήλη.\n",
    "        "
   ]
  },
  {
   "cell_type": "code",
   "execution_count": 46,
   "metadata": {
    "scrolled": false
   },
   "outputs": [
    {
     "name": "stdout",
     "output_type": "stream",
     "text": [
      "1. A = [2 3; 40 5; 6 1]\n",
      "2. A = [0 0; 40 5; 6 1]\n",
      "3. A = [0 10; 40 32; 6 5]\n"
     ]
    }
   ],
   "source": [
    "#Δυσδιάστατος πίνακας\n",
    "A = [2 3; 4 5; 6 1]\n",
    "\n",
    "#Η αρίθμηση δεικτών ξεκινάει από το 1.\n",
    "#Τροποποίηση του στοιχείου του π΄ίνακα που βρίσκεται στη θέση (2,1), δεύτερη γραμμή-πρώτη στήλη.\n",
    "A[2,1] = 40 \n",
    "println(\"1. A = \", A)\n",
    "\n",
    "#Μπορούμε να τροποποιήσουμε και περισσότερα στοιχεία ταυτόχρονα ενός πίνακα.\n",
    "A[1,:] .= 0\n",
    "println(\"2. A = \", A)\n",
    "\n",
    "#Επιπλέον τρόποι:\n",
    "A[:,2] = [10 32 5]\n",
    "println(\"3. A = \", A)\n",
    "\n",
    "#A[2:3, 1:2] = [0 0;0 0]\n",
    "#A"
   ]
  },
  {
   "cell_type": "code",
   "execution_count": 47,
   "metadata": {
    "scrolled": false
   },
   "outputs": [
    {
     "name": "stdout",
     "output_type": "stream",
     "text": [
      "A[:,:] = [1 3 5; 4 2 6; 7 8 9; 1 2 3] ή A = [1 3 5; 4 2 6; 7 8 9; 1 2 3]\n",
      "A[2:3, 1:3] = [4 2 6; 7 8 9]\n",
      "A[1:end, 2:end] = [3 5; 2 6; 8 9; 2 3]\n",
      "A[end:-2:1, end:-1:2] = [3 2; 6 2]\n"
     ]
    },
    {
     "data": {
      "text/plain": [
       "4×3 Array{Int64,2}:\n",
       " 1  3  5\n",
       " 4  2  6\n",
       " 7  8  9\n",
       " 1  2  3"
      ]
     },
     "execution_count": 47,
     "metadata": {},
     "output_type": "execute_result"
    }
   ],
   "source": [
    "#=\n",
    "A[:,:] = ολόκληρος ο πίνακας.\n",
    "A[2:3, 1:3] = από τη δεύτερη εώς την τρίτη γραμμή του πίνακα και από την πρώτη εώς την τρίτη στήλη.\n",
    "A[1:end, 2:end] = από την πρώτη γραμμή εώς την τελευταία του πίνακα και από την δεύτερη εώς την τελευταία στήλη.\n",
    "A[end:-2:1, end:-1:2] = από την τελευταία γραμμή εώς την πρώτη με βήμα -2 και από την τελευταία στήλη εώς την δεύτερη με βήμα -1\n",
    "Προσοχή στα διανύσματα γραμμής και στήλης στο τελευταίο παράδειγμα παίρνουμε τα στοιχεία των διανυσμάτων από το τελευταίο προς\n",
    "το πρώτο.\n",
    "=#\n",
    "\n",
    "A = [1 3 5; 4 2 6; 7 8 9; 1 2 3]\n",
    "\n",
    "println(\"A[:,:] = \", A[:,:], \" ή A = \", A)\n",
    "println(\"A[2:3, 1:3] = \", A[2:3, 1:3])\n",
    "println(\"A[1:end, 2:end] = \", A[1:end, 2:end])\n",
    "println(\"A[end:-2:1, end:-1:2] = \", A[end:-2:1, end:-1:2])\n",
    "\n",
    "A"
   ]
  },
  {
   "cell_type": "markdown",
   "metadata": {},
   "source": [
    "- Μπορούμε να χρησιμοποιήσουμε τον boolean τελεστή ∈, ο οποίος επιστρέφει true αν κάποιο στοιχείο ανήκει στον πίνακα."
   ]
  },
  {
   "cell_type": "code",
   "execution_count": 48,
   "metadata": {
    "scrolled": true
   },
   "outputs": [
    {
     "data": {
      "text/plain": [
       "true"
      ]
     },
     "execution_count": 48,
     "metadata": {},
     "output_type": "execute_result"
    }
   ],
   "source": [
    "a = [\"5\", \"deka\", 15, [20, 25]]\n",
    "\n",
    "\"deka\" ∈ a"
   ]
  },
  {
   "cell_type": "code",
   "execution_count": 49,
   "metadata": {},
   "outputs": [
    {
     "data": {
      "text/plain": [
       "false"
      ]
     },
     "execution_count": 49,
     "metadata": {},
     "output_type": "execute_result"
    }
   ],
   "source": [
    "A = [1 3 5; 4 2 6; 7 8 9; 1 2 3]\n",
    "\n",
    "15 ∈ A"
   ]
  },
  {
   "cell_type": "markdown",
   "metadata": {},
   "source": [
    "- Προσπέλαση πινάκων:"
   ]
  },
  {
   "cell_type": "code",
   "execution_count": 50,
   "metadata": {
    "scrolled": true
   },
   "outputs": [
    {
     "name": "stdout",
     "output_type": "stream",
     "text": [
      "5\n",
      "deka\n",
      "15\n",
      "[20, 25]\n"
     ]
    }
   ],
   "source": [
    "#Αναφερόμαστε στο στοιχείο του πίνακα.\n",
    "a = [\"5\", \"deka\", 15, [20, 25]]\n",
    "\n",
    "for item in a\n",
    "    println(item)\n",
    "end"
   ]
  },
  {
   "cell_type": "code",
   "execution_count": 51,
   "metadata": {},
   "outputs": [
    {
     "name": "stdout",
     "output_type": "stream",
     "text": [
      "5\n",
      "deka\n",
      "15\n",
      "[20, 25]\n"
     ]
    }
   ],
   "source": [
    "#Αναφερόμαστε στον δείκτη του πίνακα.\n",
    "a = [\"5\", \"deka\", 15, [20, 25]]\n",
    "\n",
    "for i in eachindex(a)\n",
    "    println(a[i])\n",
    "end"
   ]
  },
  {
   "cell_type": "code",
   "execution_count": 52,
   "metadata": {
    "scrolled": true
   },
   "outputs": [
    {
     "name": "stdout",
     "output_type": "stream",
     "text": [
      "A[1, 1] = 1\n",
      "A[1, 2] = 3\n",
      "A[1, 3] = 5\n",
      "A[2, 1] = 4\n",
      "A[2, 2] = 2\n",
      "A[2, 3] = 6\n",
      "A[3, 1] = 7\n",
      "A[3, 2] = 8\n",
      "A[3, 3] = 9\n",
      "A[4, 1] = 1\n",
      "A[4, 2] = 2\n",
      "A[4, 3] = 3\n"
     ]
    }
   ],
   "source": [
    "#Ένα ένα τα στοιχεία, όμοιο με τη Matlab.\n",
    "using Printf\n",
    "A = [1 3 5; 4 2 6; 7 8 9; 1 2 3]\n",
    "\n",
    "for i = 1:size(A,1)\n",
    "    for j = 1:size(A,2)\n",
    "        @printf(\"A[%g, %g] = \", i,j) \n",
    "        println(A[i,j])\n",
    "    end\n",
    "end"
   ]
  },
  {
   "cell_type": "code",
   "execution_count": 53,
   "metadata": {},
   "outputs": [
    {
     "name": "stdout",
     "output_type": "stream",
     "text": [
      "[1, 3, 5]\n",
      "[4, 2, 6]\n",
      "[7, 8, 9]\n",
      "[1, 2, 3]\n"
     ]
    }
   ],
   "source": [
    "#Ολόκληρη γραμμή\n",
    "A = [1 3 5; 4 2 6; 7 8 9; 1 2 3]\n",
    "\n",
    "for row in eachrow(A)\n",
    "    println(row)\n",
    "end"
   ]
  },
  {
   "cell_type": "code",
   "execution_count": 54,
   "metadata": {},
   "outputs": [
    {
     "name": "stdout",
     "output_type": "stream",
     "text": [
      "[1, 4, 7, 1]\n",
      "[3, 2, 8, 2]\n",
      "[5, 6, 9, 3]\n"
     ]
    }
   ],
   "source": [
    "#Ολόκληρη στήλη\n",
    "A = [1 3 5; 4 2 6; 7 8 9; 1 2 3]\n",
    "\n",
    "for col in eachcol(A)\n",
    "    println(col)\n",
    "end"
   ]
  },
  {
   "cell_type": "markdown",
   "metadata": {},
   "source": [
    "#### Πράξεις πινάκων\n",
    "\n",
    "- Ισχύουν οι γνωστές αριθμητικές πράξεις πινάκων με αριθμό και πίνακα, ωστόσο οι εντολές πρέπει να ακολουθούνται από `.` (τελεία), δηλαδή `.+`, `.-`, `./`, `.%`, `.*`, `.^`, ..., αν θέλουμε να εκτελέσουμε πράξεις κατά συντεταγμένες(elementwise)."
   ]
  },
  {
   "cell_type": "markdown",
   "metadata": {},
   "source": [
    "### Χρήσιμες εσωτερικές συναρτήσεις της Julia"
   ]
  },
  {
   "cell_type": "markdown",
   "metadata": {},
   "source": [
    "#### Εισόδου\n",
    "\n",
    "- `readline()` = επιστρέφει σε μορφή συμβολοσειράς ό,τι πληκτρολόγησε ο χρήστης."
   ]
  },
  {
   "cell_type": "code",
   "execution_count": 55,
   "metadata": {},
   "outputs": [
    {
     "name": "stdout",
     "output_type": "stream",
     "text": [
      "Δώσε μου έναν ακέραιο αριθμό.\n",
      "stdin> Hello world\n"
     ]
    },
    {
     "data": {
      "text/plain": [
       "\"Hello world\""
      ]
     },
     "execution_count": 55,
     "metadata": {},
     "output_type": "execute_result"
    }
   ],
   "source": [
    "println(\"Δώσε μου έναν ακέραιο αριθμό.\"); x = readline()"
   ]
  },
  {
   "cell_type": "markdown",
   "metadata": {},
   "source": [
    "#### Εξόδου\n",
    "- `println(x, y, z, ...)` = εκτυπώνει τα στοιχεία x, y, z και αλλάζει γραμμή (ενσωματωμένο \\n).\n",
    "\n",
    "- `print(x, y, z, ...)` = εκτυπώνει τα στοιχεία x, y, z χωρίς αλλαγές γραμμών.\n",
    "\n",
    "- `display(x)` = εμφανίζει το στοιχείο x."
   ]
  },
  {
   "cell_type": "markdown",
   "metadata": {},
   "source": [
    "#### Μετατροπή τύπου ενός στοιχείου x\n",
    "- `convert(τύπος, x)` = επιστρέφει το στοιχείο x στην μορφή τύπου, όπου x είναι αριθμός και τύπος είδος αριθμού (integer, float-point number).\n",
    "\n",
    "- `parse(τύπος, x)`= επιστρέφει το στοιχείο x στην μορφή τύπου, όπου x είναι συμβολοσειρά ενός αριθμού και τύπος είδος αριθμού (integer, float)."
   ]
  },
  {
   "cell_type": "code",
   "execution_count": 56,
   "metadata": {},
   "outputs": [
    {
     "data": {
      "text/plain": [
       "5"
      ]
     },
     "execution_count": 56,
     "metadata": {},
     "output_type": "execute_result"
    }
   ],
   "source": [
    "convert(Int, 5.0)"
   ]
  },
  {
   "cell_type": "code",
   "execution_count": 57,
   "metadata": {},
   "outputs": [
    {
     "data": {
      "text/plain": [
       "0.3333333333333333"
      ]
     },
     "metadata": {},
     "output_type": "display_data"
    },
    {
     "data": {
      "text/plain": [
       "0.33333334f0"
      ]
     },
     "execution_count": 57,
     "metadata": {},
     "output_type": "execute_result"
    }
   ],
   "source": [
    "x = 1/3\n",
    "display(x)\n",
    "\n",
    "convert(Float32, x)"
   ]
  },
  {
   "cell_type": "code",
   "execution_count": 58,
   "metadata": {},
   "outputs": [
    {
     "data": {
      "text/plain": [
       "25"
      ]
     },
     "execution_count": 58,
     "metadata": {},
     "output_type": "execute_result"
    }
   ],
   "source": [
    "parse(Int64, \"25\")"
   ]
  },
  {
   "cell_type": "code",
   "execution_count": 59,
   "metadata": {},
   "outputs": [
    {
     "data": {
      "text/plain": [
       "25.25"
      ]
     },
     "execution_count": 59,
     "metadata": {},
     "output_type": "execute_result"
    }
   ],
   "source": [
    "parse(Float64, \"25.25\")"
   ]
  },
  {
   "cell_type": "code",
   "execution_count": 60,
   "metadata": {},
   "outputs": [
    {
     "ename": "LoadError",
     "evalue": "\u001b[91mArgumentError: cannot parse \"Spam\" as Float32\u001b[39m",
     "output_type": "error",
     "traceback": [
      "\u001b[91mArgumentError: cannot parse \"Spam\" as Float32\u001b[39m",
      "",
      "Stacktrace:",
      " [1] _parse_failure(::Type{T} where T, ::String, ::Int64, ::Int64) at .\\parse.jl:370 (repeats 2 times)",
      " [2] #tryparse_internal#364 at .\\parse.jl:366 [inlined]",
      " [3] tryparse_internal at .\\parse.jl:364 [inlined]",
      " [4] #parse#365 at .\\parse.jl:376 [inlined]",
      " [5] parse(::Type{Float32}, ::String) at .\\parse.jl:376",
      " [6] top-level scope at In[60]:1",
      " [7] include_string(::Function, ::Module, ::String, ::String) at .\\loading.jl:1091"
     ]
    }
   ],
   "source": [
    "parse(Float32, \"Spam\")"
   ]
  },
  {
   "cell_type": "markdown",
   "metadata": {},
   "source": [
    "- `trunc(Int_value, x)` = επιστρέφει σε ακέραια μορφή τον x, όπου x είναι floating-point number και Int_value είναι το είδος ακεραίου."
   ]
  },
  {
   "cell_type": "code",
   "execution_count": 61,
   "metadata": {},
   "outputs": [
    {
     "data": {
      "text/plain": [
       "2"
      ]
     },
     "execution_count": 61,
     "metadata": {},
     "output_type": "execute_result"
    }
   ],
   "source": [
    "#Η trunc κόβει το δεκαδικό μέρος, δεν στρογγυλοποιεί.\n",
    "trunc(Int64, 2.955)"
   ]
  },
  {
   "cell_type": "markdown",
   "metadata": {},
   "source": [
    "- `float(x)` = επιστρέφει τον ακέραιο αριθμό x σε μορφή αριθμού κινητής υποδιαστολής. (floating-points number)"
   ]
  },
  {
   "cell_type": "code",
   "execution_count": 62,
   "metadata": {},
   "outputs": [
    {
     "data": {
      "text/plain": [
       "25.0"
      ]
     },
     "execution_count": 62,
     "metadata": {},
     "output_type": "execute_result"
    }
   ],
   "source": [
    "float(25)"
   ]
  },
  {
   "cell_type": "markdown",
   "metadata": {},
   "source": [
    "- `string(x)` = μετατροπή του στοιχείου x σε συμβολοσειρά."
   ]
  },
  {
   "cell_type": "code",
   "execution_count": 63,
   "metadata": {},
   "outputs": [
    {
     "data": {
      "text/plain": [
       "\"25.25\""
      ]
     },
     "execution_count": 63,
     "metadata": {},
     "output_type": "execute_result"
    }
   ],
   "source": [
    "string(25.25)"
   ]
  },
  {
   "cell_type": "code",
   "execution_count": 64,
   "metadata": {},
   "outputs": [
    {
     "data": {
      "text/plain": [
       "\"Ο αριθμός 10 διαιρείται με το 2\""
      ]
     },
     "execution_count": 64,
     "metadata": {},
     "output_type": "execute_result"
    }
   ],
   "source": [
    "string(\"Ο αριθμός \", 10, \" διαιρείται με το 2\")"
   ]
  },
  {
   "cell_type": "markdown",
   "metadata": {},
   "source": [
    "- `bitstring(x)` = επιστρέφει τη δυαδική αποθήκευση του αριθμού  x σε λέξη 64 bits."
   ]
  },
  {
   "cell_type": "code",
   "execution_count": 65,
   "metadata": {
    "scrolled": true
   },
   "outputs": [
    {
     "name": "stdout",
     "output_type": "stream",
     "text": [
      "0011111111110000000000000000000000000000000000000000000000000000\n",
      "0011111111110000000000000000000000000000000000000000000000000001\n",
      "0100000000000000000000000000000000000000000000000000000000000000\n"
     ]
    }
   ],
   "source": [
    "println(bitstring(1.0))\n",
    "println(bitstring(1.0+eps(Float64)))\n",
    "println(bitstring(2.0))"
   ]
  },
  {
   "cell_type": "markdown",
   "metadata": {},
   "source": [
    "#### Μαθηματικών\n",
    "\n",
    "- `sqrt(x)` = επιστρέφει $\\sqrt{x}$.\n",
    "\n",
    "- `log(x)` = επιστρέφει $ln(x)$.\n",
    "\n",
    "- `log10(x)` = επιστρέφει $log(x)$.\n",
    "\n",
    "- `exp(x)` = επιστρέφει το $e^x$\n",
    "\n",
    "- `sin(x)` = επιστρέφει το ημίτονο του x.\n",
    "\n",
    "- `cos(x)` = επιστρέφει το συνημίτονο του x.\n",
    "\n",
    "- `tan(x)` = επιστρέφει την εφαπτομένη του x.\n",
    "\n",
    "- `abs(x)` = επιστρέφει την απόλυτη τιμή του x.\n",
    "\n",
    "- `factorial(x)` = επιστρέφει το παραγοντικό του ακεραίου x.\n",
    "\n",
    "- `div(x, y)` = επιστρέφει το πηλίκο των αριθμών x, y.\n",
    "\n",
    "- `rem(x, y)` = επιστρέφει το υπόλοιπο ων αριθμών x, y.\n",
    "\n",
    "- `divrem(x, y)` = επιστρέφει σε μορφή πλειάδας (πηλίκο, υπόλοιπο) των αριθμών x, y.\n",
    "\n",
    "- `rand()` = επιστρέφει έναν τυχαίο αριθμό από το διάστημα [0, 1).\n",
    "\n",
    "- `rand(n:m)` = επιστρέφει έναν τυχαίο ακέραιο αριθμό από το διάστημα [n, m]"
   ]
  },
  {
   "cell_type": "markdown",
   "metadata": {},
   "source": [
    "#### Συμβολοσειρών\n",
    "\n",
    "- `uppercase(x)` = επιστρέφει με κεφαλαία γράμματα την συμβολοσειρά x.\n",
    "\n",
    "- `findfirst(x, string)` = επιστρέφει την πρώτη θέση\\-εις που εμφανίζεται η συμβολοσειρά x.\n",
    "\n",
    "- `findnext(x, string, number)` = όμοια με την findfirst μόνο που ξεκινάει τον έλεγχο από την θέση number.\n",
    "\n",
    "- `collect(x)` = μετατροπή συμβολοσειράς x σε πίνακα, όπου κάθε στοιχείο αντιστοιχεί σε έναν χαρακτήρα της x.\n",
    "\n",
    "- `split(x)` = μετατροπή συμβολοσειράς x σε πίνακα, όπου κάθε στοιχείο αντιστοιχεί σε μία λέξη της x.\n",
    "\n",
    "- `split(x, k)` = μετατροπή συμβολοσειράς x σε πίνακα, όπου κάθε στοιχείο προέκυψε απο την αποκοπή του k χαρακτήρα από την x."
   ]
  },
  {
   "cell_type": "markdown",
   "metadata": {},
   "source": [
    "#### Πινάκων\n",
    "\n",
    "- `push!(a, x)` = εισαγωγή του στοιχείου x στο τέλος του πίνακα a.\n",
    "\n",
    "- `pushfirst!(a, x)` = εισαγωγή του στοιχείου x στην αρχή του πίνακα a.\n",
    "\n",
    "- `append!(a, b)` = ένωση δύο πινάκων array a και b, όπου τα στοιχεία του b εισάγονται στο τέλος του πίνακα a.\n",
    "\n",
    "- `insert!(a, index, x)`  = εισαγωγή του στοιχείου x στην θέση index του πίνακα a.\n",
    "\n",
    "- `sort!(a)` = ταξινομούνται κατά αύξουσα σειρά τα στοιχεία του πίνακα a.\n",
    "\n",
    "- `sort(a)` = επιστρέφει αντίγραφο του πίνακα a με τα στοιχεία του ταξινομημένα κατά αύξουσα σειρά.\n",
    "\n",
    "- `sum(a)` = το άθροισμα των στοιχείων του a.\n",
    "\n",
    "- `splice!(a, index)` = διαγράφει το στοιχείο που βρίσκεται στη θέση index του πίνακα a και το επιστρέφει.\n",
    "\n",
    "- `pop!(a)` = διαγράφει το τελευταίο στοιχείο του πίνακα a και το επιστρέφει.\n",
    "\n",
    "- `popfirst!(a)` = διαγράφει το πρώτο στοιχείο του πίνακα a και το επιστρέφει.\n",
    "\n",
    "- `deleteat!(a, index)` = διαγράφει το στοιχείο που βρίσκεται στη θέση index του πίνακα a. (δεν το επιστρέφει) \n",
    "\n",
    "- `join(a, k)` = ένωση των στοιχείων του πίνακα a σε μια συμβολοσειρά όπου τα στοιχεία ενώνονται με τον χαρακτήρα k.\n",
    "\n",
    "- `rand(n, m)` = επιστρέφει έναν πίνακα n x m με στοιχεία που βρίσκονται στο διάστημα [0,1).\n",
    "\n",
    "- `rand(a:b, n, m)` = επιστρέφει έναν πίνακα n x m με στοιχεία που βρίσκονται στο διάστημα [a,b].\n",
    "\n",
    "- `rand(n, m ,z)` = επιστρέφει έναν πίνακα n x m x z με στοιχεία που βρίσκονται στο διάστημα [0,1).\n",
    "\n",
    "- `zeros(n, m)` = επιστρέφει έναν πίνακα n x m με μηδενικά στοιχεία.\n",
    "\n",
    "- `ones(n, m)` = επιστρέφει έναν πίνακα n x m με στοιχεία άσσους.\n",
    "\n",
    "- `size(A,1)` = επιστρέφει το πλήθος των γραμμών ενός πίνακα.\n",
    "\n",
    "- `size(A,2)` = επιστρέφει το πλήθος των στηλών ενός πίνακα.\n",
    "\n",
    "- `(m, n) = size(A)` ή `m, n = size(A)` = επιστρέφει το πλήθος των γραμμών στη μεταβλητή m και των στηλών στη μεταβλητή n."
   ]
  },
  {
   "cell_type": "markdown",
   "metadata": {},
   "source": [
    "#### Λεξικών\n",
    "\n",
    "- `lenght(dict)` = επιστρέφει το πλήθος των στοιχείων (key-value) του λεξικού. \n",
    "\n",
    "- `keys(dict)` = επιστρέφει σε λίστα τα κλειδιά του λεξικού.\n",
    "\n",
    "- `values(dict)` = επιστρέφει σε λίστα τα values του λεξικού.\n",
    "\n",
    "- `pop!(dict, key)` = διαγράφει το key από το λεξικό και επιστρέφει το value του.\n"
   ]
  },
  {
   "cell_type": "markdown",
   "metadata": {},
   "source": [
    "#### Πλειάδων\n",
    "\n",
    "Όταν θέλουμε να εισάγουμε πλειάδα σε συνάρτηση που δέχεται περισσότερες από μια εισόδους, γράφουμε το όνομα της μεταβλητής και αμέσως μετα τρεις τελείες. `(t...)`\n",
    "\n",
    "Παράδειγμα: Η divrem δέχεται δύο αριθμούς. Αν t = (x, y) πλειάδα, τότε τρέχουμε την divrem ως: `divrem(t...)`\n",
    "\n",
    "- `zip(x1, x2, ...)` = δέχεται αλληλουχίες και επιστρέφει μια συλλογή από πλειάδες, όπου κάθε μία περιέχει ένα στοιχείο από κάθε αλληλουχία.  "
   ]
  },
  {
   "cell_type": "markdown",
   "metadata": {},
   "source": [
    "#### Structs\n",
    "\n",
    "- `fieldnames(όνομα_struct)` = επιστρέφει τα πεδία του struct.\n",
    "\n",
    "- `isdefined(object, :πεδίο)` = επιστρέφει true/false σε περίπτωση που υπάρχει/δεν υπάρχει το πεδίο στο object του struct.\n",
    "\n",
    "- `object isa όνομα_struct` = επιστρέφει true/false σε περίπτωση που το object είναι/δεν είναι instance του struct."
   ]
  },
  {
   "cell_type": "markdown",
   "metadata": {},
   "source": [
    "####  Επιπρόσθετες συναρτήσεις\n",
    "\n",
    "- `minimum(x)` = επιστρέφει το μικρότερο στοιχείο μιας αλληλουχίας x.\n",
    "\n",
    "- `maximum(x)` = επιστρέφει το μεγαλύτερο στοιχείο μιας αλληλουχίας x.\n",
    "\n",
    "- `reverse(x)` = επιστρέφει σε ανεστραμμένη μορφή μια αλληλουχία x.\n",
    "\n",
    "- `deepcopy(x)` = αντιγραφή του x."
   ]
  },
  {
   "cell_type": "markdown",
   "metadata": {},
   "source": [
    "#### Συναρτήσεις με/χωρίς `!` ,  `.`\n",
    "\n",
    "- Οι συναρτήσεις που ακολουθούνται από `!` μεταλλάσουν (mutating functions) το περιεχόμενο τους, ενώ όσες δεν ακολουθούνται από `!`, το περιεχόμενο τους παραμένει αμετάβλητο. (non-mutating functions)"
   ]
  },
  {
   "cell_type": "code",
   "execution_count": 66,
   "metadata": {
    "scrolled": true
   },
   "outputs": [
    {
     "name": "stdout",
     "output_type": "stream",
     "text": [
      "sorted_v = [1, 3, 4]\n",
      "v = [3, 4, 1]\n",
      "\n",
      "sorted!_v = [1, 3, 4]\n",
      "v = [1, 3, 4]\n"
     ]
    }
   ],
   "source": [
    "#Παράδειγμα mutating, non-mutating functions.\n",
    "v = [3, 4, 1]\n",
    "\n",
    "#Non-mutating\n",
    "println(\"sorted_v = \", sort(v))\n",
    "println(\"v = \", v, \"\\n\")\n",
    "\n",
    "#Mutating\n",
    "println(\"sorted!_v = \", sort!(v))\n",
    "println(\"v = \", v)"
   ]
  },
  {
   "cell_type": "markdown",
   "metadata": {},
   "source": [
    "- Οι συναρτήσεις που ακολουθούνται από `.` \"εξετάζουν\" σε μέρη/κομμάτια το object, ενώ όσες δεν ακολουθούνται από `.` \"εξετάζουν\" το object ως ενιαίο."
   ]
  },
  {
   "cell_type": "code",
   "execution_count": 67,
   "metadata": {},
   "outputs": [
    {
     "name": "stdout",
     "output_type": "stream",
     "text": [
      "f1(B) = [19 24; 40 51]\n",
      "f1.(B) = [4 9; 25 36]\n"
     ]
    }
   ],
   "source": [
    "#Παράδειγμα\n",
    "f1(A) = A^2\n",
    "\n",
    "B = [2 3; 5 6]\n",
    "\n",
    "println(\"f1(B) = \", f1(B))\n",
    "println(\"f1.(B) = \", f1.(B))"
   ]
  },
  {
   "cell_type": "markdown",
   "metadata": {},
   "source": [
    "### Υλοποίηση Συναρτήσεων\n",
    "\n",
    "Χρησιμοποιούμε την εντολή `function`"
   ]
  },
  {
   "cell_type": "markdown",
   "metadata": {},
   "source": [
    "- Παράδειγμα συνάρτησης χωρίς είσοδο."
   ]
  },
  {
   "cell_type": "code",
   "execution_count": 68,
   "metadata": {},
   "outputs": [
    {
     "data": {
      "text/plain": [
       "250000"
      ]
     },
     "execution_count": 68,
     "metadata": {},
     "output_type": "execute_result"
    }
   ],
   "source": [
    "#Συνάρτηση υπολογισμού αθροίσματος των περιττών αριθμών από το 1 εώς και το 1000.\n",
    "function odd_sum()\n",
    "    sum(1:2:1000)\n",
    "end\n",
    "\n",
    "odd_sum()"
   ]
  },
  {
   "cell_type": "code",
   "execution_count": 69,
   "metadata": {},
   "outputs": [
    {
     "data": {
      "text/plain": [
       "500500"
      ]
     },
     "execution_count": 69,
     "metadata": {},
     "output_type": "execute_result"
    }
   ],
   "source": [
    "#=\n",
    "Συνάρτηση υπολογισμού αθροίσματος όλων των αριθμών από το 1 εώς το 1000.\n",
    "Παράδειγμα εμφωλευμένης συνάρτησης.\n",
    "sum(0:2:1000) = υπολογίζει το άθροισμα των άρτιων αριθμών από το 1 εώς και το 1000.\n",
    "=#\n",
    "\n",
    "function all_sum()\n",
    "    odd_sum() + sum(0:2:1000)    \n",
    "end\n",
    "\n",
    "all_sum()"
   ]
  },
  {
   "cell_type": "markdown",
   "metadata": {},
   "source": [
    "- Παράδειγμα συνάρτησης με είσοδο."
   ]
  },
  {
   "cell_type": "code",
   "execution_count": 70,
   "metadata": {},
   "outputs": [
    {
     "data": {
      "text/plain": [
       "all_sum (generic function with 2 methods)"
      ]
     },
     "execution_count": 70,
     "metadata": {},
     "output_type": "execute_result"
    }
   ],
   "source": [
    "#Συνάρτηση υπολογισμού αθροίσματος όλων των αριθμών από το a εώς και το b.\n",
    "\n",
    "function all_sum(a,b)\n",
    "    sum(a:b)    \n",
    "end"
   ]
  },
  {
   "cell_type": "code",
   "execution_count": 71,
   "metadata": {},
   "outputs": [
    {
     "data": {
      "text/plain": [
       "0"
      ]
     },
     "execution_count": 71,
     "metadata": {},
     "output_type": "execute_result"
    }
   ],
   "source": [
    "all_sum(-1000,1000)"
   ]
  },
  {
   "cell_type": "code",
   "execution_count": 72,
   "metadata": {},
   "outputs": [
    {
     "data": {
      "text/plain": [
       "375250"
      ]
     },
     "execution_count": 72,
     "metadata": {},
     "output_type": "execute_result"
    }
   ],
   "source": [
    "all_sum(-500,1000)"
   ]
  },
  {
   "cell_type": "markdown",
   "metadata": {},
   "source": [
    "- Μπορούμε επίσης να υλοποιήσουμε συναρτήσεις μιας γραμμής."
   ]
  },
  {
   "cell_type": "code",
   "execution_count": 73,
   "metadata": {},
   "outputs": [
    {
     "data": {
      "text/plain": [
       "all_sum (generic function with 2 methods)"
      ]
     },
     "execution_count": 73,
     "metadata": {},
     "output_type": "execute_result"
    }
   ],
   "source": [
    "all_sum(a,b) = sum(a:b)"
   ]
  },
  {
   "cell_type": "code",
   "execution_count": 74,
   "metadata": {},
   "outputs": [
    {
     "data": {
      "text/plain": [
       "0"
      ]
     },
     "execution_count": 74,
     "metadata": {},
     "output_type": "execute_result"
    }
   ],
   "source": [
    "all_sum(-1000,1000)"
   ]
  },
  {
   "cell_type": "code",
   "execution_count": 75,
   "metadata": {},
   "outputs": [
    {
     "data": {
      "text/plain": [
       "375250"
      ]
     },
     "execution_count": 75,
     "metadata": {},
     "output_type": "execute_result"
    }
   ],
   "source": [
    "all_sum(-500,1000)"
   ]
  },
  {
   "cell_type": "markdown",
   "metadata": {},
   "source": [
    "Για να __επιστρέψουμε__ values από τις συναρτήσεις χρησιμοποιούμε το `return`."
   ]
  },
  {
   "cell_type": "code",
   "execution_count": 76,
   "metadata": {
    "scrolled": true
   },
   "outputs": [
    {
     "data": {
      "text/plain": [
       "15"
      ]
     },
     "execution_count": 76,
     "metadata": {},
     "output_type": "execute_result"
    }
   ],
   "source": [
    "#Παράδειγμα συνάρτησης που επιστρέφει το άθροισμα ή το γινόμενο δύο αριθμών.\n",
    "function calculate_items(item1, item2)\n",
    "    if item1 > item2\n",
    "        return item1+item2\n",
    "    else\n",
    "        return item1*item2\n",
    "    end\n",
    "end\n",
    "\n",
    "#Επιστρέφουν το αποτέλεσμα.\n",
    "#calculate_items(8,5)\n",
    "calculate_items(3,5)"
   ]
  },
  {
   "cell_type": "markdown",
   "metadata": {},
   "source": [
    "- Για να εισάγουμε στις συναρτήσεις __global__ μεταβλητές, αρκεί να περιέχεται η εντολή `global όνομα_μεταβλητής` μέσα στον κώδικα της συνάρτησης. (Αντίστοιχα υπάρχει και η εντολή `local`) "
   ]
  },
  {
   "cell_type": "markdown",
   "metadata": {},
   "source": [
    "### Λεξικά"
   ]
  },
  {
   "cell_type": "markdown",
   "metadata": {},
   "source": [
    "#### Δημιουργία Λεξικού\n",
    "- `x = Dict()` = κενό λεξικό\n",
    "\n",
    "- `x = Dict(key => value, ...)` = λεξικό με στοιχεία"
   ]
  },
  {
   "cell_type": "code",
   "execution_count": null,
   "metadata": {
    "scrolled": true
   },
   "outputs": [],
   "source": [
    "#Δημιουργία μη κενού λεξικού \n",
    "x = Dict(1 => \"one\", 2 => \"two\", 4 => \"four\")\n",
    "\n",
    "#=\n",
    "Int64: Τα κλειδιά είναι ακέραιοι\n",
    "String: Τα values συμβολοσειρές\n",
    "Αny: Παραπάνω από ένα είδος\n",
    "=#"
   ]
  },
  {
   "cell_type": "markdown",
   "metadata": {},
   "source": [
    "#### Προσθήκη στοιχείων.\n",
    "\n",
    "- `x[key] = value`\n",
    "\n",
    "- `x = Dict(key => value)`"
   ]
  },
  {
   "cell_type": "code",
   "execution_count": null,
   "metadata": {
    "scrolled": true
   },
   "outputs": [],
   "source": [
    "#Δημιουργία κενού λεξικού (έχει any) και στη συνέχεια προσθήκη ενός στοιχείου.\n",
    "x = Dict()\n",
    "x[1] = \"one\"\n",
    "x"
   ]
  },
  {
   "cell_type": "markdown",
   "metadata": {},
   "source": [
    "#### Αναφορά σε στοιχείο\n",
    "- `x[key]`"
   ]
  },
  {
   "cell_type": "code",
   "execution_count": null,
   "metadata": {},
   "outputs": [],
   "source": [
    "x = Dict(1 => \"one\", 2 => \"two\", 4 => \"four\")\n",
    "x[2]"
   ]
  },
  {
   "cell_type": "markdown",
   "metadata": {},
   "source": [
    "- Μπορούμε να χρησιμοποιήσουμε τον boolean τελεστή ∈, ο οποίος επιστρέφει true αν κάποιο key ή/και value υπάρχει στο λεξικό."
   ]
  },
  {
   "cell_type": "code",
   "execution_count": null,
   "metadata": {
    "scrolled": true
   },
   "outputs": [],
   "source": [
    "x = Dict(1 => \"one\", 2 => \"two\", 4 => \"four\")\n",
    "\n",
    "#Κλειδί\n",
    "k = keys(x)\n",
    "println(\"1) \", 2 ∈ k)\n",
    "\n",
    "#Value\n",
    "v = values(x)\n",
    "println(\"2) \", \"two\" ∈ v)\n",
    "\n",
    "#Στοιχείο\n",
    "println(\"3) \", (2=>\"two\") ∈ x)"
   ]
  },
  {
   "cell_type": "code",
   "execution_count": null,
   "metadata": {},
   "outputs": [],
   "source": [
    "#=\n",
    "Παράδειγμα εκτύπωσης value των λεξικών.\n",
    "(k,v) = πλειάδα, όπου k το key και v το value.\n",
    "=#\n",
    "\n",
    "x = Dict(1 => \"one\", 2 => \"two\", 4 => \"four\")\n",
    "\n",
    "for (k,v) in x\n",
    "    println(x[k])\n",
    "end"
   ]
  },
  {
   "cell_type": "markdown",
   "metadata": {},
   "source": [
    "### Πλειάδες"
   ]
  },
  {
   "cell_type": "markdown",
   "metadata": {},
   "source": [
    "#### Δημιουργία Πλειάδων\n",
    "\n",
    "- Με παρένθεση: `t = (a, b, c, ...)`\n",
    "\n",
    "- Χωρίς παρένθεση: `t = a, b, c, ...`\n",
    "\n",
    "- Με χρήση της συνάρτησης `tuple()` :\n",
    "\n",
    "    - `t = tuple()` = κενή πλειάδα\n",
    "    \n",
    "    - `t = tuple(a, b ,c, ...)`\n",
    "\n",
    "όπου a, b, c,... είναι οποιαδήποτε στοιχεία, π.χ. αριθμοί, χαρακτήρες, συμβολοσειρές, πίνακες,...\n",
    "- Η πλειάδα με ένα στοιχείο πρέπει να είναι της μορφής: `t =(a, )`"
   ]
  },
  {
   "cell_type": "code",
   "execution_count": null,
   "metadata": {
    "scrolled": true
   },
   "outputs": [],
   "source": [
    "#Παραδείγματα πλειάδων.\n",
    "t1 = 2, \"asdf\", 4_324.312 ,[2 3; 2 2]\n",
    "t2 = (2, \"asdf\", 4_324.312 ,[2 3; 2 2])\n",
    "t3 = tuple(2, \"asdf\", 4_324.312 ,[2 3; 2 2])\n",
    "\n",
    "println(\"t1 = \", t1)\n",
    "println(\"t2 = \", t2)\n",
    "println(\"t3 = \", t3)\n",
    "\n",
    "#Πλειάδα με ένα στοιχείο.\n",
    "t4 = ('a',)\n",
    "println(\"t4 = \", t4,\", όπου t4 είναι \", typeof(t4))\n",
    "\n",
    "#Δεν είναι πλειάδα.\n",
    "t5 = ('a')\n",
    "println(\"t5 = \", t5,\", όπου t5 είναι \", typeof(t5))"
   ]
  },
  {
   "cell_type": "markdown",
   "metadata": {},
   "source": [
    "#### Xαρακτηριστικά / Λειτουργίες\n",
    "\n",
    "- Είναι αμετάβλητοι, δηλαδή δεν μπορούμε να τις τροποποιήσουμε.\n",
    "\n",
    "- Μπορούμε να επιλέξουμε συγκεκρίμενα τμήματα πλειάδων, όπως και στους πίνακες:\n",
    "    - `όνομα_πλειάδας[index] `= αναφορά σε ένα στοιχείο της πλειάδας που βρίσκεται στην θέση index της πλειάδας, όπου index ακέραιος μεγαλύτερος του 1.\n",
    "    \n",
    "    - `όνομα_πλειάδας[n:m]` = αναφορά στο τμήμα της πλειάδας από τη θέση n εώς m.\n",
    "    \n",
    "- Αναγνωρίζουν τους τελεστές σύγκρισης. "
   ]
  },
  {
   "cell_type": "markdown",
   "metadata": {},
   "source": [
    "### Structs"
   ]
  },
  {
   "cell_type": "markdown",
   "metadata": {},
   "source": [
    "#### Υλοποίηση struct\n",
    "\n",
    "Χρησιμοποιούμε την εντολή `struct`"
   ]
  },
  {
   "cell_type": "code",
   "execution_count": null,
   "metadata": {},
   "outputs": [],
   "source": [
    "#= \n",
    "struct όνομα\n",
    "    body -> πεδία_του_struct\n",
    "end\n",
    "=#\n",
    "\n",
    "#Παράδειγμα struct σημείο του τρισδιάστατου χώρου.\n",
    "struct Point\n",
    "    x\n",
    "    y\n",
    "    z\n",
    "end"
   ]
  },
  {
   "cell_type": "markdown",
   "metadata": {},
   "source": [
    "#### Αναφορά στα values του struct\n",
    "\n",
    "- `όνομα_struct.value`"
   ]
  },
  {
   "cell_type": "code",
   "execution_count": null,
   "metadata": {
    "scrolled": true
   },
   "outputs": [],
   "source": [
    "#Παράδειγμα με το struct Point.\n",
    "\n",
    "println(\"x = \", Point(1,2,3).x)\n",
    "\n",
    "y = Point(1,2,3).y\n",
    "println(\"y = \",y)\n",
    "\n",
    "point = Point(1,2,3)\n",
    "z = point.z\n",
    "println(\"z = \",z)"
   ]
  },
  {
   "cell_type": "markdown",
   "metadata": {},
   "source": [
    "<b>Σημαντικό:</b> Τα structs (`struct-end`) είναι αμετάβλητα, immutable."
   ]
  },
  {
   "cell_type": "code",
   "execution_count": null,
   "metadata": {
    "scrolled": true
   },
   "outputs": [],
   "source": [
    "#Παράδειγμα αλλαγής τιμής του y.\n",
    "point = Point(1,2,3)\n",
    "point.y = 4"
   ]
  },
  {
   "cell_type": "markdown",
   "metadata": {},
   "source": [
    "#### Μεταβλητά structs\n",
    "\n",
    "Μπορούμε ωστόσο να δημιουργήσουμε μεταβλητά structs με την εντολή `mutable struct`."
   ]
  },
  {
   "cell_type": "code",
   "execution_count": null,
   "metadata": {},
   "outputs": [],
   "source": [
    "#=\n",
    "mutable struct όνομα\n",
    "    body -> πεδία_του_mutable_struct\n",
    "end\n",
    "=#\n",
    "\n",
    "#Παράδειγμα mutable struct σημείο του τρισδιάστατου χώρου.\n",
    "mutable struct MutablePoint\n",
    "    x\n",
    "    y\n",
    "    z\n",
    "end"
   ]
  },
  {
   "cell_type": "code",
   "execution_count": null,
   "metadata": {},
   "outputs": [],
   "source": [
    "mp = MutablePoint(0, 0, 0)\n",
    "mp.x = 1\n",
    "mp.y = 2\n",
    "mp.z = 3\n",
    "println(mp)"
   ]
  },
  {
   "cell_type": "markdown",
   "metadata": {},
   "source": [
    "### Αρχεία"
   ]
  },
  {
   "cell_type": "markdown",
   "metadata": {},
   "source": [
    "- `open(\"όνομα_αρχείου\")` = άνοιγμα αρχείου\n",
    "\n",
    "- `open(\"όνομα_αρχείου\", \"w\")` = άνοιγμα αρχείου in write mode.\n",
    "\n",
    "    - `write(file, string)` = επιστρέφει το πλήθος των χαρακτήρων του string, που εισάγαμε/\"γράψαμε\" στο αρχείο file.\n",
    "\n",
    "- `readline(\"όνομα_αρχείου\")` = ανάγνωση μιας γραμμής αρχείου\n",
    "\n",
    "- `close(\"όνομα_αρχείου\")` = κλείσιμο αρχείου\n",
    "\n",
    "- `pwd()` = επιστρέφει το όνομα του current working directory.\n",
    "\n",
    "- `abspath(\"όνομα_αρχείου\")` = επιστρέφει το absolut path του αρχείου.\n",
    "\n",
    "- `ispath(\"όνομα_αρχείου\")` = επιστρέφει true/false, σε περίπτωση που υπάρχει/δεν υπάρχει το αρχείο.\n",
    "\n",
    "- `isdir(\"something\")` = επιστρέφει true/false, σε περίπτωση που το something είναι/δεν είναι directory.\n",
    "\n",
    "- `isfile(\"something\")` = επιστρέφει true/false, σε περίπτωση που το something είναι/δεν είναι αρχείο.\n",
    "\n",
    "- `readdir(directory)` = επιστρέφει συμβολοσειρά από αρχεία (και άλλα directories) που υπάρχουν στο δοσμένο directory.\n"
   ]
  },
  {
   "cell_type": "markdown",
   "metadata": {},
   "source": [
    "### Packages"
   ]
  },
  {
   "cell_type": "markdown",
   "metadata": {},
   "source": [
    "Η Julia έχει πάνω 4.000 [πακέτα](https://julialang.org/packages/).\n",
    "\n",
    "- Προσθήκη πακέτων: `Pkg.add(\"πακέτο\")`\n",
    "\n",
    "- Χρήση πακέτου: `using πακέτο`\n",
    "\n",
    "- Διαγραφή πακέτου: `Pkg.rm(\"πακέτο\")`\n",
    "\n",
    "- Αναβάθμιση πακέτου: `Pkg.update(\"πακέτο\")`"
   ]
  },
  {
   "cell_type": "code",
   "execution_count": 77,
   "metadata": {},
   "outputs": [
    {
     "data": {
      "image/svg+xml": [
       "<?xml version=\"1.0\" encoding=\"UTF-8\"?>\n",
       "<!DOCTYPE svg PUBLIC \"-//W3C//DTD SVG 1.1//EN\"\n",
       " \"http://www.w3.org/Graphics/SVG/1.1/DTD/svg11.dtd\">\n",
       "<svg xmlns=\"http://www.w3.org/2000/svg\" version=\"1.1\"\n",
       "     width=\"180mm\" height=\"25mm\"\n",
       "     viewBox=\"0 0 100 1\" preserveAspectRatio=\"none\"\n",
       "     shape-rendering=\"crispEdges\" stroke=\"none\">\n",
       "<rect width=\"1\" height=\".96\" x=\"0\" y=\"0\" fill=\"#000000\" />\n",
       "<rect width=\"1\" height=\".96\" x=\"1\" y=\"0\" fill=\"#FFFF74\" />\n",
       "<rect width=\"1\" height=\".96\" x=\"2\" y=\"0\" fill=\"#FF9BFF\" />\n",
       "<rect width=\"1\" height=\".96\" x=\"3\" y=\"0\" fill=\"#00D3FF\" />\n",
       "<rect width=\"1\" height=\".96\" x=\"4\" y=\"0\" fill=\"#E2630D\" />\n",
       "<rect width=\"1\" height=\".96\" x=\"5\" y=\"0\" fill=\"#007E00\" />\n",
       "<rect width=\"1\" height=\".96\" x=\"6\" y=\"0\" fill=\"#0050E6\" />\n",
       "<rect width=\"1\" height=\".96\" x=\"7\" y=\"0\" fill=\"#AC0047\" />\n",
       "<rect width=\"1\" height=\".96\" x=\"8\" y=\"0\" fill=\"#00FFC8\" />\n",
       "<rect width=\"1\" height=\".96\" x=\"9\" y=\"0\" fill=\"#006468\" />\n",
       "<rect width=\"1\" height=\".96\" x=\"10\" y=\"0\" fill=\"#FFD5C4\" />\n",
       "<rect width=\"1\" height=\".96\" x=\"11\" y=\"0\" fill=\"#6C5200\" />\n",
       "<rect width=\"1\" height=\".96\" x=\"12\" y=\"0\" fill=\"#7A7581\" />\n",
       "<rect width=\"1\" height=\".96\" x=\"13\" y=\"0\" fill=\"#44005C\" />\n",
       "<rect width=\"1\" height=\".96\" x=\"14\" y=\"0\" fill=\"#9E9E77\" />\n",
       "<rect width=\"1\" height=\".96\" x=\"15\" y=\"0\" fill=\"#FF5C78\" />\n",
       "<rect width=\"1\" height=\".96\" x=\"16\" y=\"0\" fill=\"#8197F1\" />\n",
       "<rect width=\"1\" height=\".96\" x=\"17\" y=\"0\" fill=\"#003200\" />\n",
       "<rect width=\"1\" height=\".96\" x=\"18\" y=\"0\" fill=\"#C721DD\" />\n",
       "<rect width=\"1\" height=\".96\" x=\"19\" y=\"0\" fill=\"#FFAD07\" />\n",
       "<rect width=\"1\" height=\".96\" x=\"20\" y=\"0\" fill=\"#611C00\" />\n",
       "<rect width=\"1\" height=\".96\" x=\"21\" y=\"0\" fill=\"#F3FFFA\" />\n",
       "<rect width=\"1\" height=\".96\" x=\"22\" y=\"0\" fill=\"#009E88\" />\n",
       "<rect width=\"1\" height=\".96\" x=\"23\" y=\"0\" fill=\"#5EC700\" />\n",
       "<rect width=\"1\" height=\".96\" x=\"24\" y=\"0\" fill=\"#002D54\" />\n",
       "<rect width=\"1\" height=\".96\" x=\"25\" y=\"0\" fill=\"#553C4A\" />\n",
       "<rect width=\"1\" height=\".96\" x=\"26\" y=\"0\" fill=\"#444439\" />\n",
       "<rect width=\"1\" height=\".96\" x=\"27\" y=\"0\" fill=\"#008FB6\" />\n",
       "<rect width=\"1\" height=\".96\" x=\"28\" y=\"0\" fill=\"#CFD4FD\" />\n",
       "<rect width=\"1\" height=\".96\" x=\"29\" y=\"0\" fill=\"#C40000\" />\n",
       "<rect width=\"1\" height=\".96\" x=\"30\" y=\"0\" fill=\"#A4675C\" />\n",
       "<rect width=\"1\" height=\".96\" x=\"31\" y=\"0\" fill=\"#BB8FA8\" />\n",
       "<rect width=\"1\" height=\".96\" x=\"32\" y=\"0\" fill=\"#290001\" />\n",
       "<rect width=\"1\" height=\".96\" x=\"33\" y=\"0\" fill=\"#A78600\" />\n",
       "<rect width=\"1\" height=\".96\" x=\"34\" y=\"0\" fill=\"#002D30\" />\n",
       "<rect width=\"1\" height=\".96\" x=\"35\" y=\"0\" fill=\"#C7DEAA\" />\n",
       "<rect width=\"1\" height=\".96\" x=\"36\" y=\"0\" fill=\"#8D9FA3\" />\n",
       "<rect width=\"1\" height=\".96\" x=\"37\" y=\"0\" fill=\"#6F5B95\" />\n",
       "<rect width=\"1\" height=\".96\" x=\"38\" y=\"0\" fill=\"#A1FFFF\" />\n",
       "<rect width=\"1\" height=\".96\" x=\"39\" y=\"0\" fill=\"#B39688\" />\n",
       "<rect width=\"1\" height=\".96\" x=\"40\" y=\"0\" fill=\"#4E6D50\" />\n",
       "<rect width=\"1\" height=\".96\" x=\"41\" y=\"0\" fill=\"#FF977B\" />\n",
       "<rect width=\"1\" height=\".96\" x=\"42\" y=\"0\" fill=\"#FFD1EC\" />\n",
       "<rect width=\"1\" height=\".96\" x=\"43\" y=\"0\" fill=\"#9E5100\" />\n",
       "<rect width=\"1\" height=\".96\" x=\"44\" y=\"0\" fill=\"#AE5B8E\" />\n",
       "<rect width=\"1\" height=\".96\" x=\"45\" y=\"0\" fill=\"#799400\" />\n",
       "<rect width=\"1\" height=\".96\" x=\"46\" y=\"0\" fill=\"#362200\" />\n",
       "<rect width=\"1\" height=\".96\" x=\"47\" y=\"0\" fill=\"#0E0026\" />\n",
       "<rect width=\"1\" height=\".96\" x=\"48\" y=\"0\" fill=\"#80765F\" />\n",
       "<rect width=\"1\" height=\".96\" x=\"49\" y=\"0\" fill=\"#485C00\" />\n",
       "<rect width=\"1\" height=\".96\" x=\"50\" y=\"0\" fill=\"#C8C2B5\" />\n",
       "<rect width=\"1\" height=\".96\" x=\"51\" y=\"0\" fill=\"#8800A1\" />\n",
       "<rect width=\"1\" height=\".96\" x=\"52\" y=\"0\" fill=\"#00A853\" />\n",
       "<rect width=\"1\" height=\".96\" x=\"53\" y=\"0\" fill=\"#FFE1AA\" />\n",
       "<rect width=\"1\" height=\".96\" x=\"54\" y=\"0\" fill=\"#674F42\" />\n",
       "<rect width=\"1\" height=\".96\" x=\"55\" y=\"0\" fill=\"#FF342D\" />\n",
       "<rect width=\"1\" height=\".96\" x=\"56\" y=\"0\" fill=\"#6B0041\" />\n",
       "<rect width=\"1\" height=\".96\" x=\"57\" y=\"0\" fill=\"#0806B1\" />\n",
       "<rect width=\"1\" height=\".96\" x=\"58\" y=\"0\" fill=\"#986DFF\" />\n",
       "<rect width=\"1\" height=\".96\" x=\"59\" y=\"0\" fill=\"#FF4EC7\" />\n",
       "<rect width=\"1\" height=\".96\" x=\"60\" y=\"0\" fill=\"#8AB9A2\" />\n",
       "<rect width=\"1\" height=\".96\" x=\"61\" y=\"0\" fill=\"#2EFF71\" />\n",
       "<rect width=\"1\" height=\".96\" x=\"62\" y=\"0\" fill=\"#005577\" />\n",
       "<rect width=\"1\" height=\".96\" x=\"63\" y=\"0\" fill=\"#0078E3\" />\n",
       "<rect width=\"1\" height=\".96\" x=\"64\" y=\"0\" fill=\"#B2ADB9\" />\n",
       "<rect width=\"1\" height=\".96\" x=\"65\" y=\"0\" fill=\"#00C3C6\" />\n",
       "<rect width=\"1\" height=\".96\" x=\"66\" y=\"0\" fill=\"#00AEFF\" />\n",
       "<rect width=\"1\" height=\".96\" x=\"67\" y=\"0\" fill=\"#4E545F\" />\n",
       "<rect width=\"1\" height=\".96\" x=\"68\" y=\"0\" fill=\"#FF9BB0\" />\n",
       "<rect width=\"1\" height=\".96\" x=\"69\" y=\"0\" fill=\"#FED206\" />\n",
       "<rect width=\"1\" height=\".96\" x=\"70\" y=\"0\" fill=\"#687B7A\" />\n",
       "<rect width=\"1\" height=\".96\" x=\"71\" y=\"0\" fill=\"#B1DCFC\" />\n",
       "<rect width=\"1\" height=\".96\" x=\"72\" y=\"0\" fill=\"#FFF6FF\" />\n",
       "<rect width=\"1\" height=\".96\" x=\"73\" y=\"0\" fill=\"#620019\" />\n",
       "<rect width=\"1\" height=\".96\" x=\"74\" y=\"0\" fill=\"#C79253\" />\n",
       "<rect width=\"1\" height=\".96\" x=\"75\" y=\"0\" fill=\"#A891CF\" />\n",
       "<rect width=\"1\" height=\".96\" x=\"76\" y=\"0\" fill=\"#EF007A\" />\n",
       "<rect width=\"1\" height=\".96\" x=\"77\" y=\"0\" fill=\"#B8CE00\" />\n",
       "<rect width=\"1\" height=\".96\" x=\"78\" y=\"0\" fill=\"#001700\" />\n",
       "<rect width=\"1\" height=\".96\" x=\"79\" y=\"0\" fill=\"#204B39\" />\n",
       "<rect width=\"1\" height=\".96\" x=\"80\" y=\"0\" fill=\"#875866\" />\n",
       "<rect width=\"1\" height=\".96\" x=\"81\" y=\"0\" fill=\"#B5FF4E\" />\n",
       "<rect width=\"1\" height=\".96\" x=\"82\" y=\"0\" fill=\"#B40080\" />\n",
       "<rect width=\"1\" height=\".96\" x=\"83\" y=\"0\" fill=\"#853F34\" />\n",
       "<rect width=\"1\" height=\".96\" x=\"84\" y=\"0\" fill=\"#69936B\" />\n",
       "<rect width=\"1\" height=\".96\" x=\"85\" y=\"0\" fill=\"#FFBC80\" />\n",
       "<rect width=\"1\" height=\".96\" x=\"86\" y=\"0\" fill=\"#4C3779\" />\n",
       "<rect width=\"1\" height=\".96\" x=\"87\" y=\"0\" fill=\"#323606\" />\n",
       "<rect width=\"1\" height=\".96\" x=\"88\" y=\"0\" fill=\"#008E94\" />\n",
       "<rect width=\"1\" height=\".96\" x=\"89\" y=\"0\" fill=\"#CAAC51\" />\n",
       "<rect width=\"1\" height=\".96\" x=\"90\" y=\"0\" fill=\"#787B3B\" />\n",
       "<rect width=\"1\" height=\".96\" x=\"91\" y=\"0\" fill=\"#B6F9D9\" />\n",
       "<rect width=\"1\" height=\".96\" x=\"92\" y=\"0\" fill=\"#DA003F\" />\n",
       "<rect width=\"1\" height=\".96\" x=\"93\" y=\"0\" fill=\"#2E2124\" />\n",
       "<rect width=\"1\" height=\".96\" x=\"94\" y=\"0\" fill=\"#005815\" />\n",
       "<rect width=\"1\" height=\".96\" x=\"95\" y=\"0\" fill=\"#FF8E1D\" />\n",
       "<rect width=\"1\" height=\".96\" x=\"96\" y=\"0\" fill=\"#6674B1\" />\n",
       "<rect width=\"1\" height=\".96\" x=\"97\" y=\"0\" fill=\"#00CDAD\" />\n",
       "<rect width=\"1\" height=\".96\" x=\"98\" y=\"0\" fill=\"#007F63\" />\n",
       "<rect width=\"1\" height=\".96\" x=\"99\" y=\"0\" fill=\"#996F3D\" />\n",
       "</svg>"
      ],
      "text/plain": [
       "100-element Array{RGB{N0f8},1} with eltype RGB{FixedPointNumbers.Normed{UInt8,8}}:\n",
       " RGB{N0f8}(0.0,0.0,0.0)\n",
       " RGB{N0f8}(1.0,1.0,0.455)\n",
       " RGB{N0f8}(1.0,0.608,1.0)\n",
       " RGB{N0f8}(0.0,0.827,1.0)\n",
       " RGB{N0f8}(0.886,0.388,0.051)\n",
       " RGB{N0f8}(0.0,0.494,0.0)\n",
       " RGB{N0f8}(0.0,0.314,0.902)\n",
       " RGB{N0f8}(0.675,0.0,0.278)\n",
       " RGB{N0f8}(0.0,1.0,0.784)\n",
       " RGB{N0f8}(0.0,0.392,0.408)\n",
       " RGB{N0f8}(1.0,0.835,0.769)\n",
       " RGB{N0f8}(0.424,0.322,0.0)\n",
       " RGB{N0f8}(0.478,0.459,0.506)\n",
       " ⋮\n",
       " RGB{N0f8}(0.0,0.557,0.58)\n",
       " RGB{N0f8}(0.792,0.675,0.318)\n",
       " RGB{N0f8}(0.471,0.482,0.231)\n",
       " RGB{N0f8}(0.714,0.976,0.851)\n",
       " RGB{N0f8}(0.855,0.0,0.247)\n",
       " RGB{N0f8}(0.18,0.129,0.141)\n",
       " RGB{N0f8}(0.0,0.345,0.082)\n",
       " RGB{N0f8}(1.0,0.557,0.114)\n",
       " RGB{N0f8}(0.4,0.455,0.694)\n",
       " RGB{N0f8}(0.0,0.804,0.678)\n",
       " RGB{N0f8}(0.0,0.498,0.388)\n",
       " RGB{N0f8}(0.6,0.435,0.239)"
      ]
     },
     "execution_count": 77,
     "metadata": {},
     "output_type": "execute_result"
    }
   ],
   "source": [
    "#=\n",
    "import Pkg\n",
    "Pkg.add(\"Colors\")\n",
    "=#\n",
    "\n",
    "using Colors\n",
    "\n",
    "#Δημιουργία παλέτας με 100 διαφορετικά χρώματα.\n",
    "palette = distinguishable_colors(100)"
   ]
  },
  {
   "cell_type": "code",
   "execution_count": 78,
   "metadata": {},
   "outputs": [
    {
     "data": {
      "image/svg+xml": [
       "<?xml version=\"1.0\" encoding=\"utf-8\"?>\n",
       "<svg xmlns=\"http://www.w3.org/2000/svg\" xmlns:xlink=\"http://www.w3.org/1999/xlink\" width=\"600\" height=\"400\" viewBox=\"0 0 2400 1600\">\n",
       "<defs>\n",
       "  <clipPath id=\"clip630\">\n",
       "    <rect x=\"0\" y=\"0\" width=\"2400\" height=\"1600\"/>\n",
       "  </clipPath>\n",
       "</defs>\n",
       "<path clip-path=\"url(#clip630)\" d=\"\n",
       "M0 1600 L2400 1600 L2400 0 L0 0  Z\n",
       "  \" fill=\"#ffffff\" fill-rule=\"evenodd\" fill-opacity=\"1\"/>\n",
       "<defs>\n",
       "  <clipPath id=\"clip631\">\n",
       "    <rect x=\"480\" y=\"0\" width=\"1681\" height=\"1600\"/>\n",
       "  </clipPath>\n",
       "</defs>\n",
       "<path clip-path=\"url(#clip630)\" d=\"\n",
       "M226.232 1423.18 L2352.76 1423.18 L2352.76 47.2441 L226.232 47.2441  Z\n",
       "  \" fill=\"#ffffff\" fill-rule=\"evenodd\" fill-opacity=\"1\"/>\n",
       "<defs>\n",
       "  <clipPath id=\"clip632\">\n",
       "    <rect x=\"226\" y=\"47\" width=\"2128\" height=\"1377\"/>\n",
       "  </clipPath>\n",
       "</defs>\n",
       "<polyline clip-path=\"url(#clip632)\" style=\"stroke:#000000; stroke-width:2; stroke-opacity:0.1; fill:none\" points=\"\n",
       "  286.417,1423.18 286.417,47.2441 \n",
       "  \"/>\n",
       "<polyline clip-path=\"url(#clip632)\" style=\"stroke:#000000; stroke-width:2; stroke-opacity:0.1; fill:none\" points=\"\n",
       "  787.955,1423.18 787.955,47.2441 \n",
       "  \"/>\n",
       "<polyline clip-path=\"url(#clip632)\" style=\"stroke:#000000; stroke-width:2; stroke-opacity:0.1; fill:none\" points=\"\n",
       "  1289.49,1423.18 1289.49,47.2441 \n",
       "  \"/>\n",
       "<polyline clip-path=\"url(#clip632)\" style=\"stroke:#000000; stroke-width:2; stroke-opacity:0.1; fill:none\" points=\"\n",
       "  1791.03,1423.18 1791.03,47.2441 \n",
       "  \"/>\n",
       "<polyline clip-path=\"url(#clip632)\" style=\"stroke:#000000; stroke-width:2; stroke-opacity:0.1; fill:none\" points=\"\n",
       "  2292.57,1423.18 2292.57,47.2441 \n",
       "  \"/>\n",
       "<polyline clip-path=\"url(#clip630)\" style=\"stroke:#000000; stroke-width:4; stroke-opacity:1; fill:none\" points=\"\n",
       "  226.232,1423.18 2352.76,1423.18 \n",
       "  \"/>\n",
       "<polyline clip-path=\"url(#clip630)\" style=\"stroke:#000000; stroke-width:4; stroke-opacity:1; fill:none\" points=\"\n",
       "  286.417,1423.18 286.417,1406.67 \n",
       "  \"/>\n",
       "<polyline clip-path=\"url(#clip630)\" style=\"stroke:#000000; stroke-width:4; stroke-opacity:1; fill:none\" points=\"\n",
       "  787.955,1423.18 787.955,1406.67 \n",
       "  \"/>\n",
       "<polyline clip-path=\"url(#clip630)\" style=\"stroke:#000000; stroke-width:4; stroke-opacity:1; fill:none\" points=\"\n",
       "  1289.49,1423.18 1289.49,1406.67 \n",
       "  \"/>\n",
       "<polyline clip-path=\"url(#clip630)\" style=\"stroke:#000000; stroke-width:4; stroke-opacity:1; fill:none\" points=\"\n",
       "  1791.03,1423.18 1791.03,1406.67 \n",
       "  \"/>\n",
       "<polyline clip-path=\"url(#clip630)\" style=\"stroke:#000000; stroke-width:4; stroke-opacity:1; fill:none\" points=\"\n",
       "  2292.57,1423.18 2292.57,1406.67 \n",
       "  \"/>\n",
       "<path clip-path=\"url(#clip630)\" d=\"M 0 0 M267.933 1452.37 Q264.322 1452.37 262.493 1455.94 Q260.688 1459.48 260.688 1466.61 Q260.688 1473.71 262.493 1477.28 Q264.322 1480.82 267.933 1480.82 Q271.567 1480.82 273.373 1477.28 Q275.201 1473.71 275.201 1466.61 Q275.201 1459.48 273.373 1455.94 Q271.567 1452.37 267.933 1452.37 M267.933 1448.67 Q273.743 1448.67 276.799 1453.27 Q279.877 1457.86 279.877 1466.61 Q279.877 1475.33 276.799 1479.94 Q273.743 1484.52 267.933 1484.52 Q262.123 1484.52 259.044 1479.94 Q255.989 1475.33 255.989 1466.61 Q255.989 1457.86 259.044 1453.27 Q262.123 1448.67 267.933 1448.67 Z\" fill=\"#000000\" fill-rule=\"evenodd\" fill-opacity=\"1\" /><path clip-path=\"url(#clip630)\" d=\"M 0 0 M284.947 1477.97 L289.831 1477.97 L289.831 1483.85 L284.947 1483.85 L284.947 1477.97 Z\" fill=\"#000000\" fill-rule=\"evenodd\" fill-opacity=\"1\" /><path clip-path=\"url(#clip630)\" d=\"M 0 0 M304.9 1452.37 Q301.289 1452.37 299.461 1455.94 Q297.655 1459.48 297.655 1466.61 Q297.655 1473.71 299.461 1477.28 Q301.289 1480.82 304.9 1480.82 Q308.535 1480.82 310.34 1477.28 Q312.169 1473.71 312.169 1466.61 Q312.169 1459.48 310.34 1455.94 Q308.535 1452.37 304.9 1452.37 M304.9 1448.67 Q310.71 1448.67 313.766 1453.27 Q316.845 1457.86 316.845 1466.61 Q316.845 1475.33 313.766 1479.94 Q310.71 1484.52 304.9 1484.52 Q299.09 1484.52 296.011 1479.94 Q292.956 1475.33 292.956 1466.61 Q292.956 1457.86 296.011 1453.27 Q299.09 1448.67 304.9 1448.67 Z\" fill=\"#000000\" fill-rule=\"evenodd\" fill-opacity=\"1\" /><path clip-path=\"url(#clip630)\" d=\"M 0 0 M764.622 1479.92 L780.941 1479.92 L780.941 1483.85 L758.997 1483.85 L758.997 1479.92 Q761.659 1477.16 766.242 1472.53 Q770.849 1467.88 772.029 1466.54 Q774.275 1464.01 775.154 1462.28 Q776.057 1460.52 776.057 1458.83 Q776.057 1456.07 774.113 1454.34 Q772.191 1452.6 769.09 1452.6 Q766.891 1452.6 764.437 1453.37 Q762.006 1454.13 759.229 1455.68 L759.229 1450.96 Q762.053 1449.82 764.506 1449.25 Q766.96 1448.67 768.997 1448.67 Q774.367 1448.67 777.562 1451.35 Q780.756 1454.04 780.756 1458.53 Q780.756 1460.66 779.946 1462.58 Q779.159 1464.48 777.053 1467.07 Q776.474 1467.74 773.372 1470.96 Q770.27 1474.15 764.622 1479.92 Z\" fill=\"#000000\" fill-rule=\"evenodd\" fill-opacity=\"1\" /><path clip-path=\"url(#clip630)\" d=\"M 0 0 M786.011 1477.97 L790.895 1477.97 L790.895 1483.85 L786.011 1483.85 L786.011 1477.97 Z\" fill=\"#000000\" fill-rule=\"evenodd\" fill-opacity=\"1\" /><path clip-path=\"url(#clip630)\" d=\"M 0 0 M796.011 1449.29 L814.367 1449.29 L814.367 1453.23 L800.293 1453.23 L800.293 1461.7 Q801.312 1461.35 802.33 1461.19 Q803.349 1461 804.367 1461 Q810.154 1461 813.534 1464.18 Q816.913 1467.35 816.913 1472.76 Q816.913 1478.34 813.441 1481.44 Q809.969 1484.52 803.65 1484.52 Q801.474 1484.52 799.205 1484.15 Q796.96 1483.78 794.552 1483.04 L794.552 1478.34 Q796.636 1479.48 798.858 1480.03 Q801.08 1480.59 803.557 1480.59 Q807.562 1480.59 809.9 1478.48 Q812.238 1476.38 812.238 1472.76 Q812.238 1469.15 809.9 1467.05 Q807.562 1464.94 803.557 1464.94 Q801.682 1464.94 799.807 1465.36 Q797.955 1465.77 796.011 1466.65 L796.011 1449.29 Z\" fill=\"#000000\" fill-rule=\"evenodd\" fill-opacity=\"1\" /><path clip-path=\"url(#clip630)\" d=\"M 0 0 M1261.29 1449.29 L1279.64 1449.29 L1279.64 1453.23 L1265.57 1453.23 L1265.57 1461.7 Q1266.59 1461.35 1267.61 1461.19 Q1268.63 1461 1269.64 1461 Q1275.43 1461 1278.81 1464.18 Q1282.19 1467.35 1282.19 1472.76 Q1282.19 1478.34 1278.72 1481.44 Q1275.25 1484.52 1268.93 1484.52 Q1266.75 1484.52 1264.48 1484.15 Q1262.24 1483.78 1259.83 1483.04 L1259.83 1478.34 Q1261.91 1479.48 1264.14 1480.03 Q1266.36 1480.59 1268.83 1480.59 Q1272.84 1480.59 1275.18 1478.48 Q1277.51 1476.38 1277.51 1472.76 Q1277.51 1469.15 1275.18 1467.05 Q1272.84 1464.94 1268.83 1464.94 Q1266.96 1464.94 1265.08 1465.36 Q1263.23 1465.77 1261.29 1466.65 L1261.29 1449.29 Z\" fill=\"#000000\" fill-rule=\"evenodd\" fill-opacity=\"1\" /><path clip-path=\"url(#clip630)\" d=\"M 0 0 M1287.26 1477.97 L1292.14 1477.97 L1292.14 1483.85 L1287.26 1483.85 L1287.26 1477.97 Z\" fill=\"#000000\" fill-rule=\"evenodd\" fill-opacity=\"1\" /><path clip-path=\"url(#clip630)\" d=\"M 0 0 M1307.21 1452.37 Q1303.6 1452.37 1301.77 1455.94 Q1299.97 1459.48 1299.97 1466.61 Q1299.97 1473.71 1301.77 1477.28 Q1303.6 1480.82 1307.21 1480.82 Q1310.85 1480.82 1312.65 1477.28 Q1314.48 1473.71 1314.48 1466.61 Q1314.48 1459.48 1312.65 1455.94 Q1310.85 1452.37 1307.21 1452.37 M1307.21 1448.67 Q1313.02 1448.67 1316.08 1453.27 Q1319.16 1457.86 1319.16 1466.61 Q1319.16 1475.33 1316.08 1479.94 Q1313.02 1484.52 1307.21 1484.52 Q1301.4 1484.52 1298.32 1479.94 Q1295.27 1475.33 1295.27 1466.61 Q1295.27 1457.86 1298.32 1453.27 Q1301.4 1448.67 1307.21 1448.67 Z\" fill=\"#000000\" fill-rule=\"evenodd\" fill-opacity=\"1\" /><path clip-path=\"url(#clip630)\" d=\"M 0 0 M1761.94 1449.29 L1784.16 1449.29 L1784.16 1451.28 L1771.61 1483.85 L1766.73 1483.85 L1778.53 1453.23 L1761.94 1453.23 L1761.94 1449.29 Z\" fill=\"#000000\" fill-rule=\"evenodd\" fill-opacity=\"1\" /><path clip-path=\"url(#clip630)\" d=\"M 0 0 M1789.23 1477.97 L1794.11 1477.97 L1794.11 1483.85 L1789.23 1483.85 L1789.23 1477.97 Z\" fill=\"#000000\" fill-rule=\"evenodd\" fill-opacity=\"1\" /><path clip-path=\"url(#clip630)\" d=\"M 0 0 M1799.23 1449.29 L1817.58 1449.29 L1817.58 1453.23 L1803.51 1453.23 L1803.51 1461.7 Q1804.53 1461.35 1805.55 1461.19 Q1806.56 1461 1807.58 1461 Q1813.37 1461 1816.75 1464.18 Q1820.13 1467.35 1820.13 1472.76 Q1820.13 1478.34 1816.66 1481.44 Q1813.19 1484.52 1806.87 1484.52 Q1804.69 1484.52 1802.42 1484.15 Q1800.18 1483.78 1797.77 1483.04 L1797.77 1478.34 Q1799.85 1479.48 1802.07 1480.03 Q1804.3 1480.59 1806.77 1480.59 Q1810.78 1480.59 1813.12 1478.48 Q1815.45 1476.38 1815.45 1472.76 Q1815.45 1469.15 1813.12 1467.05 Q1810.78 1464.94 1806.77 1464.94 Q1804.9 1464.94 1803.02 1465.36 Q1801.17 1465.77 1799.23 1466.65 L1799.23 1449.29 Z\" fill=\"#000000\" fill-rule=\"evenodd\" fill-opacity=\"1\" /><path clip-path=\"url(#clip630)\" d=\"M 0 0 M2250.96 1479.92 L2258.6 1479.92 L2258.6 1453.55 L2250.29 1455.22 L2250.29 1450.96 L2258.56 1449.29 L2263.23 1449.29 L2263.23 1479.92 L2270.87 1479.92 L2270.87 1483.85 L2250.96 1483.85 L2250.96 1479.92 Z\" fill=\"#000000\" fill-rule=\"evenodd\" fill-opacity=\"1\" /><path clip-path=\"url(#clip630)\" d=\"M 0 0 M2285.94 1452.37 Q2282.33 1452.37 2280.5 1455.94 Q2278.69 1459.48 2278.69 1466.61 Q2278.69 1473.71 2280.5 1477.28 Q2282.33 1480.82 2285.94 1480.82 Q2289.57 1480.82 2291.38 1477.28 Q2293.21 1473.71 2293.21 1466.61 Q2293.21 1459.48 2291.38 1455.94 Q2289.57 1452.37 2285.94 1452.37 M2285.94 1448.67 Q2291.75 1448.67 2294.81 1453.27 Q2297.88 1457.86 2297.88 1466.61 Q2297.88 1475.33 2294.81 1479.94 Q2291.75 1484.52 2285.94 1484.52 Q2280.13 1484.52 2277.05 1479.94 Q2273.99 1475.33 2273.99 1466.61 Q2273.99 1457.86 2277.05 1453.27 Q2280.13 1448.67 2285.94 1448.67 Z\" fill=\"#000000\" fill-rule=\"evenodd\" fill-opacity=\"1\" /><path clip-path=\"url(#clip630)\" d=\"M 0 0 M2302.95 1477.97 L2307.84 1477.97 L2307.84 1483.85 L2302.95 1483.85 L2302.95 1477.97 Z\" fill=\"#000000\" fill-rule=\"evenodd\" fill-opacity=\"1\" /><path clip-path=\"url(#clip630)\" d=\"M 0 0 M2322.91 1452.37 Q2319.3 1452.37 2317.47 1455.94 Q2315.66 1459.48 2315.66 1466.61 Q2315.66 1473.71 2317.47 1477.28 Q2319.3 1480.82 2322.91 1480.82 Q2326.54 1480.82 2328.35 1477.28 Q2330.18 1473.71 2330.18 1466.61 Q2330.18 1459.48 2328.35 1455.94 Q2326.54 1452.37 2322.91 1452.37 M2322.91 1448.67 Q2328.72 1448.67 2331.77 1453.27 Q2334.85 1457.86 2334.85 1466.61 Q2334.85 1475.33 2331.77 1479.94 Q2328.72 1484.52 2322.91 1484.52 Q2317.1 1484.52 2314.02 1479.94 Q2310.96 1475.33 2310.96 1466.61 Q2310.96 1457.86 2314.02 1453.27 Q2317.1 1448.67 2322.91 1448.67 Z\" fill=\"#000000\" fill-rule=\"evenodd\" fill-opacity=\"1\" /><path clip-path=\"url(#clip630)\" d=\"M 0 0 M1306.11 1532.4 L1293.22 1549.74 L1306.78 1568.04 L1299.87 1568.04 L1289.49 1554.04 L1279.12 1568.04 L1272.21 1568.04 L1286.06 1549.39 L1273.39 1532.4 L1280.3 1532.4 L1289.75 1545.1 L1299.2 1532.4 L1306.11 1532.4 Z\" fill=\"#000000\" fill-rule=\"evenodd\" fill-opacity=\"1\" /><polyline clip-path=\"url(#clip632)\" style=\"stroke:#000000; stroke-width:2; stroke-opacity:0.1; fill:none\" points=\"\n",
       "  226.232,1384.24 2352.76,1384.24 \n",
       "  \"/>\n",
       "<polyline clip-path=\"url(#clip632)\" style=\"stroke:#000000; stroke-width:2; stroke-opacity:0.1; fill:none\" points=\"\n",
       "  226.232,1059.73 2352.76,1059.73 \n",
       "  \"/>\n",
       "<polyline clip-path=\"url(#clip632)\" style=\"stroke:#000000; stroke-width:2; stroke-opacity:0.1; fill:none\" points=\"\n",
       "  226.232,735.212 2352.76,735.212 \n",
       "  \"/>\n",
       "<polyline clip-path=\"url(#clip632)\" style=\"stroke:#000000; stroke-width:2; stroke-opacity:0.1; fill:none\" points=\"\n",
       "  226.232,410.699 2352.76,410.699 \n",
       "  \"/>\n",
       "<polyline clip-path=\"url(#clip632)\" style=\"stroke:#000000; stroke-width:2; stroke-opacity:0.1; fill:none\" points=\"\n",
       "  226.232,86.1857 2352.76,86.1857 \n",
       "  \"/>\n",
       "<polyline clip-path=\"url(#clip630)\" style=\"stroke:#000000; stroke-width:4; stroke-opacity:1; fill:none\" points=\"\n",
       "  226.232,1423.18 226.232,47.2441 \n",
       "  \"/>\n",
       "<polyline clip-path=\"url(#clip630)\" style=\"stroke:#000000; stroke-width:4; stroke-opacity:1; fill:none\" points=\"\n",
       "  226.232,1384.24 251.75,1384.24 \n",
       "  \"/>\n",
       "<polyline clip-path=\"url(#clip630)\" style=\"stroke:#000000; stroke-width:4; stroke-opacity:1; fill:none\" points=\"\n",
       "  226.232,1059.73 251.75,1059.73 \n",
       "  \"/>\n",
       "<polyline clip-path=\"url(#clip630)\" style=\"stroke:#000000; stroke-width:4; stroke-opacity:1; fill:none\" points=\"\n",
       "  226.232,735.212 251.75,735.212 \n",
       "  \"/>\n",
       "<polyline clip-path=\"url(#clip630)\" style=\"stroke:#000000; stroke-width:4; stroke-opacity:1; fill:none\" points=\"\n",
       "  226.232,410.699 251.75,410.699 \n",
       "  \"/>\n",
       "<polyline clip-path=\"url(#clip630)\" style=\"stroke:#000000; stroke-width:4; stroke-opacity:1; fill:none\" points=\"\n",
       "  226.232,86.1857 251.75,86.1857 \n",
       "  \"/>\n",
       "<path clip-path=\"url(#clip630)\" d=\"M 0 0 M178.288 1370.04 Q174.677 1370.04 172.848 1373.6 Q171.042 1377.14 171.042 1384.27 Q171.042 1391.38 172.848 1394.94 Q174.677 1398.49 178.288 1398.49 Q181.922 1398.49 183.727 1394.94 Q185.556 1391.38 185.556 1384.27 Q185.556 1377.14 183.727 1373.6 Q181.922 1370.04 178.288 1370.04 M178.288 1366.33 Q184.098 1366.33 187.153 1370.94 Q190.232 1375.52 190.232 1384.27 Q190.232 1393 187.153 1397.61 Q184.098 1402.19 178.288 1402.19 Q172.477 1402.19 169.399 1397.61 Q166.343 1393 166.343 1384.27 Q166.343 1375.52 169.399 1370.94 Q172.477 1366.33 178.288 1366.33 Z\" fill=\"#000000\" fill-rule=\"evenodd\" fill-opacity=\"1\" /><path clip-path=\"url(#clip630)\" d=\"M 0 0 M142.316 1042.45 L160.672 1042.45 L160.672 1046.38 L146.598 1046.38 L146.598 1054.85 Q147.616 1054.51 148.635 1054.34 Q149.653 1054.16 150.672 1054.16 Q156.459 1054.16 159.839 1057.33 Q163.218 1060.5 163.218 1065.92 Q163.218 1071.5 159.746 1074.6 Q156.274 1077.68 149.954 1077.68 Q147.778 1077.68 145.51 1077.31 Q143.265 1076.94 140.857 1076.19 L140.857 1071.5 Q142.941 1072.63 145.163 1073.19 Q147.385 1073.74 149.862 1073.74 Q153.866 1073.74 156.204 1071.63 Q158.542 1069.53 158.542 1065.92 Q158.542 1062.31 156.204 1060.2 Q153.866 1058.09 149.862 1058.09 Q147.987 1058.09 146.112 1058.51 Q144.26 1058.93 142.316 1059.81 L142.316 1042.45 Z\" fill=\"#000000\" fill-rule=\"evenodd\" fill-opacity=\"1\" /><path clip-path=\"url(#clip630)\" d=\"M 0 0 M178.288 1045.52 Q174.677 1045.52 172.848 1049.09 Q171.042 1052.63 171.042 1059.76 Q171.042 1066.87 172.848 1070.43 Q174.677 1073.97 178.288 1073.97 Q181.922 1073.97 183.727 1070.43 Q185.556 1066.87 185.556 1059.76 Q185.556 1052.63 183.727 1049.09 Q181.922 1045.52 178.288 1045.52 M178.288 1041.82 Q184.098 1041.82 187.153 1046.43 Q190.232 1051.01 190.232 1059.76 Q190.232 1068.49 187.153 1073.09 Q184.098 1077.68 178.288 1077.68 Q172.477 1077.68 169.399 1073.09 Q166.343 1068.49 166.343 1059.76 Q166.343 1051.01 169.399 1046.43 Q172.477 1041.82 178.288 1041.82 Z\" fill=\"#000000\" fill-rule=\"evenodd\" fill-opacity=\"1\" /><path clip-path=\"url(#clip630)\" d=\"M 0 0 M116.297 748.557 L123.936 748.557 L123.936 722.191 L115.626 723.858 L115.626 719.599 L123.89 717.932 L128.566 717.932 L128.566 748.557 L136.204 748.557 L136.204 752.492 L116.297 752.492 L116.297 748.557 Z\" fill=\"#000000\" fill-rule=\"evenodd\" fill-opacity=\"1\" /><path clip-path=\"url(#clip630)\" d=\"M 0 0 M151.274 721.011 Q147.663 721.011 145.834 724.575 Q144.029 728.117 144.029 735.247 Q144.029 742.353 145.834 745.918 Q147.663 749.46 151.274 749.46 Q154.908 749.46 156.714 745.918 Q158.542 742.353 158.542 735.247 Q158.542 728.117 156.714 724.575 Q154.908 721.011 151.274 721.011 M151.274 717.307 Q157.084 717.307 160.14 721.913 Q163.218 726.497 163.218 735.247 Q163.218 743.973 160.14 748.58 Q157.084 753.163 151.274 753.163 Q145.464 753.163 142.385 748.58 Q139.329 743.973 139.329 735.247 Q139.329 726.497 142.385 721.913 Q145.464 717.307 151.274 717.307 Z\" fill=\"#000000\" fill-rule=\"evenodd\" fill-opacity=\"1\" /><path clip-path=\"url(#clip630)\" d=\"M 0 0 M178.288 721.011 Q174.677 721.011 172.848 724.575 Q171.042 728.117 171.042 735.247 Q171.042 742.353 172.848 745.918 Q174.677 749.46 178.288 749.46 Q181.922 749.46 183.727 745.918 Q185.556 742.353 185.556 735.247 Q185.556 728.117 183.727 724.575 Q181.922 721.011 178.288 721.011 M178.288 717.307 Q184.098 717.307 187.153 721.913 Q190.232 726.497 190.232 735.247 Q190.232 743.973 187.153 748.58 Q184.098 753.163 178.288 753.163 Q172.477 753.163 169.399 748.58 Q166.343 743.973 166.343 735.247 Q166.343 726.497 169.399 721.913 Q172.477 717.307 178.288 717.307 Z\" fill=\"#000000\" fill-rule=\"evenodd\" fill-opacity=\"1\" /><path clip-path=\"url(#clip630)\" d=\"M 0 0 M117.293 424.044 L124.931 424.044 L124.931 397.678 L116.621 399.345 L116.621 395.085 L124.885 393.419 L129.561 393.419 L129.561 424.044 L137.2 424.044 L137.2 427.979 L117.293 427.979 L117.293 424.044 Z\" fill=\"#000000\" fill-rule=\"evenodd\" fill-opacity=\"1\" /><path clip-path=\"url(#clip630)\" d=\"M 0 0 M142.316 393.419 L160.672 393.419 L160.672 397.354 L146.598 397.354 L146.598 405.826 Q147.616 405.479 148.635 405.317 Q149.653 405.132 150.672 405.132 Q156.459 405.132 159.839 408.303 Q163.218 411.474 163.218 416.891 Q163.218 422.47 159.746 425.571 Q156.274 428.65 149.954 428.65 Q147.778 428.65 145.51 428.28 Q143.265 427.909 140.857 427.169 L140.857 422.47 Q142.941 423.604 145.163 424.159 Q147.385 424.715 149.862 424.715 Q153.866 424.715 156.204 422.608 Q158.542 420.502 158.542 416.891 Q158.542 413.28 156.204 411.173 Q153.866 409.067 149.862 409.067 Q147.987 409.067 146.112 409.484 Q144.26 409.9 142.316 410.78 L142.316 393.419 Z\" fill=\"#000000\" fill-rule=\"evenodd\" fill-opacity=\"1\" /><path clip-path=\"url(#clip630)\" d=\"M 0 0 M178.288 396.498 Q174.677 396.498 172.848 400.062 Q171.042 403.604 171.042 410.734 Q171.042 417.84 172.848 421.405 Q174.677 424.946 178.288 424.946 Q181.922 424.946 183.727 421.405 Q185.556 417.84 185.556 410.734 Q185.556 403.604 183.727 400.062 Q181.922 396.498 178.288 396.498 M178.288 392.794 Q184.098 392.794 187.153 397.4 Q190.232 401.984 190.232 410.734 Q190.232 419.46 187.153 424.067 Q184.098 428.65 178.288 428.65 Q172.477 428.65 169.399 424.067 Q166.343 419.46 166.343 410.734 Q166.343 401.984 169.399 397.4 Q172.477 392.794 178.288 392.794 Z\" fill=\"#000000\" fill-rule=\"evenodd\" fill-opacity=\"1\" /><path clip-path=\"url(#clip630)\" d=\"M 0 0 M119.885 99.5305 L136.204 99.5305 L136.204 103.466 L114.26 103.466 L114.26 99.5305 Q116.922 96.7759 121.505 92.1463 Q126.112 87.4935 127.292 86.151 Q129.538 83.6278 130.417 81.8917 Q131.32 80.1325 131.32 78.4427 Q131.32 75.688 129.376 73.9519 Q127.455 72.2158 124.353 72.2158 Q122.154 72.2158 119.7 72.9797 Q117.269 73.7436 114.492 75.2945 L114.492 70.5723 Q117.316 69.4381 119.769 68.8594 Q122.223 68.2807 124.26 68.2807 Q129.63 68.2807 132.825 70.9658 Q136.019 73.651 136.019 78.1417 Q136.019 80.2714 135.209 82.1926 Q134.422 84.0908 132.316 86.6834 Q131.737 87.3546 128.635 90.5722 Q125.533 93.7667 119.885 99.5305 Z\" fill=\"#000000\" fill-rule=\"evenodd\" fill-opacity=\"1\" /><path clip-path=\"url(#clip630)\" d=\"M 0 0 M151.274 71.9844 Q147.663 71.9844 145.834 75.5492 Q144.029 79.0908 144.029 86.2204 Q144.029 93.3268 145.834 96.8916 Q147.663 100.433 151.274 100.433 Q154.908 100.433 156.714 96.8916 Q158.542 93.3268 158.542 86.2204 Q158.542 79.0908 156.714 75.5492 Q154.908 71.9844 151.274 71.9844 M151.274 68.2807 Q157.084 68.2807 160.14 72.8871 Q163.218 77.4704 163.218 86.2204 Q163.218 94.9472 160.14 99.5537 Q157.084 104.137 151.274 104.137 Q145.464 104.137 142.385 99.5537 Q139.329 94.9472 139.329 86.2204 Q139.329 77.4704 142.385 72.8871 Q145.464 68.2807 151.274 68.2807 Z\" fill=\"#000000\" fill-rule=\"evenodd\" fill-opacity=\"1\" /><path clip-path=\"url(#clip630)\" d=\"M 0 0 M178.288 71.9844 Q174.677 71.9844 172.848 75.5492 Q171.042 79.0908 171.042 86.2204 Q171.042 93.3268 172.848 96.8916 Q174.677 100.433 178.288 100.433 Q181.922 100.433 183.727 96.8916 Q185.556 93.3268 185.556 86.2204 Q185.556 79.0908 183.727 75.5492 Q181.922 71.9844 178.288 71.9844 M178.288 68.2807 Q184.098 68.2807 187.153 72.8871 Q190.232 77.4704 190.232 86.2204 Q190.232 94.9472 187.153 99.5537 Q184.098 104.137 178.288 104.137 Q172.477 104.137 169.399 99.5537 Q166.343 94.9472 166.343 86.2204 Q166.343 77.4704 169.399 72.8871 Q172.477 68.2807 178.288 68.2807 Z\" fill=\"#000000\" fill-rule=\"evenodd\" fill-opacity=\"1\" /><path clip-path=\"url(#clip630)\" d=\"M 0 0 M67.3143 733.525 Q73.68 736.008 75.6216 738.363 Q77.5631 740.718 77.5631 744.665 L77.5631 749.344 L72.6615 749.344 L72.6615 745.906 Q72.6615 743.487 71.5157 742.151 Q70.3699 740.814 66.1048 739.191 L63.4312 738.14 L28.3562 752.559 L28.3562 746.352 L56.238 735.212 L28.3562 724.072 L28.3562 717.865 L67.3143 733.525 Z\" fill=\"#000000\" fill-rule=\"evenodd\" fill-opacity=\"1\" /><polyline clip-path=\"url(#clip632)\" style=\"stroke:#009af9; stroke-width:4; stroke-opacity:1; fill:none\" points=\"\n",
       "  286.417,1384.24 306.478,1384.17 326.54,1383.98 346.601,1383.65 366.663,1383.2 386.724,1382.62 406.786,1381.9 426.847,1381.06 446.909,1380.08 466.971,1378.98 \n",
       "  487.032,1377.75 507.094,1376.39 527.155,1374.89 547.217,1373.27 567.278,1371.52 587.34,1369.64 607.401,1367.62 627.463,1365.48 647.524,1363.21 667.586,1360.81 \n",
       "  687.648,1358.28 707.709,1355.62 727.771,1352.83 747.832,1349.9 767.894,1346.85 787.955,1343.67 808.017,1340.36 828.078,1336.92 848.14,1333.35 868.201,1329.66 \n",
       "  888.263,1325.83 908.325,1321.87 928.386,1317.78 948.448,1313.56 968.509,1309.21 988.571,1304.73 1008.63,1300.12 1028.69,1295.39 1048.76,1290.52 1068.82,1285.52 \n",
       "  1088.88,1280.39 1108.94,1275.14 1129,1269.75 1149.06,1264.23 1169.12,1258.59 1189.19,1252.81 1209.25,1246.9 1229.31,1240.87 1249.37,1234.7 1269.43,1228.41 \n",
       "  1289.49,1221.98 1309.56,1215.43 1329.62,1208.74 1349.68,1201.93 1369.74,1194.98 1389.8,1187.91 1409.86,1180.7 1429.92,1173.37 1449.99,1165.91 1470.05,1158.31 \n",
       "  1490.11,1150.59 1510.17,1142.74 1530.23,1134.75 1550.29,1126.64 1570.36,1118.4 1590.42,1110.02 1610.48,1101.52 1630.54,1092.89 1650.6,1084.13 1670.66,1075.24 \n",
       "  1690.72,1066.22 1710.79,1057.06 1730.85,1047.78 1750.91,1038.37 1770.97,1028.83 1791.03,1019.16 1811.09,1009.36 1831.16,999.431 1851.22,989.371 1871.28,979.181 \n",
       "  1891.34,968.861 1911.4,958.412 1931.46,947.833 1951.52,937.124 1971.59,926.285 1991.65,915.317 2011.71,904.218 2031.77,892.99 2051.83,881.632 2071.89,870.145 \n",
       "  2091.96,858.527 2112.02,846.78 2132.08,834.902 2152.14,822.895 2172.2,810.759 2192.26,798.492 2212.33,786.096 2232.39,773.569 2252.45,760.913 2272.51,748.128 \n",
       "  2292.57,735.212 \n",
       "  \"/>\n",
       "<polyline clip-path=\"url(#clip632)\" style=\"stroke:#e26f46; stroke-width:4; stroke-opacity:1; fill:none\" points=\"\n",
       "  286.417,1384.24 306.478,1384.11 326.54,1383.72 346.601,1383.07 366.663,1382.16 386.724,1380.99 406.786,1379.57 426.847,1377.88 446.909,1375.93 466.971,1373.72 \n",
       "  487.032,1371.26 507.094,1368.53 527.155,1365.55 547.217,1362.3 567.278,1358.8 587.34,1355.03 607.401,1351.01 627.463,1346.72 647.524,1342.18 667.586,1337.38 \n",
       "  687.648,1332.32 707.709,1326.99 727.771,1321.41 747.832,1315.57 767.894,1309.47 787.955,1303.11 808.017,1296.49 828.078,1289.61 848.14,1282.47 868.201,1275.07 \n",
       "  888.263,1267.41 908.325,1259.5 928.386,1251.32 948.448,1242.88 968.509,1234.18 988.571,1225.23 1008.63,1216.01 1028.69,1206.53 1048.76,1196.8 1068.82,1186.8 \n",
       "  1088.88,1176.55 1108.94,1166.04 1129,1155.26 1149.06,1144.23 1169.12,1132.94 1189.19,1121.38 1209.25,1109.57 1229.31,1097.5 1249.37,1085.17 1269.43,1072.58 \n",
       "  1289.49,1059.73 1309.56,1046.61 1329.62,1033.24 1349.68,1019.62 1369.74,1005.73 1389.8,991.577 1409.86,977.169 1429.92,962.501 1449.99,947.573 1470.05,932.386 \n",
       "  1490.11,916.939 1510.17,901.233 1530.23,885.267 1550.29,869.041 1570.36,852.556 1590.42,835.811 1610.48,818.807 1630.54,801.542 1650.6,784.019 1670.66,766.235 \n",
       "  1690.72,748.192 1710.79,729.89 1730.85,711.328 1750.91,692.506 1770.97,673.425 1791.03,654.084 1811.09,634.483 1831.16,614.623 1851.22,594.503 1871.28,574.124 \n",
       "  1891.34,553.485 1911.4,532.586 1931.46,511.428 1951.52,490.01 1971.59,468.332 1991.65,446.395 2011.71,424.199 2031.77,401.742 2051.83,379.026 2071.89,356.051 \n",
       "  2091.96,332.816 2112.02,309.321 2132.08,285.567 2152.14,261.553 2172.2,237.279 2192.26,212.746 2212.33,187.953 2232.39,162.901 2252.45,137.589 2272.51,112.017 \n",
       "  2292.57,86.1857 \n",
       "  \"/>\n",
       "<path clip-path=\"url(#clip630)\" d=\"\n",
       "M1994.57 274.549 L2281.87 274.549 L2281.87 93.1086 L1994.57 93.1086  Z\n",
       "  \" fill=\"#ffffff\" fill-rule=\"evenodd\" fill-opacity=\"1\"/>\n",
       "<polyline clip-path=\"url(#clip630)\" style=\"stroke:#000000; stroke-width:4; stroke-opacity:1; fill:none\" points=\"\n",
       "  1994.57,274.549 2281.87,274.549 2281.87,93.1086 1994.57,93.1086 1994.57,274.549 \n",
       "  \"/>\n",
       "<polyline clip-path=\"url(#clip630)\" style=\"stroke:#009af9; stroke-width:4; stroke-opacity:1; fill:none\" points=\"\n",
       "  2018.2,153.589 2159.97,153.589 \n",
       "  \"/>\n",
       "<path clip-path=\"url(#clip630)\" d=\"M 0 0 M2197.44 173.276 Q2195.63 177.906 2193.92 179.318 Q2192.21 180.73 2189.34 180.73 L2185.94 180.73 L2185.94 177.165 L2188.44 177.165 Q2190.19 177.165 2191.17 176.332 Q2192.14 175.498 2193.32 172.396 L2194.08 170.452 L2183.6 144.943 L2188.11 144.943 L2196.21 165.221 L2204.31 144.943 L2208.83 144.943 L2197.44 173.276 Z\" fill=\"#000000\" fill-rule=\"evenodd\" fill-opacity=\"1\" /><path clip-path=\"url(#clip630)\" d=\"M 0 0 M2214.71 166.933 L2222.35 166.933 L2222.35 140.568 L2214.04 142.235 L2214.04 137.975 L2222.3 136.309 L2226.98 136.309 L2226.98 166.933 L2234.62 166.933 L2234.62 170.869 L2214.71 170.869 L2214.71 166.933 Z\" fill=\"#000000\" fill-rule=\"evenodd\" fill-opacity=\"1\" /><polyline clip-path=\"url(#clip630)\" style=\"stroke:#e26f46; stroke-width:4; stroke-opacity:1; fill:none\" points=\"\n",
       "  2018.2,214.069 2159.97,214.069 \n",
       "  \"/>\n",
       "<path clip-path=\"url(#clip630)\" d=\"M 0 0 M2197.44 233.756 Q2195.63 238.386 2193.92 239.798 Q2192.21 241.21 2189.34 241.21 L2185.94 241.21 L2185.94 237.645 L2188.44 237.645 Q2190.19 237.645 2191.17 236.812 Q2192.14 235.978 2193.32 232.876 L2194.08 230.932 L2183.6 205.423 L2188.11 205.423 L2196.21 225.701 L2204.31 205.423 L2208.83 205.423 L2197.44 233.756 Z\" fill=\"#000000\" fill-rule=\"evenodd\" fill-opacity=\"1\" /><path clip-path=\"url(#clip630)\" d=\"M 0 0 M2217.93 227.413 L2234.25 227.413 L2234.25 231.349 L2212.3 231.349 L2212.3 227.413 Q2214.96 224.659 2219.55 220.029 Q2224.15 215.376 2225.33 214.034 Q2227.58 211.511 2228.46 209.775 Q2229.36 208.015 2229.36 206.326 Q2229.36 203.571 2227.42 201.835 Q2225.5 200.099 2222.39 200.099 Q2220.19 200.099 2217.74 200.863 Q2215.31 201.627 2212.53 203.177 L2212.53 198.455 Q2215.36 197.321 2217.81 196.742 Q2220.26 196.164 2222.3 196.164 Q2227.67 196.164 2230.87 198.849 Q2234.06 201.534 2234.06 206.025 Q2234.06 208.154 2233.25 210.076 Q2232.46 211.974 2230.36 214.566 Q2229.78 215.238 2226.68 218.455 Q2223.57 221.65 2217.93 227.413 Z\" fill=\"#000000\" fill-rule=\"evenodd\" fill-opacity=\"1\" /></svg>\n"
      ]
     },
     "execution_count": 78,
     "metadata": {},
     "output_type": "execute_result"
    }
   ],
   "source": [
    "#=\n",
    "import Pkg\n",
    "Pkg.add(\"Plots\")\n",
    "=#\n",
    "\n",
    "using Plots\n",
    "\n",
    "x = 0:0.1:10\n",
    "y = x.^2\n",
    "\n",
    "plot(x, y, xlabel =\"x\", ylabel = \"y\", label = \"y1\")\n",
    "plot!(x, 2*y, xlabel =\"x\", ylabel = \"y\", label = \"y2\")\n",
    "\n",
    "#Αν γράφαμε plot χωρίς !, τότε δεν θα εμφανιζόταν το y1.\n",
    "#Χρησιμοποιούμε gr() για σχεδιασμό."
   ]
  },
  {
   "cell_type": "code",
   "execution_count": 79,
   "metadata": {},
   "outputs": [
    {
     "data": {
      "text/html": [
       "<script>\n",
       "// Immediately-invoked-function-expression to avoid global variables.\n",
       "(function() {\n",
       "    var warning_div = document.getElementById(\"webio-warning-16473498814038984826\");\n",
       "    var hide = function () {\n",
       "        var script = document.getElementById(\"webio-setup-7777254068077504699\");\n",
       "        var parent = script && script.parentElement;\n",
       "        var grandparent = parent && parent.parentElement;\n",
       "        if (grandparent) {\n",
       "            grandparent.style.display = \"none\";\n",
       "        }\n",
       "        warning_div.style.display = \"none\";\n",
       "    };\n",
       "    if (typeof Jupyter !== \"undefined\") {\n",
       "        console.log(\"WebIO detected Jupyter notebook environment.\");\n",
       "        // Jupyter notebook.\n",
       "        var extensions = (\n",
       "            Jupyter\n",
       "            && Jupyter.notebook.config.data\n",
       "            && Jupyter.notebook.config.data.load_extensions\n",
       "        );\n",
       "        if (extensions && extensions[\"webio-jupyter-notebook\"]) {\n",
       "            // Extension already loaded.\n",
       "            console.log(\"Jupyter WebIO nbextension detected; not loading ad-hoc.\");\n",
       "            hide();\n",
       "            return;\n",
       "        }\n",
       "    } else if (window.location.pathname.includes(\"/lab\")) {\n",
       "        // Guessing JupyterLa\n",
       "        console.log(\"Jupyter Lab detected; make sure the @webio/jupyter-lab-provider labextension is installed.\");\n",
       "        hide();\n",
       "        return;\n",
       "    }\n",
       "})();\n",
       "\n",
       "</script>\n",
       "<p\n",
       "    id=\"webio-warning-16473498814038984826\"\n",
       "    class=\"output_text output_stderr\"\n",
       "    style=\"padding: 1em; font-weight: bold;\"\n",
       ">\n",
       "    Unable to load WebIO. Please make sure WebIO works for your Jupyter client.\n",
       "    For troubleshooting, please see <a href=\"https://juliagizmos.github.io/WebIO.jl/latest/providers/ijulia/\">\n",
       "    the WebIO/IJulia documentation</a>.\n",
       "    <!-- TODO: link to installation docs. -->\n",
       "</p>\n"
      ],
      "text/plain": [
       "HTML{String}(\"<script>\\n// Immediately-invoked-function-expression to avoid global variables.\\n(function() {\\n    var warning_div = document.getElementById(\\\"webio-warning-16473498814038984826\\\");\\n    var hide = function () {\\n        var script = document.getElementById(\\\"webio-setup-7777254068077504699\\\");\\n        var parent = script && script.parentElement;\\n        var grandparent = parent && parent.parentElement;\\n        if (grandparent) {\\n            grandparent.style.display = \\\"none\\\";\\n        }\\n        warning_div.style.display = \\\"none\\\";\\n    };\\n    if (typeof Jupyter !== \\\"undefined\\\") {\\n        console.log(\\\"WebIO detected Jupyter notebook environment.\\\");\\n        // Jupyter notebook.\\n        var extensions = (\\n            Jupyter\\n            && Jupyter.notebook.config.data\\n            && Jupyter.notebook.config.data.load_extensions\\n        );\\n        if (extensions && extensions[\\\"webio-jupyter-notebook\\\"]) {\\n            // Extension already loaded.\\n            console.log(\\\"Jupyter WebIO nbextension detected; not loading ad-hoc.\\\");\\n            hide();\\n            return;\\n        }\\n    } else if (window.location.pathname.includes(\\\"/lab\\\")) {\\n        // Guessing JupyterLa\\n        console.log(\\\"Jupyter Lab detected; make sure the @webio/jupyter-lab-provider labextension is installed.\\\");\\n        hide();\\n        return;\\n    }\\n})();\\n\\n</script>\\n<p\\n    id=\\\"webio-warning-16473498814038984826\\\"\\n    class=\\\"output_text output_stderr\\\"\\n    style=\\\"padding: 1em; font-weight: bold;\\\"\\n>\\n    Unable to load WebIO. Please make sure WebIO works for your Jupyter client.\\n    For troubleshooting, please see <a href=\\\"https://juliagizmos.github.io/WebIO.jl/latest/providers/ijulia/\\\">\\n    the WebIO/IJulia documentation</a>.\\n    <!-- TODO: link to installation docs. -->\\n</p>\\n\")"
      ]
     },
     "metadata": {},
     "output_type": "display_data"
    },
    {
     "data": {
      "application/vnd.plotly.v1+json": {
       "data": [
        {
         "colorbar": {
          "title": ""
         },
         "legendgroup": "line",
         "line": {
          "color": "rgba(0, 154, 250, 1.000)",
          "dash": "solid",
          "shape": "linear",
          "width": 1
         },
         "mode": "lines",
         "name": "line",
         "showlegend": true,
         "type": "scatter",
         "x": [
          0,
          0.09765819019788131,
          1.0006491716837282,
          1.5433091130562389,
          2.002121187157657,
          2.500519700330514,
          2.9599990453462817,
          3.4526094640648983,
          4.023346943385323,
          4.530551061110215,
          4.9753233654022,
          5.460244566553195,
          5.948047787528121,
          6.487376626244043,
          7.000534407448435,
          7.5340994351135055,
          7.983247536668451,
          8.53160645986364,
          9.047080021287085,
          9.872908640160599,
          10
         ],
         "xaxis": "x",
         "y": [
          0,
          0.009537122112725562,
          1.0012987647913314,
          2.381803018442435,
          4.008489248065587,
          6.252598771741004,
          8.761594348450899,
          11.920512111350504,
          16.18732062684802,
          20.525892917326892,
          24.753842590317078,
          29.81427072657369,
          35.37927248271817,
          42.086055490737536,
          49.00748198986941,
          56.762654298177644,
          63.732241231722895,
          72.788308785987,
          81.84965691157193,
          97.4743250169578,
          100
         ],
         "yaxis": "y",
         "zmax": null,
         "zmin": null
        },
        {
         "colorbar": {
          "title": ""
         },
         "legendgroup": "points",
         "marker": {
          "color": "rgba(227, 111, 71, 1.000)",
          "line": {
           "color": "rgba(0, 0, 0, 1.000)",
           "width": 1
          },
          "size": 8,
          "symbol": "circle"
         },
         "mode": "markers",
         "name": "points",
         "showlegend": true,
         "type": "scatter",
         "x": [
          0,
          0.09765819019788131,
          1.0006491716837282,
          1.5433091130562389,
          2.002121187157657,
          2.500519700330514,
          2.9599990453462817,
          3.4526094640648983,
          4.023346943385323,
          4.530551061110215,
          4.9753233654022,
          5.460244566553195,
          5.948047787528121,
          6.487376626244043,
          7.000534407448435,
          7.5340994351135055,
          7.983247536668451,
          8.53160645986364,
          9.047080021287085,
          9.872908640160599,
          10
         ],
         "xaxis": "x",
         "y": [
          0,
          0.009537122112725562,
          1.0012987647913314,
          2.381803018442435,
          4.008489248065587,
          6.252598771741004,
          8.761594348450899,
          11.920512111350504,
          16.18732062684802,
          20.525892917326892,
          24.753842590317078,
          29.81427072657369,
          35.37927248271817,
          42.086055490737536,
          49.00748198986941,
          56.762654298177644,
          63.732241231722895,
          72.788308785987,
          81.84965691157193,
          97.4743250169578,
          100
         ],
         "yaxis": "y",
         "zmax": null,
         "zmin": null
        }
       ],
       "layout": {
        "annotations": [],
        "height": 400,
        "legend": {
         "bgcolor": "rgba(255, 255, 255, 1.000)",
         "bordercolor": "rgba(0, 0, 0, 1.000)",
         "borderwidth": 1,
         "font": {
          "color": "rgba(0, 0, 0, 1.000)",
          "family": "sans-serif",
          "size": 11
         },
         "title": {
          "font": {
           "color": "rgba(0, 0, 0, 1.000)",
           "family": "sans-serif",
           "size": 15
          },
          "text": ""
         },
         "tracegroupgap": 0,
         "traceorder": "normal",
         "x": 1,
         "xanchor": "auto",
         "y": 1,
         "yanchor": "auto"
        },
        "margin": {
         "b": 20,
         "l": 0,
         "r": 0,
         "t": 20
        },
        "paper_bgcolor": "rgba(255, 255, 255, 1.000)",
        "plot_bgcolor": "rgba(255, 255, 255, 1.000)",
        "showlegend": true,
        "width": 600,
        "xaxis": {
         "anchor": "y",
         "domain": [
          0.07646908719743364,
          0.9934383202099737
         ],
         "gridcolor": "rgba(0, 0, 0, 0.100)",
         "gridwidth": 0.5,
         "linecolor": "rgba(0, 0, 0, 1.000)",
         "mirror": false,
         "range": [
          -0.3,
          10.3
         ],
         "showgrid": true,
         "showline": true,
         "showticklabels": true,
         "tickangle": 0,
         "tickcolor": "rgb(0, 0, 0)",
         "tickfont": {
          "color": "rgba(0, 0, 0, 1.000)",
          "family": "sans-serif",
          "size": 11
         },
         "tickmode": "array",
         "ticks": "inside",
         "ticktext": [
          "0.0",
          "2.5",
          "5.0",
          "7.5",
          "10.0"
         ],
         "tickvals": [
          0,
          2.5,
          5,
          7.5,
          10
         ],
         "title": "x",
         "titlefont": {
          "color": "rgba(0, 0, 0, 1.000)",
          "family": "sans-serif",
          "size": 15
         },
         "type": "-",
         "visible": true,
         "zeroline": false,
         "zerolinecolor": "rgba(0, 0, 0, 1.000)"
        },
        "yaxis": {
         "anchor": "x",
         "domain": [
          0.07581474190726165,
          0.9901574803149606
         ],
         "gridcolor": "rgba(0, 0, 0, 0.100)",
         "gridwidth": 0.5,
         "linecolor": "rgba(0, 0, 0, 1.000)",
         "mirror": false,
         "range": [
          -3,
          103
         ],
         "showgrid": true,
         "showline": true,
         "showticklabels": true,
         "tickangle": 0,
         "tickcolor": "rgb(0, 0, 0)",
         "tickfont": {
          "color": "rgba(0, 0, 0, 1.000)",
          "family": "sans-serif",
          "size": 11
         },
         "tickmode": "array",
         "ticks": "inside",
         "ticktext": [
          "0",
          "25",
          "50",
          "75",
          "100"
         ],
         "tickvals": [
          0,
          25,
          50,
          75,
          100
         ],
         "title": "y",
         "titlefont": {
          "color": "rgba(0, 0, 0, 1.000)",
          "family": "sans-serif",
          "size": 15
         },
         "type": "-",
         "visible": true,
         "zeroline": false,
         "zerolinecolor": "rgba(0, 0, 0, 1.000)"
        }
       }
      },
      "text/html": [
       "<!DOCTYPE html>\n",
       "<html>\n",
       "    <head>\n",
       "        <title>Plots.jl</title>\n",
       "        <meta http-equiv=\"content-type\" content=\"text/html; charset=UTF-8\">\n",
       "        \n",
       "    </head>\n",
       "    <body>\n",
       "            <div id=\"f50e07c3-b5d7-4d1e-8fbf-ec4ebd3b4042\" style=\"width:600px;height:400px;\"></div>\n",
       "    <script>\n",
       "        requirejs.config({\n",
       "        paths: {\n",
       "            Plotly: 'https://cdn.plot.ly/plotly-1.57.1.min'\n",
       "        }\n",
       "    });\n",
       "    require(['Plotly'], function (Plotly) {\n",
       "\n",
       "    PLOT = document.getElementById('f50e07c3-b5d7-4d1e-8fbf-ec4ebd3b4042');\n",
       "    Plotly.plot(PLOT, [\n",
       "    {\n",
       "        \"xaxis\": \"x\",\n",
       "        \"colorbar\": {\n",
       "            \"title\": \"\"\n",
       "        },\n",
       "        \"yaxis\": \"y\",\n",
       "        \"x\": [\n",
       "            0.0,\n",
       "            0.09765819019788131,\n",
       "            1.0006491716837282,\n",
       "            1.5433091130562389,\n",
       "            2.002121187157657,\n",
       "            2.500519700330514,\n",
       "            2.9599990453462817,\n",
       "            3.4526094640648983,\n",
       "            4.023346943385323,\n",
       "            4.530551061110215,\n",
       "            4.9753233654022,\n",
       "            5.460244566553195,\n",
       "            5.948047787528121,\n",
       "            6.487376626244043,\n",
       "            7.000534407448435,\n",
       "            7.5340994351135055,\n",
       "            7.983247536668451,\n",
       "            8.53160645986364,\n",
       "            9.047080021287085,\n",
       "            9.872908640160599,\n",
       "            10.0\n",
       "        ],\n",
       "        \"showlegend\": true,\n",
       "        \"mode\": \"lines\",\n",
       "        \"name\": \"line\",\n",
       "        \"zmin\": null,\n",
       "        \"legendgroup\": \"line\",\n",
       "        \"zmax\": null,\n",
       "        \"line\": {\n",
       "            \"color\": \"rgba(0, 154, 250, 1.000)\",\n",
       "            \"shape\": \"linear\",\n",
       "            \"dash\": \"solid\",\n",
       "            \"width\": 1\n",
       "        },\n",
       "        \"y\": [\n",
       "            0.0,\n",
       "            0.009537122112725562,\n",
       "            1.0012987647913314,\n",
       "            2.381803018442435,\n",
       "            4.008489248065587,\n",
       "            6.252598771741004,\n",
       "            8.761594348450899,\n",
       "            11.920512111350504,\n",
       "            16.18732062684802,\n",
       "            20.525892917326892,\n",
       "            24.753842590317078,\n",
       "            29.81427072657369,\n",
       "            35.37927248271817,\n",
       "            42.086055490737536,\n",
       "            49.00748198986941,\n",
       "            56.762654298177644,\n",
       "            63.732241231722895,\n",
       "            72.788308785987,\n",
       "            81.84965691157193,\n",
       "            97.4743250169578,\n",
       "            100.0\n",
       "        ],\n",
       "        \"type\": \"scatter\"\n",
       "    },\n",
       "    {\n",
       "        \"xaxis\": \"x\",\n",
       "        \"colorbar\": {\n",
       "            \"title\": \"\"\n",
       "        },\n",
       "        \"yaxis\": \"y\",\n",
       "        \"x\": [\n",
       "            0.0,\n",
       "            0.09765819019788131,\n",
       "            1.0006491716837282,\n",
       "            1.5433091130562389,\n",
       "            2.002121187157657,\n",
       "            2.500519700330514,\n",
       "            2.9599990453462817,\n",
       "            3.4526094640648983,\n",
       "            4.023346943385323,\n",
       "            4.530551061110215,\n",
       "            4.9753233654022,\n",
       "            5.460244566553195,\n",
       "            5.948047787528121,\n",
       "            6.487376626244043,\n",
       "            7.000534407448435,\n",
       "            7.5340994351135055,\n",
       "            7.983247536668451,\n",
       "            8.53160645986364,\n",
       "            9.047080021287085,\n",
       "            9.872908640160599,\n",
       "            10.0\n",
       "        ],\n",
       "        \"showlegend\": true,\n",
       "        \"mode\": \"markers\",\n",
       "        \"name\": \"points\",\n",
       "        \"zmin\": null,\n",
       "        \"legendgroup\": \"points\",\n",
       "        \"marker\": {\n",
       "            \"symbol\": \"circle\",\n",
       "            \"color\": \"rgba(227, 111, 71, 1.000)\",\n",
       "            \"line\": {\n",
       "                \"color\": \"rgba(0, 0, 0, 1.000)\",\n",
       "                \"width\": 1\n",
       "            },\n",
       "            \"size\": 8\n",
       "        },\n",
       "        \"zmax\": null,\n",
       "        \"y\": [\n",
       "            0.0,\n",
       "            0.009537122112725562,\n",
       "            1.0012987647913314,\n",
       "            2.381803018442435,\n",
       "            4.008489248065587,\n",
       "            6.252598771741004,\n",
       "            8.761594348450899,\n",
       "            11.920512111350504,\n",
       "            16.18732062684802,\n",
       "            20.525892917326892,\n",
       "            24.753842590317078,\n",
       "            29.81427072657369,\n",
       "            35.37927248271817,\n",
       "            42.086055490737536,\n",
       "            49.00748198986941,\n",
       "            56.762654298177644,\n",
       "            63.732241231722895,\n",
       "            72.788308785987,\n",
       "            81.84965691157193,\n",
       "            97.4743250169578,\n",
       "            100.0\n",
       "        ],\n",
       "        \"type\": \"scatter\"\n",
       "    }\n",
       "]\n",
       ", {\n",
       "    \"showlegend\": true,\n",
       "    \"xaxis\": {\n",
       "        \"showticklabels\": true,\n",
       "        \"gridwidth\": 0.5,\n",
       "        \"tickvals\": [\n",
       "            0.0,\n",
       "            2.5,\n",
       "            5.0,\n",
       "            7.5,\n",
       "            10.0\n",
       "        ],\n",
       "        \"visible\": true,\n",
       "        \"ticks\": \"inside\",\n",
       "        \"range\": [\n",
       "            -0.3,\n",
       "            10.3\n",
       "        ],\n",
       "        \"domain\": [\n",
       "            0.07646908719743364,\n",
       "            0.9934383202099737\n",
       "        ],\n",
       "        \"tickmode\": \"array\",\n",
       "        \"linecolor\": \"rgba(0, 0, 0, 1.000)\",\n",
       "        \"showgrid\": true,\n",
       "        \"title\": \"x\",\n",
       "        \"mirror\": false,\n",
       "        \"tickangle\": 0,\n",
       "        \"showline\": true,\n",
       "        \"gridcolor\": \"rgba(0, 0, 0, 0.100)\",\n",
       "        \"titlefont\": {\n",
       "            \"color\": \"rgba(0, 0, 0, 1.000)\",\n",
       "            \"family\": \"sans-serif\",\n",
       "            \"size\": 15\n",
       "        },\n",
       "        \"tickcolor\": \"rgb(0, 0, 0)\",\n",
       "        \"ticktext\": [\n",
       "            \"0.0\",\n",
       "            \"2.5\",\n",
       "            \"5.0\",\n",
       "            \"7.5\",\n",
       "            \"10.0\"\n",
       "        ],\n",
       "        \"zeroline\": false,\n",
       "        \"type\": \"-\",\n",
       "        \"tickfont\": {\n",
       "            \"color\": \"rgba(0, 0, 0, 1.000)\",\n",
       "            \"family\": \"sans-serif\",\n",
       "            \"size\": 11\n",
       "        },\n",
       "        \"zerolinecolor\": \"rgba(0, 0, 0, 1.000)\",\n",
       "        \"anchor\": \"y\"\n",
       "    },\n",
       "    \"paper_bgcolor\": \"rgba(255, 255, 255, 1.000)\",\n",
       "    \"annotations\": [],\n",
       "    \"height\": 400,\n",
       "    \"margin\": {\n",
       "        \"l\": 0,\n",
       "        \"b\": 20,\n",
       "        \"r\": 0,\n",
       "        \"t\": 20\n",
       "    },\n",
       "    \"plot_bgcolor\": \"rgba(255, 255, 255, 1.000)\",\n",
       "    \"yaxis\": {\n",
       "        \"showticklabels\": true,\n",
       "        \"gridwidth\": 0.5,\n",
       "        \"tickvals\": [\n",
       "            0.0,\n",
       "            25.0,\n",
       "            50.0,\n",
       "            75.0,\n",
       "            100.0\n",
       "        ],\n",
       "        \"visible\": true,\n",
       "        \"ticks\": \"inside\",\n",
       "        \"range\": [\n",
       "            -3.0,\n",
       "            103.0\n",
       "        ],\n",
       "        \"domain\": [\n",
       "            0.07581474190726165,\n",
       "            0.9901574803149606\n",
       "        ],\n",
       "        \"tickmode\": \"array\",\n",
       "        \"linecolor\": \"rgba(0, 0, 0, 1.000)\",\n",
       "        \"showgrid\": true,\n",
       "        \"title\": \"y\",\n",
       "        \"mirror\": false,\n",
       "        \"tickangle\": 0,\n",
       "        \"showline\": true,\n",
       "        \"gridcolor\": \"rgba(0, 0, 0, 0.100)\",\n",
       "        \"titlefont\": {\n",
       "            \"color\": \"rgba(0, 0, 0, 1.000)\",\n",
       "            \"family\": \"sans-serif\",\n",
       "            \"size\": 15\n",
       "        },\n",
       "        \"tickcolor\": \"rgb(0, 0, 0)\",\n",
       "        \"ticktext\": [\n",
       "            \"0\",\n",
       "            \"25\",\n",
       "            \"50\",\n",
       "            \"75\",\n",
       "            \"100\"\n",
       "        ],\n",
       "        \"zeroline\": false,\n",
       "        \"type\": \"-\",\n",
       "        \"tickfont\": {\n",
       "            \"color\": \"rgba(0, 0, 0, 1.000)\",\n",
       "            \"family\": \"sans-serif\",\n",
       "            \"size\": 11\n",
       "        },\n",
       "        \"zerolinecolor\": \"rgba(0, 0, 0, 1.000)\",\n",
       "        \"anchor\": \"x\"\n",
       "    },\n",
       "    \"legend\": {\n",
       "        \"borderwidth\": 1,\n",
       "        \"tracegroupgap\": 0,\n",
       "        \"font\": {\n",
       "            \"color\": \"rgba(0, 0, 0, 1.000)\",\n",
       "            \"family\": \"sans-serif\",\n",
       "            \"size\": 11\n",
       "        },\n",
       "        \"title\": {\n",
       "            \"font\": {\n",
       "                \"color\": \"rgba(0, 0, 0, 1.000)\",\n",
       "                \"family\": \"sans-serif\",\n",
       "                \"size\": 15\n",
       "            },\n",
       "            \"text\": \"\"\n",
       "        },\n",
       "        \"traceorder\": \"normal\",\n",
       "        \"x\": 1.0,\n",
       "        \"yanchor\": \"auto\",\n",
       "        \"xanchor\": \"auto\",\n",
       "        \"bordercolor\": \"rgba(0, 0, 0, 1.000)\",\n",
       "        \"bgcolor\": \"rgba(255, 255, 255, 1.000)\",\n",
       "        \"y\": 1.0\n",
       "    },\n",
       "    \"width\": 600\n",
       "}\n",
       ");\n",
       "    });\n",
       "    </script>\n",
       "\n",
       "    </body>\n",
       "</html>\n"
      ]
     },
     "execution_count": 79,
     "metadata": {},
     "output_type": "execute_result"
    }
   ],
   "source": [
    "#import Pkg; Pkg.add(\"PlotlyJS\")\n",
    "\n",
    "plotlyjs()\n",
    "plot(x -> x^2, 0, 10, xlabel =\"x\", ylabel = \"y\", label = \"line\")\n",
    "scatter!(x -> x^2, 0, 10, xlabel =\"x\", ylabel = \"y\", label = \"points\")"
   ]
  },
  {
   "cell_type": "code",
   "execution_count": 80,
   "metadata": {
    "scrolled": false
   },
   "outputs": [
    {
     "data": {
      "application/vnd.plotly.v1+json": {
       "data": [
        {
         "colorbar": {
          "title": ""
         },
         "legendgroup": "y1",
         "line": {
          "color": "rgba(0, 154, 250, 1.000)",
          "dash": "solid",
          "shape": "linear",
          "width": 1
         },
         "mode": "lines",
         "name": "y1",
         "showlegend": true,
         "type": "scatter",
         "x": [
          0,
          0.5,
          1,
          1.5,
          2,
          2.5,
          3,
          3.5,
          4,
          4.5,
          5,
          5.5,
          6,
          6.5,
          7,
          7.5,
          8,
          8.5,
          9,
          9.5,
          10
         ],
         "xaxis": "x1",
         "y": [
          0,
          0.5,
          1,
          1.5,
          2,
          2.5,
          3,
          3.5,
          4,
          4.5,
          5,
          5.5,
          6,
          6.5,
          7,
          7.5,
          8,
          8.5,
          9,
          9.5,
          10
         ],
         "yaxis": "y1",
         "zmax": null,
         "zmin": null
        },
        {
         "colorbar": {
          "title": ""
         },
         "legendgroup": "y2",
         "line": {
          "color": "rgba(0, 154, 250, 1.000)",
          "dash": "solid",
          "shape": "linear",
          "width": 1
         },
         "mode": "lines",
         "name": "y2",
         "showlegend": true,
         "type": "scatter",
         "x": [
          0,
          0.5,
          1,
          1.5,
          2,
          2.5,
          3,
          3.5,
          4,
          4.5,
          5,
          5.5,
          6,
          6.5,
          7,
          7.5,
          8,
          8.5,
          9,
          9.5,
          10
         ],
         "xaxis": "x2",
         "y": [
          0,
          0.25,
          1,
          2.25,
          4,
          6.25,
          9,
          12.25,
          16,
          20.25,
          25,
          30.25,
          36,
          42.25,
          49,
          56.25,
          64,
          72.25,
          81,
          90.25,
          100
         ],
         "yaxis": "y2",
         "zmax": null,
         "zmin": null
        },
        {
         "colorbar": {
          "title": ""
         },
         "legendgroup": "y3",
         "line": {
          "color": "rgba(0, 154, 250, 1.000)",
          "dash": "solid",
          "shape": "linear",
          "width": 1
         },
         "mode": "lines",
         "name": "y3",
         "showlegend": true,
         "type": "scatter",
         "x": [
          0,
          0.5,
          1,
          1.5,
          2,
          2.5,
          3,
          3.5,
          4,
          4.5,
          5,
          5.5,
          6,
          6.5,
          7,
          7.5,
          8,
          8.5,
          9,
          9.5,
          10
         ],
         "xaxis": "x3",
         "y": [
          0,
          0.125,
          1,
          3.375,
          8,
          15.625,
          27,
          42.875,
          64,
          91.125,
          125,
          166.375,
          216,
          274.625,
          343,
          421.875,
          512,
          614.125,
          729,
          857.375,
          1000
         ],
         "yaxis": "y3",
         "zmax": null,
         "zmin": null
        },
        {
         "colorbar": {
          "title": ""
         },
         "legendgroup": "y4",
         "line": {
          "color": "rgba(0, 154, 250, 1.000)",
          "dash": "solid",
          "shape": "linear",
          "width": 1
         },
         "mode": "lines",
         "name": "y4",
         "showlegend": true,
         "type": "scatter",
         "x": [
          0,
          0.5,
          1,
          1.5,
          2,
          2.5,
          3,
          3.5,
          4,
          4.5,
          5,
          5.5,
          6,
          6.5,
          7,
          7.5,
          8,
          8.5,
          9,
          9.5,
          10
         ],
         "xaxis": "x4",
         "y": [
          0,
          0.0625,
          1,
          5.0625,
          16,
          39.0625,
          81,
          150.0625,
          256,
          410.0625,
          625,
          915.0625,
          1296,
          1785.0625,
          2401,
          3164.0625,
          4096,
          5220.0625,
          6561,
          8145.0625,
          10000
         ],
         "yaxis": "y4",
         "zmax": null,
         "zmin": null
        }
       ],
       "layout": {
        "annotations": [],
        "height": 400,
        "legend": {
         "bgcolor": "rgba(255, 255, 255, 1.000)",
         "bordercolor": "rgba(0, 0, 0, 1.000)",
         "borderwidth": 1,
         "font": {
          "color": "rgba(0, 0, 0, 1.000)",
          "family": "sans-serif",
          "size": 11
         },
         "title": {
          "font": {
           "color": "rgba(0, 0, 0, 1.000)",
           "family": "sans-serif",
           "size": 15
          },
          "text": ""
         },
         "tracegroupgap": 0,
         "traceorder": "normal",
         "x": 1,
         "xanchor": "auto",
         "y": 1,
         "yanchor": "auto"
        },
        "margin": {
         "b": 20,
         "l": 0,
         "r": 0,
         "t": 20
        },
        "paper_bgcolor": "rgba(255, 255, 255, 1.000)",
        "plot_bgcolor": "rgba(255, 255, 255, 1.000)",
        "showlegend": true,
        "width": 600,
        "xaxis1": {
         "anchor": "y1",
         "domain": [
          0.0658209390492855,
          0.48603091280256633
         ],
         "gridcolor": "rgba(0, 0, 0, 0.100)",
         "gridwidth": 0.5,
         "linecolor": "rgba(0, 0, 0, 1.000)",
         "mirror": false,
         "range": [
          -0.3,
          10.3
         ],
         "showgrid": true,
         "showline": true,
         "showticklabels": true,
         "tickangle": 0,
         "tickcolor": "rgb(0, 0, 0)",
         "tickfont": {
          "color": "rgba(0, 0, 0, 1.000)",
          "family": "sans-serif",
          "size": 11
         },
         "tickmode": "array",
         "ticks": "inside",
         "ticktext": [
          "0.0",
          "2.5",
          "5.0",
          "7.5",
          "10.0"
         ],
         "tickvals": [
          0,
          2.5,
          5,
          7.5,
          10
         ],
         "title": "",
         "titlefont": {
          "color": "rgba(0, 0, 0, 1.000)",
          "family": "sans-serif",
          "size": 15
         },
         "type": "-",
         "visible": true,
         "zeroline": false,
         "zerolinecolor": "rgba(0, 0, 0, 1.000)"
        },
        "xaxis2": {
         "anchor": "y2",
         "domain": [
          0.573228346456693,
          0.9934383202099738
         ],
         "gridcolor": "rgba(0, 0, 0, 0.100)",
         "gridwidth": 0.5,
         "linecolor": "rgba(0, 0, 0, 1.000)",
         "mirror": false,
         "range": [
          -0.3,
          10.3
         ],
         "showgrid": true,
         "showline": true,
         "showticklabels": true,
         "tickangle": 0,
         "tickcolor": "rgb(0, 0, 0)",
         "tickfont": {
          "color": "rgba(0, 0, 0, 1.000)",
          "family": "sans-serif",
          "size": 11
         },
         "tickmode": "array",
         "ticks": "inside",
         "ticktext": [
          "0.0",
          "2.5",
          "5.0",
          "7.5",
          "10.0"
         ],
         "tickvals": [
          0,
          2.5,
          5,
          7.5,
          10
         ],
         "title": "",
         "titlefont": {
          "color": "rgba(0, 0, 0, 1.000)",
          "family": "sans-serif",
          "size": 15
         },
         "type": "-",
         "visible": true,
         "zeroline": false,
         "zerolinecolor": "rgba(0, 0, 0, 1.000)"
        },
        "xaxis3": {
         "anchor": "y3",
         "domain": [
          0.0658209390492855,
          0.48603091280256633
         ],
         "gridcolor": "rgba(0, 0, 0, 0.100)",
         "gridwidth": 0.5,
         "linecolor": "rgba(0, 0, 0, 1.000)",
         "mirror": false,
         "range": [
          -0.3,
          10.3
         ],
         "showgrid": true,
         "showline": true,
         "showticklabels": true,
         "tickangle": 0,
         "tickcolor": "rgb(0, 0, 0)",
         "tickfont": {
          "color": "rgba(0, 0, 0, 1.000)",
          "family": "sans-serif",
          "size": 11
         },
         "tickmode": "array",
         "ticks": "inside",
         "ticktext": [
          "0.0",
          "2.5",
          "5.0",
          "7.5",
          "10.0"
         ],
         "tickvals": [
          0,
          2.5,
          5,
          7.5,
          10
         ],
         "title": "",
         "titlefont": {
          "color": "rgba(0, 0, 0, 1.000)",
          "family": "sans-serif",
          "size": 15
         },
         "type": "-",
         "visible": true,
         "zeroline": false,
         "zerolinecolor": "rgba(0, 0, 0, 1.000)"
        },
        "xaxis4": {
         "anchor": "y4",
         "domain": [
          0.573228346456693,
          0.9934383202099738
         ],
         "gridcolor": "rgba(0, 0, 0, 0.100)",
         "gridwidth": 0.5,
         "linecolor": "rgba(0, 0, 0, 1.000)",
         "mirror": false,
         "range": [
          -0.3,
          10.3
         ],
         "showgrid": true,
         "showline": true,
         "showticklabels": true,
         "tickangle": 0,
         "tickcolor": "rgb(0, 0, 0)",
         "tickfont": {
          "color": "rgba(0, 0, 0, 1.000)",
          "family": "sans-serif",
          "size": 11
         },
         "tickmode": "array",
         "ticks": "inside",
         "ticktext": [
          "0.0",
          "2.5",
          "5.0",
          "7.5",
          "10.0"
         ],
         "tickvals": [
          0,
          2.5,
          5,
          7.5,
          10
         ],
         "title": "",
         "titlefont": {
          "color": "rgba(0, 0, 0, 1.000)",
          "family": "sans-serif",
          "size": 15
         },
         "type": "-",
         "visible": true,
         "zeroline": false,
         "zerolinecolor": "rgba(0, 0, 0, 1.000)"
        },
        "yaxis1": {
         "anchor": "x1",
         "domain": [
          0.5376202974628171,
          0.9901574803149606
         ],
         "gridcolor": "rgba(0, 0, 0, 0.100)",
         "gridwidth": 0.5,
         "linecolor": "rgba(0, 0, 0, 1.000)",
         "mirror": false,
         "range": [
          -0.3,
          10.3
         ],
         "showgrid": true,
         "showline": true,
         "showticklabels": true,
         "tickangle": 0,
         "tickcolor": "rgb(0, 0, 0)",
         "tickfont": {
          "color": "rgba(0, 0, 0, 1.000)",
          "family": "sans-serif",
          "size": 11
         },
         "tickmode": "array",
         "ticks": "inside",
         "ticktext": [
          "0.0",
          "2.5",
          "5.0",
          "7.5",
          "10.0"
         ],
         "tickvals": [
          0,
          2.5,
          5,
          7.5,
          10
         ],
         "title": "",
         "titlefont": {
          "color": "rgba(0, 0, 0, 1.000)",
          "family": "sans-serif",
          "size": 15
         },
         "type": "-",
         "visible": true,
         "zeroline": false,
         "zerolinecolor": "rgba(0, 0, 0, 1.000)"
        },
        "yaxis2": {
         "anchor": "x2",
         "domain": [
          0.5376202974628171,
          0.9901574803149606
         ],
         "gridcolor": "rgba(0, 0, 0, 0.100)",
         "gridwidth": 0.5,
         "linecolor": "rgba(0, 0, 0, 1.000)",
         "mirror": false,
         "range": [
          -3,
          103
         ],
         "showgrid": true,
         "showline": true,
         "showticklabels": true,
         "tickangle": 0,
         "tickcolor": "rgb(0, 0, 0)",
         "tickfont": {
          "color": "rgba(0, 0, 0, 1.000)",
          "family": "sans-serif",
          "size": 11
         },
         "tickmode": "array",
         "ticks": "inside",
         "ticktext": [
          "0",
          "25",
          "50",
          "75",
          "100"
         ],
         "tickvals": [
          0,
          25,
          50,
          75,
          100
         ],
         "title": "",
         "titlefont": {
          "color": "rgba(0, 0, 0, 1.000)",
          "family": "sans-serif",
          "size": 15
         },
         "type": "-",
         "visible": true,
         "zeroline": false,
         "zerolinecolor": "rgba(0, 0, 0, 1.000)"
        },
        "yaxis3": {
         "anchor": "x3",
         "domain": [
          0.03762029746281716,
          0.4901574803149606
         ],
         "gridcolor": "rgba(0, 0, 0, 0.100)",
         "gridwidth": 0.5,
         "linecolor": "rgba(0, 0, 0, 1.000)",
         "mirror": false,
         "range": [
          -30,
          1030
         ],
         "showgrid": true,
         "showline": true,
         "showticklabels": true,
         "tickangle": 0,
         "tickcolor": "rgb(0, 0, 0)",
         "tickfont": {
          "color": "rgba(0, 0, 0, 1.000)",
          "family": "sans-serif",
          "size": 11
         },
         "tickmode": "array",
         "ticks": "inside",
         "ticktext": [
          "0",
          "250",
          "500",
          "750",
          "1000"
         ],
         "tickvals": [
          0,
          250,
          500,
          750,
          1000
         ],
         "title": "",
         "titlefont": {
          "color": "rgba(0, 0, 0, 1.000)",
          "family": "sans-serif",
          "size": 15
         },
         "type": "-",
         "visible": true,
         "zeroline": false,
         "zerolinecolor": "rgba(0, 0, 0, 1.000)"
        },
        "yaxis4": {
         "anchor": "x4",
         "domain": [
          0.03762029746281716,
          0.4901574803149606
         ],
         "gridcolor": "rgba(0, 0, 0, 0.100)",
         "gridwidth": 0.5,
         "linecolor": "rgba(0, 0, 0, 1.000)",
         "mirror": false,
         "range": [
          -300,
          10300
         ],
         "showgrid": true,
         "showline": true,
         "showticklabels": true,
         "tickangle": 0,
         "tickcolor": "rgb(0, 0, 0)",
         "tickfont": {
          "color": "rgba(0, 0, 0, 1.000)",
          "family": "sans-serif",
          "size": 11
         },
         "tickmode": "array",
         "ticks": "inside",
         "ticktext": [
          "0",
          "2500",
          "5000",
          "7500",
          "10000"
         ],
         "tickvals": [
          0,
          2500,
          5000,
          7500,
          10000
         ],
         "title": "",
         "titlefont": {
          "color": "rgba(0, 0, 0, 1.000)",
          "family": "sans-serif",
          "size": 15
         },
         "type": "-",
         "visible": true,
         "zeroline": false,
         "zerolinecolor": "rgba(0, 0, 0, 1.000)"
        }
       }
      },
      "text/html": [
       "<!DOCTYPE html>\n",
       "<html>\n",
       "    <head>\n",
       "        <title>Plots.jl</title>\n",
       "        <meta http-equiv=\"content-type\" content=\"text/html; charset=UTF-8\">\n",
       "        \n",
       "    </head>\n",
       "    <body>\n",
       "            <div id=\"fedeb028-ae3d-4084-b82a-72a8069d5ffc\" style=\"width:600px;height:400px;\"></div>\n",
       "    <script>\n",
       "        requirejs.config({\n",
       "        paths: {\n",
       "            Plotly: 'https://cdn.plot.ly/plotly-1.57.1.min'\n",
       "        }\n",
       "    });\n",
       "    require(['Plotly'], function (Plotly) {\n",
       "\n",
       "    PLOT = document.getElementById('fedeb028-ae3d-4084-b82a-72a8069d5ffc');\n",
       "    Plotly.plot(PLOT, [\n",
       "    {\n",
       "        \"xaxis\": \"x1\",\n",
       "        \"colorbar\": {\n",
       "            \"title\": \"\"\n",
       "        },\n",
       "        \"yaxis\": \"y1\",\n",
       "        \"x\": [\n",
       "            0.0,\n",
       "            0.5,\n",
       "            1.0,\n",
       "            1.5,\n",
       "            2.0,\n",
       "            2.5,\n",
       "            3.0,\n",
       "            3.5,\n",
       "            4.0,\n",
       "            4.5,\n",
       "            5.0,\n",
       "            5.5,\n",
       "            6.0,\n",
       "            6.5,\n",
       "            7.0,\n",
       "            7.5,\n",
       "            8.0,\n",
       "            8.5,\n",
       "            9.0,\n",
       "            9.5,\n",
       "            10.0\n",
       "        ],\n",
       "        \"showlegend\": true,\n",
       "        \"mode\": \"lines\",\n",
       "        \"name\": \"y1\",\n",
       "        \"zmin\": null,\n",
       "        \"legendgroup\": \"y1\",\n",
       "        \"zmax\": null,\n",
       "        \"line\": {\n",
       "            \"color\": \"rgba(0, 154, 250, 1.000)\",\n",
       "            \"shape\": \"linear\",\n",
       "            \"dash\": \"solid\",\n",
       "            \"width\": 1\n",
       "        },\n",
       "        \"y\": [\n",
       "            0.0,\n",
       "            0.5,\n",
       "            1.0,\n",
       "            1.5,\n",
       "            2.0,\n",
       "            2.5,\n",
       "            3.0,\n",
       "            3.5,\n",
       "            4.0,\n",
       "            4.5,\n",
       "            5.0,\n",
       "            5.5,\n",
       "            6.0,\n",
       "            6.5,\n",
       "            7.0,\n",
       "            7.5,\n",
       "            8.0,\n",
       "            8.5,\n",
       "            9.0,\n",
       "            9.5,\n",
       "            10.0\n",
       "        ],\n",
       "        \"type\": \"scatter\"\n",
       "    },\n",
       "    {\n",
       "        \"xaxis\": \"x2\",\n",
       "        \"colorbar\": {\n",
       "            \"title\": \"\"\n",
       "        },\n",
       "        \"yaxis\": \"y2\",\n",
       "        \"x\": [\n",
       "            0.0,\n",
       "            0.5,\n",
       "            1.0,\n",
       "            1.5,\n",
       "            2.0,\n",
       "            2.5,\n",
       "            3.0,\n",
       "            3.5,\n",
       "            4.0,\n",
       "            4.5,\n",
       "            5.0,\n",
       "            5.5,\n",
       "            6.0,\n",
       "            6.5,\n",
       "            7.0,\n",
       "            7.5,\n",
       "            8.0,\n",
       "            8.5,\n",
       "            9.0,\n",
       "            9.5,\n",
       "            10.0\n",
       "        ],\n",
       "        \"showlegend\": true,\n",
       "        \"mode\": \"lines\",\n",
       "        \"name\": \"y2\",\n",
       "        \"zmin\": null,\n",
       "        \"legendgroup\": \"y2\",\n",
       "        \"zmax\": null,\n",
       "        \"line\": {\n",
       "            \"color\": \"rgba(0, 154, 250, 1.000)\",\n",
       "            \"shape\": \"linear\",\n",
       "            \"dash\": \"solid\",\n",
       "            \"width\": 1\n",
       "        },\n",
       "        \"y\": [\n",
       "            0.0,\n",
       "            0.25,\n",
       "            1.0,\n",
       "            2.25,\n",
       "            4.0,\n",
       "            6.25,\n",
       "            9.0,\n",
       "            12.25,\n",
       "            16.0,\n",
       "            20.25,\n",
       "            25.0,\n",
       "            30.25,\n",
       "            36.0,\n",
       "            42.25,\n",
       "            49.0,\n",
       "            56.25,\n",
       "            64.0,\n",
       "            72.25,\n",
       "            81.0,\n",
       "            90.25,\n",
       "            100.0\n",
       "        ],\n",
       "        \"type\": \"scatter\"\n",
       "    },\n",
       "    {\n",
       "        \"xaxis\": \"x3\",\n",
       "        \"colorbar\": {\n",
       "            \"title\": \"\"\n",
       "        },\n",
       "        \"yaxis\": \"y3\",\n",
       "        \"x\": [\n",
       "            0.0,\n",
       "            0.5,\n",
       "            1.0,\n",
       "            1.5,\n",
       "            2.0,\n",
       "            2.5,\n",
       "            3.0,\n",
       "            3.5,\n",
       "            4.0,\n",
       "            4.5,\n",
       "            5.0,\n",
       "            5.5,\n",
       "            6.0,\n",
       "            6.5,\n",
       "            7.0,\n",
       "            7.5,\n",
       "            8.0,\n",
       "            8.5,\n",
       "            9.0,\n",
       "            9.5,\n",
       "            10.0\n",
       "        ],\n",
       "        \"showlegend\": true,\n",
       "        \"mode\": \"lines\",\n",
       "        \"name\": \"y3\",\n",
       "        \"zmin\": null,\n",
       "        \"legendgroup\": \"y3\",\n",
       "        \"zmax\": null,\n",
       "        \"line\": {\n",
       "            \"color\": \"rgba(0, 154, 250, 1.000)\",\n",
       "            \"shape\": \"linear\",\n",
       "            \"dash\": \"solid\",\n",
       "            \"width\": 1\n",
       "        },\n",
       "        \"y\": [\n",
       "            0.0,\n",
       "            0.125,\n",
       "            1.0,\n",
       "            3.375,\n",
       "            8.0,\n",
       "            15.625,\n",
       "            27.0,\n",
       "            42.875,\n",
       "            64.0,\n",
       "            91.125,\n",
       "            125.0,\n",
       "            166.375,\n",
       "            216.0,\n",
       "            274.625,\n",
       "            343.0,\n",
       "            421.875,\n",
       "            512.0,\n",
       "            614.125,\n",
       "            729.0,\n",
       "            857.375,\n",
       "            1000.0\n",
       "        ],\n",
       "        \"type\": \"scatter\"\n",
       "    },\n",
       "    {\n",
       "        \"xaxis\": \"x4\",\n",
       "        \"colorbar\": {\n",
       "            \"title\": \"\"\n",
       "        },\n",
       "        \"yaxis\": \"y4\",\n",
       "        \"x\": [\n",
       "            0.0,\n",
       "            0.5,\n",
       "            1.0,\n",
       "            1.5,\n",
       "            2.0,\n",
       "            2.5,\n",
       "            3.0,\n",
       "            3.5,\n",
       "            4.0,\n",
       "            4.5,\n",
       "            5.0,\n",
       "            5.5,\n",
       "            6.0,\n",
       "            6.5,\n",
       "            7.0,\n",
       "            7.5,\n",
       "            8.0,\n",
       "            8.5,\n",
       "            9.0,\n",
       "            9.5,\n",
       "            10.0\n",
       "        ],\n",
       "        \"showlegend\": true,\n",
       "        \"mode\": \"lines\",\n",
       "        \"name\": \"y4\",\n",
       "        \"zmin\": null,\n",
       "        \"legendgroup\": \"y4\",\n",
       "        \"zmax\": null,\n",
       "        \"line\": {\n",
       "            \"color\": \"rgba(0, 154, 250, 1.000)\",\n",
       "            \"shape\": \"linear\",\n",
       "            \"dash\": \"solid\",\n",
       "            \"width\": 1\n",
       "        },\n",
       "        \"y\": [\n",
       "            0.0,\n",
       "            0.0625,\n",
       "            1.0,\n",
       "            5.0625,\n",
       "            16.0,\n",
       "            39.0625,\n",
       "            81.0,\n",
       "            150.0625,\n",
       "            256.0,\n",
       "            410.0625,\n",
       "            625.0,\n",
       "            915.0625,\n",
       "            1296.0,\n",
       "            1785.0625,\n",
       "            2401.0,\n",
       "            3164.0625,\n",
       "            4096.0,\n",
       "            5220.0625,\n",
       "            6561.0,\n",
       "            8145.0625,\n",
       "            10000.0\n",
       "        ],\n",
       "        \"type\": \"scatter\"\n",
       "    }\n",
       "]\n",
       ", {\n",
       "    \"paper_bgcolor\": \"rgba(255, 255, 255, 1.000)\",\n",
       "    \"height\": 400,\n",
       "    \"yaxis4\": {\n",
       "        \"showticklabels\": true,\n",
       "        \"gridwidth\": 0.5,\n",
       "        \"tickvals\": [\n",
       "            0.0,\n",
       "            2500.0,\n",
       "            5000.0,\n",
       "            7500.0,\n",
       "            10000.0\n",
       "        ],\n",
       "        \"visible\": true,\n",
       "        \"ticks\": \"inside\",\n",
       "        \"range\": [\n",
       "            -300.0,\n",
       "            10300.0\n",
       "        ],\n",
       "        \"domain\": [\n",
       "            0.03762029746281716,\n",
       "            0.4901574803149606\n",
       "        ],\n",
       "        \"tickmode\": \"array\",\n",
       "        \"linecolor\": \"rgba(0, 0, 0, 1.000)\",\n",
       "        \"showgrid\": true,\n",
       "        \"title\": \"\",\n",
       "        \"mirror\": false,\n",
       "        \"tickangle\": 0,\n",
       "        \"showline\": true,\n",
       "        \"gridcolor\": \"rgba(0, 0, 0, 0.100)\",\n",
       "        \"titlefont\": {\n",
       "            \"color\": \"rgba(0, 0, 0, 1.000)\",\n",
       "            \"family\": \"sans-serif\",\n",
       "            \"size\": 15\n",
       "        },\n",
       "        \"tickcolor\": \"rgb(0, 0, 0)\",\n",
       "        \"ticktext\": [\n",
       "            \"0\",\n",
       "            \"2500\",\n",
       "            \"5000\",\n",
       "            \"7500\",\n",
       "            \"10000\"\n",
       "        ],\n",
       "        \"zeroline\": false,\n",
       "        \"type\": \"-\",\n",
       "        \"tickfont\": {\n",
       "            \"color\": \"rgba(0, 0, 0, 1.000)\",\n",
       "            \"family\": \"sans-serif\",\n",
       "            \"size\": 11\n",
       "        },\n",
       "        \"zerolinecolor\": \"rgba(0, 0, 0, 1.000)\",\n",
       "        \"anchor\": \"x4\"\n",
       "    },\n",
       "    \"yaxis2\": {\n",
       "        \"showticklabels\": true,\n",
       "        \"gridwidth\": 0.5,\n",
       "        \"tickvals\": [\n",
       "            0.0,\n",
       "            25.0,\n",
       "            50.0,\n",
       "            75.0,\n",
       "            100.0\n",
       "        ],\n",
       "        \"visible\": true,\n",
       "        \"ticks\": \"inside\",\n",
       "        \"range\": [\n",
       "            -3.0,\n",
       "            103.0\n",
       "        ],\n",
       "        \"domain\": [\n",
       "            0.5376202974628171,\n",
       "            0.9901574803149606\n",
       "        ],\n",
       "        \"tickmode\": \"array\",\n",
       "        \"linecolor\": \"rgba(0, 0, 0, 1.000)\",\n",
       "        \"showgrid\": true,\n",
       "        \"title\": \"\",\n",
       "        \"mirror\": false,\n",
       "        \"tickangle\": 0,\n",
       "        \"showline\": true,\n",
       "        \"gridcolor\": \"rgba(0, 0, 0, 0.100)\",\n",
       "        \"titlefont\": {\n",
       "            \"color\": \"rgba(0, 0, 0, 1.000)\",\n",
       "            \"family\": \"sans-serif\",\n",
       "            \"size\": 15\n",
       "        },\n",
       "        \"tickcolor\": \"rgb(0, 0, 0)\",\n",
       "        \"ticktext\": [\n",
       "            \"0\",\n",
       "            \"25\",\n",
       "            \"50\",\n",
       "            \"75\",\n",
       "            \"100\"\n",
       "        ],\n",
       "        \"zeroline\": false,\n",
       "        \"type\": \"-\",\n",
       "        \"tickfont\": {\n",
       "            \"color\": \"rgba(0, 0, 0, 1.000)\",\n",
       "            \"family\": \"sans-serif\",\n",
       "            \"size\": 11\n",
       "        },\n",
       "        \"zerolinecolor\": \"rgba(0, 0, 0, 1.000)\",\n",
       "        \"anchor\": \"x2\"\n",
       "    },\n",
       "    \"xaxis3\": {\n",
       "        \"showticklabels\": true,\n",
       "        \"gridwidth\": 0.5,\n",
       "        \"tickvals\": [\n",
       "            0.0,\n",
       "            2.5,\n",
       "            5.0,\n",
       "            7.5,\n",
       "            10.0\n",
       "        ],\n",
       "        \"visible\": true,\n",
       "        \"ticks\": \"inside\",\n",
       "        \"range\": [\n",
       "            -0.3,\n",
       "            10.3\n",
       "        ],\n",
       "        \"domain\": [\n",
       "            0.0658209390492855,\n",
       "            0.48603091280256633\n",
       "        ],\n",
       "        \"tickmode\": \"array\",\n",
       "        \"linecolor\": \"rgba(0, 0, 0, 1.000)\",\n",
       "        \"showgrid\": true,\n",
       "        \"title\": \"\",\n",
       "        \"mirror\": false,\n",
       "        \"tickangle\": 0,\n",
       "        \"showline\": true,\n",
       "        \"gridcolor\": \"rgba(0, 0, 0, 0.100)\",\n",
       "        \"titlefont\": {\n",
       "            \"color\": \"rgba(0, 0, 0, 1.000)\",\n",
       "            \"family\": \"sans-serif\",\n",
       "            \"size\": 15\n",
       "        },\n",
       "        \"tickcolor\": \"rgb(0, 0, 0)\",\n",
       "        \"ticktext\": [\n",
       "            \"0.0\",\n",
       "            \"2.5\",\n",
       "            \"5.0\",\n",
       "            \"7.5\",\n",
       "            \"10.0\"\n",
       "        ],\n",
       "        \"zeroline\": false,\n",
       "        \"type\": \"-\",\n",
       "        \"tickfont\": {\n",
       "            \"color\": \"rgba(0, 0, 0, 1.000)\",\n",
       "            \"family\": \"sans-serif\",\n",
       "            \"size\": 11\n",
       "        },\n",
       "        \"zerolinecolor\": \"rgba(0, 0, 0, 1.000)\",\n",
       "        \"anchor\": \"y3\"\n",
       "    },\n",
       "    \"xaxis4\": {\n",
       "        \"showticklabels\": true,\n",
       "        \"gridwidth\": 0.5,\n",
       "        \"tickvals\": [\n",
       "            0.0,\n",
       "            2.5,\n",
       "            5.0,\n",
       "            7.5,\n",
       "            10.0\n",
       "        ],\n",
       "        \"visible\": true,\n",
       "        \"ticks\": \"inside\",\n",
       "        \"range\": [\n",
       "            -0.3,\n",
       "            10.3\n",
       "        ],\n",
       "        \"domain\": [\n",
       "            0.573228346456693,\n",
       "            0.9934383202099738\n",
       "        ],\n",
       "        \"tickmode\": \"array\",\n",
       "        \"linecolor\": \"rgba(0, 0, 0, 1.000)\",\n",
       "        \"showgrid\": true,\n",
       "        \"title\": \"\",\n",
       "        \"mirror\": false,\n",
       "        \"tickangle\": 0,\n",
       "        \"showline\": true,\n",
       "        \"gridcolor\": \"rgba(0, 0, 0, 0.100)\",\n",
       "        \"titlefont\": {\n",
       "            \"color\": \"rgba(0, 0, 0, 1.000)\",\n",
       "            \"family\": \"sans-serif\",\n",
       "            \"size\": 15\n",
       "        },\n",
       "        \"tickcolor\": \"rgb(0, 0, 0)\",\n",
       "        \"ticktext\": [\n",
       "            \"0.0\",\n",
       "            \"2.5\",\n",
       "            \"5.0\",\n",
       "            \"7.5\",\n",
       "            \"10.0\"\n",
       "        ],\n",
       "        \"zeroline\": false,\n",
       "        \"type\": \"-\",\n",
       "        \"tickfont\": {\n",
       "            \"color\": \"rgba(0, 0, 0, 1.000)\",\n",
       "            \"family\": \"sans-serif\",\n",
       "            \"size\": 11\n",
       "        },\n",
       "        \"zerolinecolor\": \"rgba(0, 0, 0, 1.000)\",\n",
       "        \"anchor\": \"y4\"\n",
       "    },\n",
       "    \"yaxis1\": {\n",
       "        \"showticklabels\": true,\n",
       "        \"gridwidth\": 0.5,\n",
       "        \"tickvals\": [\n",
       "            0.0,\n",
       "            2.5,\n",
       "            5.0,\n",
       "            7.5,\n",
       "            10.0\n",
       "        ],\n",
       "        \"visible\": true,\n",
       "        \"ticks\": \"inside\",\n",
       "        \"range\": [\n",
       "            -0.3,\n",
       "            10.3\n",
       "        ],\n",
       "        \"domain\": [\n",
       "            0.5376202974628171,\n",
       "            0.9901574803149606\n",
       "        ],\n",
       "        \"tickmode\": \"array\",\n",
       "        \"linecolor\": \"rgba(0, 0, 0, 1.000)\",\n",
       "        \"showgrid\": true,\n",
       "        \"title\": \"\",\n",
       "        \"mirror\": false,\n",
       "        \"tickangle\": 0,\n",
       "        \"showline\": true,\n",
       "        \"gridcolor\": \"rgba(0, 0, 0, 0.100)\",\n",
       "        \"titlefont\": {\n",
       "            \"color\": \"rgba(0, 0, 0, 1.000)\",\n",
       "            \"family\": \"sans-serif\",\n",
       "            \"size\": 15\n",
       "        },\n",
       "        \"tickcolor\": \"rgb(0, 0, 0)\",\n",
       "        \"ticktext\": [\n",
       "            \"0.0\",\n",
       "            \"2.5\",\n",
       "            \"5.0\",\n",
       "            \"7.5\",\n",
       "            \"10.0\"\n",
       "        ],\n",
       "        \"zeroline\": false,\n",
       "        \"type\": \"-\",\n",
       "        \"tickfont\": {\n",
       "            \"color\": \"rgba(0, 0, 0, 1.000)\",\n",
       "            \"family\": \"sans-serif\",\n",
       "            \"size\": 11\n",
       "        },\n",
       "        \"zerolinecolor\": \"rgba(0, 0, 0, 1.000)\",\n",
       "        \"anchor\": \"x1\"\n",
       "    },\n",
       "    \"annotations\": [],\n",
       "    \"plot_bgcolor\": \"rgba(255, 255, 255, 1.000)\",\n",
       "    \"showlegend\": true,\n",
       "    \"xaxis1\": {\n",
       "        \"showticklabels\": true,\n",
       "        \"gridwidth\": 0.5,\n",
       "        \"tickvals\": [\n",
       "            0.0,\n",
       "            2.5,\n",
       "            5.0,\n",
       "            7.5,\n",
       "            10.0\n",
       "        ],\n",
       "        \"visible\": true,\n",
       "        \"ticks\": \"inside\",\n",
       "        \"range\": [\n",
       "            -0.3,\n",
       "            10.3\n",
       "        ],\n",
       "        \"domain\": [\n",
       "            0.0658209390492855,\n",
       "            0.48603091280256633\n",
       "        ],\n",
       "        \"tickmode\": \"array\",\n",
       "        \"linecolor\": \"rgba(0, 0, 0, 1.000)\",\n",
       "        \"showgrid\": true,\n",
       "        \"title\": \"\",\n",
       "        \"mirror\": false,\n",
       "        \"tickangle\": 0,\n",
       "        \"showline\": true,\n",
       "        \"gridcolor\": \"rgba(0, 0, 0, 0.100)\",\n",
       "        \"titlefont\": {\n",
       "            \"color\": \"rgba(0, 0, 0, 1.000)\",\n",
       "            \"family\": \"sans-serif\",\n",
       "            \"size\": 15\n",
       "        },\n",
       "        \"tickcolor\": \"rgb(0, 0, 0)\",\n",
       "        \"ticktext\": [\n",
       "            \"0.0\",\n",
       "            \"2.5\",\n",
       "            \"5.0\",\n",
       "            \"7.5\",\n",
       "            \"10.0\"\n",
       "        ],\n",
       "        \"zeroline\": false,\n",
       "        \"type\": \"-\",\n",
       "        \"tickfont\": {\n",
       "            \"color\": \"rgba(0, 0, 0, 1.000)\",\n",
       "            \"family\": \"sans-serif\",\n",
       "            \"size\": 11\n",
       "        },\n",
       "        \"zerolinecolor\": \"rgba(0, 0, 0, 1.000)\",\n",
       "        \"anchor\": \"y1\"\n",
       "    },\n",
       "    \"legend\": {\n",
       "        \"borderwidth\": 1,\n",
       "        \"tracegroupgap\": 0,\n",
       "        \"font\": {\n",
       "            \"color\": \"rgba(0, 0, 0, 1.000)\",\n",
       "            \"family\": \"sans-serif\",\n",
       "            \"size\": 11\n",
       "        },\n",
       "        \"title\": {\n",
       "            \"font\": {\n",
       "                \"color\": \"rgba(0, 0, 0, 1.000)\",\n",
       "                \"family\": \"sans-serif\",\n",
       "                \"size\": 15\n",
       "            },\n",
       "            \"text\": \"\"\n",
       "        },\n",
       "        \"traceorder\": \"normal\",\n",
       "        \"x\": 1.0,\n",
       "        \"yanchor\": \"auto\",\n",
       "        \"xanchor\": \"auto\",\n",
       "        \"bordercolor\": \"rgba(0, 0, 0, 1.000)\",\n",
       "        \"bgcolor\": \"rgba(255, 255, 255, 1.000)\",\n",
       "        \"y\": 1.0\n",
       "    },\n",
       "    \"yaxis3\": {\n",
       "        \"showticklabels\": true,\n",
       "        \"gridwidth\": 0.5,\n",
       "        \"tickvals\": [\n",
       "            0.0,\n",
       "            250.0,\n",
       "            500.0,\n",
       "            750.0,\n",
       "            1000.0\n",
       "        ],\n",
       "        \"visible\": true,\n",
       "        \"ticks\": \"inside\",\n",
       "        \"range\": [\n",
       "            -30.0,\n",
       "            1030.0\n",
       "        ],\n",
       "        \"domain\": [\n",
       "            0.03762029746281716,\n",
       "            0.4901574803149606\n",
       "        ],\n",
       "        \"tickmode\": \"array\",\n",
       "        \"linecolor\": \"rgba(0, 0, 0, 1.000)\",\n",
       "        \"showgrid\": true,\n",
       "        \"title\": \"\",\n",
       "        \"mirror\": false,\n",
       "        \"tickangle\": 0,\n",
       "        \"showline\": true,\n",
       "        \"gridcolor\": \"rgba(0, 0, 0, 0.100)\",\n",
       "        \"titlefont\": {\n",
       "            \"color\": \"rgba(0, 0, 0, 1.000)\",\n",
       "            \"family\": \"sans-serif\",\n",
       "            \"size\": 15\n",
       "        },\n",
       "        \"tickcolor\": \"rgb(0, 0, 0)\",\n",
       "        \"ticktext\": [\n",
       "            \"0\",\n",
       "            \"250\",\n",
       "            \"500\",\n",
       "            \"750\",\n",
       "            \"1000\"\n",
       "        ],\n",
       "        \"zeroline\": false,\n",
       "        \"type\": \"-\",\n",
       "        \"tickfont\": {\n",
       "            \"color\": \"rgba(0, 0, 0, 1.000)\",\n",
       "            \"family\": \"sans-serif\",\n",
       "            \"size\": 11\n",
       "        },\n",
       "        \"zerolinecolor\": \"rgba(0, 0, 0, 1.000)\",\n",
       "        \"anchor\": \"x3\"\n",
       "    },\n",
       "    \"xaxis2\": {\n",
       "        \"showticklabels\": true,\n",
       "        \"gridwidth\": 0.5,\n",
       "        \"tickvals\": [\n",
       "            0.0,\n",
       "            2.5,\n",
       "            5.0,\n",
       "            7.5,\n",
       "            10.0\n",
       "        ],\n",
       "        \"visible\": true,\n",
       "        \"ticks\": \"inside\",\n",
       "        \"range\": [\n",
       "            -0.3,\n",
       "            10.3\n",
       "        ],\n",
       "        \"domain\": [\n",
       "            0.573228346456693,\n",
       "            0.9934383202099738\n",
       "        ],\n",
       "        \"tickmode\": \"array\",\n",
       "        \"linecolor\": \"rgba(0, 0, 0, 1.000)\",\n",
       "        \"showgrid\": true,\n",
       "        \"title\": \"\",\n",
       "        \"mirror\": false,\n",
       "        \"tickangle\": 0,\n",
       "        \"showline\": true,\n",
       "        \"gridcolor\": \"rgba(0, 0, 0, 0.100)\",\n",
       "        \"titlefont\": {\n",
       "            \"color\": \"rgba(0, 0, 0, 1.000)\",\n",
       "            \"family\": \"sans-serif\",\n",
       "            \"size\": 15\n",
       "        },\n",
       "        \"tickcolor\": \"rgb(0, 0, 0)\",\n",
       "        \"ticktext\": [\n",
       "            \"0.0\",\n",
       "            \"2.5\",\n",
       "            \"5.0\",\n",
       "            \"7.5\",\n",
       "            \"10.0\"\n",
       "        ],\n",
       "        \"zeroline\": false,\n",
       "        \"type\": \"-\",\n",
       "        \"tickfont\": {\n",
       "            \"color\": \"rgba(0, 0, 0, 1.000)\",\n",
       "            \"family\": \"sans-serif\",\n",
       "            \"size\": 11\n",
       "        },\n",
       "        \"zerolinecolor\": \"rgba(0, 0, 0, 1.000)\",\n",
       "        \"anchor\": \"y2\"\n",
       "    },\n",
       "    \"margin\": {\n",
       "        \"l\": 0,\n",
       "        \"b\": 20,\n",
       "        \"r\": 0,\n",
       "        \"t\": 20\n",
       "    },\n",
       "    \"width\": 600\n",
       "}\n",
       ");\n",
       "    });\n",
       "    </script>\n",
       "\n",
       "    </body>\n",
       "</html>\n"
      ]
     },
     "execution_count": 80,
     "metadata": {},
     "output_type": "execute_result"
    }
   ],
   "source": [
    "#subplot\n",
    "x = 0:0.5:10\n",
    "\n",
    "y1 = plot(x, x, label = \"y1\")\n",
    "y2 = plot(x, x.^2, label = \"y2\")\n",
    "y3 = plot(x, x.^3, label = \"y3\")\n",
    "y4 = plot(x, x.^4, label = \"y4\")\n",
    "\n",
    "plot(y1,y2,y3,y4)"
   ]
  }
 ],
 "metadata": {
  "kernelspec": {
   "display_name": "Julia 1.5.3",
   "language": "julia",
   "name": "julia-1.5"
  },
  "language_info": {
   "file_extension": ".jl",
   "mimetype": "application/julia",
   "name": "julia",
   "version": "1.5.3"
  }
 },
 "nbformat": 4,
 "nbformat_minor": 4
}
